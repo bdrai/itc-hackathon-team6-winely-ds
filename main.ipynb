{
 "cells": [
  {
   "cell_type": "code",
   "execution_count": 1,
   "id": "3782909b",
   "metadata": {
    "ExecuteTime": {
     "end_time": "2023-01-25T10:02:41.905933Z",
     "start_time": "2023-01-25T10:02:41.195797Z"
    }
   },
   "outputs": [],
   "source": [
    "import numpy as np\n",
    "import matplotlib.pyplot as plt\n",
    "import seaborn as sns\n",
    "import pandas as pd"
   ]
  },
  {
   "cell_type": "code",
   "execution_count": 2,
   "id": "c13aa303",
   "metadata": {
    "ExecuteTime": {
     "end_time": "2023-01-25T10:02:42.701723Z",
     "start_time": "2023-01-25T10:02:41.907030Z"
    }
   },
   "outputs": [
    {
     "data": {
      "text/html": [
       "<div>\n",
       "<style scoped>\n",
       "    .dataframe tbody tr th:only-of-type {\n",
       "        vertical-align: middle;\n",
       "    }\n",
       "\n",
       "    .dataframe tbody tr th {\n",
       "        vertical-align: top;\n",
       "    }\n",
       "\n",
       "    .dataframe thead th {\n",
       "        text-align: right;\n",
       "    }\n",
       "</style>\n",
       "<table border=\"1\" class=\"dataframe\">\n",
       "  <thead>\n",
       "    <tr style=\"text-align: right;\">\n",
       "      <th></th>\n",
       "      <th>Unnamed: 0</th>\n",
       "      <th>country</th>\n",
       "      <th>description</th>\n",
       "      <th>designation</th>\n",
       "      <th>points</th>\n",
       "      <th>price</th>\n",
       "      <th>province</th>\n",
       "      <th>region_1</th>\n",
       "      <th>region_2</th>\n",
       "      <th>taster_name</th>\n",
       "      <th>taster_twitter_handle</th>\n",
       "      <th>title</th>\n",
       "      <th>variety</th>\n",
       "      <th>winery</th>\n",
       "    </tr>\n",
       "  </thead>\n",
       "  <tbody>\n",
       "    <tr>\n",
       "      <th>0</th>\n",
       "      <td>0</td>\n",
       "      <td>Italy</td>\n",
       "      <td>Aromas include tropical fruit, broom, brimston...</td>\n",
       "      <td>Vulkà Bianco</td>\n",
       "      <td>87</td>\n",
       "      <td>NaN</td>\n",
       "      <td>Sicily &amp; Sardinia</td>\n",
       "      <td>Etna</td>\n",
       "      <td>NaN</td>\n",
       "      <td>Kerin O’Keefe</td>\n",
       "      <td>@kerinokeefe</td>\n",
       "      <td>Nicosia 2013 Vulkà Bianco  (Etna)</td>\n",
       "      <td>White Blend</td>\n",
       "      <td>Nicosia</td>\n",
       "    </tr>\n",
       "    <tr>\n",
       "      <th>1</th>\n",
       "      <td>1</td>\n",
       "      <td>Portugal</td>\n",
       "      <td>This is ripe and fruity, a wine that is smooth...</td>\n",
       "      <td>Avidagos</td>\n",
       "      <td>87</td>\n",
       "      <td>15.0</td>\n",
       "      <td>Douro</td>\n",
       "      <td>NaN</td>\n",
       "      <td>NaN</td>\n",
       "      <td>Roger Voss</td>\n",
       "      <td>@vossroger</td>\n",
       "      <td>Quinta dos Avidagos 2011 Avidagos Red (Douro)</td>\n",
       "      <td>Portuguese Red</td>\n",
       "      <td>Quinta dos Avidagos</td>\n",
       "    </tr>\n",
       "    <tr>\n",
       "      <th>2</th>\n",
       "      <td>2</td>\n",
       "      <td>US</td>\n",
       "      <td>Tart and snappy, the flavors of lime flesh and...</td>\n",
       "      <td>NaN</td>\n",
       "      <td>87</td>\n",
       "      <td>14.0</td>\n",
       "      <td>Oregon</td>\n",
       "      <td>Willamette Valley</td>\n",
       "      <td>Willamette Valley</td>\n",
       "      <td>Paul Gregutt</td>\n",
       "      <td>@paulgwine</td>\n",
       "      <td>Rainstorm 2013 Pinot Gris (Willamette Valley)</td>\n",
       "      <td>Pinot Gris</td>\n",
       "      <td>Rainstorm</td>\n",
       "    </tr>\n",
       "    <tr>\n",
       "      <th>3</th>\n",
       "      <td>3</td>\n",
       "      <td>US</td>\n",
       "      <td>Pineapple rind, lemon pith and orange blossom ...</td>\n",
       "      <td>Reserve Late Harvest</td>\n",
       "      <td>87</td>\n",
       "      <td>13.0</td>\n",
       "      <td>Michigan</td>\n",
       "      <td>Lake Michigan Shore</td>\n",
       "      <td>NaN</td>\n",
       "      <td>Alexander Peartree</td>\n",
       "      <td>NaN</td>\n",
       "      <td>St. Julian 2013 Reserve Late Harvest Riesling ...</td>\n",
       "      <td>Riesling</td>\n",
       "      <td>St. Julian</td>\n",
       "    </tr>\n",
       "    <tr>\n",
       "      <th>4</th>\n",
       "      <td>4</td>\n",
       "      <td>US</td>\n",
       "      <td>Much like the regular bottling from 2012, this...</td>\n",
       "      <td>Vintner's Reserve Wild Child Block</td>\n",
       "      <td>87</td>\n",
       "      <td>65.0</td>\n",
       "      <td>Oregon</td>\n",
       "      <td>Willamette Valley</td>\n",
       "      <td>Willamette Valley</td>\n",
       "      <td>Paul Gregutt</td>\n",
       "      <td>@paulgwine</td>\n",
       "      <td>Sweet Cheeks 2012 Vintner's Reserve Wild Child...</td>\n",
       "      <td>Pinot Noir</td>\n",
       "      <td>Sweet Cheeks</td>\n",
       "    </tr>\n",
       "  </tbody>\n",
       "</table>\n",
       "</div>"
      ],
      "text/plain": [
       "   Unnamed: 0   country                                        description  \\\n",
       "0           0     Italy  Aromas include tropical fruit, broom, brimston...   \n",
       "1           1  Portugal  This is ripe and fruity, a wine that is smooth...   \n",
       "2           2        US  Tart and snappy, the flavors of lime flesh and...   \n",
       "3           3        US  Pineapple rind, lemon pith and orange blossom ...   \n",
       "4           4        US  Much like the regular bottling from 2012, this...   \n",
       "\n",
       "                          designation  points  price           province  \\\n",
       "0                        Vulkà Bianco      87    NaN  Sicily & Sardinia   \n",
       "1                            Avidagos      87   15.0              Douro   \n",
       "2                                 NaN      87   14.0             Oregon   \n",
       "3                Reserve Late Harvest      87   13.0           Michigan   \n",
       "4  Vintner's Reserve Wild Child Block      87   65.0             Oregon   \n",
       "\n",
       "              region_1           region_2         taster_name  \\\n",
       "0                 Etna                NaN       Kerin O’Keefe   \n",
       "1                  NaN                NaN          Roger Voss   \n",
       "2    Willamette Valley  Willamette Valley        Paul Gregutt   \n",
       "3  Lake Michigan Shore                NaN  Alexander Peartree   \n",
       "4    Willamette Valley  Willamette Valley        Paul Gregutt   \n",
       "\n",
       "  taster_twitter_handle                                              title  \\\n",
       "0          @kerinokeefe                  Nicosia 2013 Vulkà Bianco  (Etna)   \n",
       "1            @vossroger      Quinta dos Avidagos 2011 Avidagos Red (Douro)   \n",
       "2           @paulgwine       Rainstorm 2013 Pinot Gris (Willamette Valley)   \n",
       "3                   NaN  St. Julian 2013 Reserve Late Harvest Riesling ...   \n",
       "4           @paulgwine   Sweet Cheeks 2012 Vintner's Reserve Wild Child...   \n",
       "\n",
       "          variety               winery  \n",
       "0     White Blend              Nicosia  \n",
       "1  Portuguese Red  Quinta dos Avidagos  \n",
       "2      Pinot Gris            Rainstorm  \n",
       "3        Riesling           St. Julian  \n",
       "4      Pinot Noir         Sweet Cheeks  "
      ]
     },
     "execution_count": 2,
     "metadata": {},
     "output_type": "execute_result"
    }
   ],
   "source": [
    "df = pd.read_csv(\"winemag-data-130k-v2.csv.zip\")\n",
    "df.head()"
   ]
  },
  {
   "cell_type": "code",
   "execution_count": 3,
   "id": "789c5cdd",
   "metadata": {
    "ExecuteTime": {
     "end_time": "2023-01-25T10:02:42.711764Z",
     "start_time": "2023-01-25T10:02:42.703788Z"
    }
   },
   "outputs": [],
   "source": [
    "df = df.drop(columns=[\"Unnamed: 0\", \"designation\", \"taster_name\", \"taster_twitter_handle\"])"
   ]
  },
  {
   "cell_type": "code",
   "execution_count": 4,
   "id": "1bb1289b",
   "metadata": {
    "ExecuteTime": {
     "end_time": "2023-01-25T10:02:42.721192Z",
     "start_time": "2023-01-25T10:02:42.715532Z"
    }
   },
   "outputs": [
    {
     "data": {
      "text/html": [
       "<div>\n",
       "<style scoped>\n",
       "    .dataframe tbody tr th:only-of-type {\n",
       "        vertical-align: middle;\n",
       "    }\n",
       "\n",
       "    .dataframe tbody tr th {\n",
       "        vertical-align: top;\n",
       "    }\n",
       "\n",
       "    .dataframe thead th {\n",
       "        text-align: right;\n",
       "    }\n",
       "</style>\n",
       "<table border=\"1\" class=\"dataframe\">\n",
       "  <thead>\n",
       "    <tr style=\"text-align: right;\">\n",
       "      <th></th>\n",
       "      <th>country</th>\n",
       "      <th>description</th>\n",
       "      <th>points</th>\n",
       "      <th>price</th>\n",
       "      <th>province</th>\n",
       "      <th>region_1</th>\n",
       "      <th>region_2</th>\n",
       "      <th>title</th>\n",
       "      <th>variety</th>\n",
       "      <th>winery</th>\n",
       "    </tr>\n",
       "  </thead>\n",
       "  <tbody>\n",
       "    <tr>\n",
       "      <th>0</th>\n",
       "      <td>Italy</td>\n",
       "      <td>Aromas include tropical fruit, broom, brimston...</td>\n",
       "      <td>87</td>\n",
       "      <td>NaN</td>\n",
       "      <td>Sicily &amp; Sardinia</td>\n",
       "      <td>Etna</td>\n",
       "      <td>NaN</td>\n",
       "      <td>Nicosia 2013 Vulkà Bianco  (Etna)</td>\n",
       "      <td>White Blend</td>\n",
       "      <td>Nicosia</td>\n",
       "    </tr>\n",
       "    <tr>\n",
       "      <th>1</th>\n",
       "      <td>Portugal</td>\n",
       "      <td>This is ripe and fruity, a wine that is smooth...</td>\n",
       "      <td>87</td>\n",
       "      <td>15.0</td>\n",
       "      <td>Douro</td>\n",
       "      <td>NaN</td>\n",
       "      <td>NaN</td>\n",
       "      <td>Quinta dos Avidagos 2011 Avidagos Red (Douro)</td>\n",
       "      <td>Portuguese Red</td>\n",
       "      <td>Quinta dos Avidagos</td>\n",
       "    </tr>\n",
       "    <tr>\n",
       "      <th>2</th>\n",
       "      <td>US</td>\n",
       "      <td>Tart and snappy, the flavors of lime flesh and...</td>\n",
       "      <td>87</td>\n",
       "      <td>14.0</td>\n",
       "      <td>Oregon</td>\n",
       "      <td>Willamette Valley</td>\n",
       "      <td>Willamette Valley</td>\n",
       "      <td>Rainstorm 2013 Pinot Gris (Willamette Valley)</td>\n",
       "      <td>Pinot Gris</td>\n",
       "      <td>Rainstorm</td>\n",
       "    </tr>\n",
       "    <tr>\n",
       "      <th>3</th>\n",
       "      <td>US</td>\n",
       "      <td>Pineapple rind, lemon pith and orange blossom ...</td>\n",
       "      <td>87</td>\n",
       "      <td>13.0</td>\n",
       "      <td>Michigan</td>\n",
       "      <td>Lake Michigan Shore</td>\n",
       "      <td>NaN</td>\n",
       "      <td>St. Julian 2013 Reserve Late Harvest Riesling ...</td>\n",
       "      <td>Riesling</td>\n",
       "      <td>St. Julian</td>\n",
       "    </tr>\n",
       "    <tr>\n",
       "      <th>4</th>\n",
       "      <td>US</td>\n",
       "      <td>Much like the regular bottling from 2012, this...</td>\n",
       "      <td>87</td>\n",
       "      <td>65.0</td>\n",
       "      <td>Oregon</td>\n",
       "      <td>Willamette Valley</td>\n",
       "      <td>Willamette Valley</td>\n",
       "      <td>Sweet Cheeks 2012 Vintner's Reserve Wild Child...</td>\n",
       "      <td>Pinot Noir</td>\n",
       "      <td>Sweet Cheeks</td>\n",
       "    </tr>\n",
       "  </tbody>\n",
       "</table>\n",
       "</div>"
      ],
      "text/plain": [
       "    country                                        description  points  price  \\\n",
       "0     Italy  Aromas include tropical fruit, broom, brimston...      87    NaN   \n",
       "1  Portugal  This is ripe and fruity, a wine that is smooth...      87   15.0   \n",
       "2        US  Tart and snappy, the flavors of lime flesh and...      87   14.0   \n",
       "3        US  Pineapple rind, lemon pith and orange blossom ...      87   13.0   \n",
       "4        US  Much like the regular bottling from 2012, this...      87   65.0   \n",
       "\n",
       "            province             region_1           region_2  \\\n",
       "0  Sicily & Sardinia                 Etna                NaN   \n",
       "1              Douro                  NaN                NaN   \n",
       "2             Oregon    Willamette Valley  Willamette Valley   \n",
       "3           Michigan  Lake Michigan Shore                NaN   \n",
       "4             Oregon    Willamette Valley  Willamette Valley   \n",
       "\n",
       "                                               title         variety  \\\n",
       "0                  Nicosia 2013 Vulkà Bianco  (Etna)     White Blend   \n",
       "1      Quinta dos Avidagos 2011 Avidagos Red (Douro)  Portuguese Red   \n",
       "2      Rainstorm 2013 Pinot Gris (Willamette Valley)      Pinot Gris   \n",
       "3  St. Julian 2013 Reserve Late Harvest Riesling ...        Riesling   \n",
       "4  Sweet Cheeks 2012 Vintner's Reserve Wild Child...      Pinot Noir   \n",
       "\n",
       "                winery  \n",
       "0              Nicosia  \n",
       "1  Quinta dos Avidagos  \n",
       "2            Rainstorm  \n",
       "3           St. Julian  \n",
       "4         Sweet Cheeks  "
      ]
     },
     "execution_count": 4,
     "metadata": {},
     "output_type": "execute_result"
    }
   ],
   "source": [
    "df.head()"
   ]
  },
  {
   "cell_type": "code",
   "execution_count": 5,
   "id": "9ed6d2c8",
   "metadata": {
    "ExecuteTime": {
     "end_time": "2023-01-25T10:02:42.725181Z",
     "start_time": "2023-01-25T10:02:42.722611Z"
    }
   },
   "outputs": [
    {
     "data": {
      "text/plain": [
       "(129971, 10)"
      ]
     },
     "execution_count": 5,
     "metadata": {},
     "output_type": "execute_result"
    }
   ],
   "source": [
    "df.shape"
   ]
  },
  {
   "cell_type": "code",
   "execution_count": 6,
   "id": "99e59c19",
   "metadata": {
    "ExecuteTime": {
     "end_time": "2023-01-25T10:02:42.916651Z",
     "start_time": "2023-01-25T10:02:42.726300Z"
    }
   },
   "outputs": [
    {
     "data": {
      "text/plain": [
       "country            43\n",
       "description    119955\n",
       "points             21\n",
       "price             390\n",
       "province          425\n",
       "region_1         1229\n",
       "region_2           17\n",
       "title          118840\n",
       "variety           707\n",
       "winery          16757\n",
       "dtype: int64"
      ]
     },
     "execution_count": 6,
     "metadata": {},
     "output_type": "execute_result"
    }
   ],
   "source": [
    "df.nunique()"
   ]
  },
  {
   "cell_type": "code",
   "execution_count": 7,
   "id": "34584e88",
   "metadata": {
    "ExecuteTime": {
     "end_time": "2023-01-25T10:02:43.005981Z",
     "start_time": "2023-01-25T10:02:42.917557Z"
    }
   },
   "outputs": [
    {
     "data": {
      "text/plain": [
       "country           63\n",
       "description        0\n",
       "points             0\n",
       "price           8996\n",
       "province          63\n",
       "region_1       21247\n",
       "region_2       79460\n",
       "title              0\n",
       "variety            1\n",
       "winery             0\n",
       "dtype: int64"
      ]
     },
     "execution_count": 7,
     "metadata": {},
     "output_type": "execute_result"
    }
   ],
   "source": [
    "df.isna().sum()"
   ]
  },
  {
   "cell_type": "code",
   "execution_count": 8,
   "id": "4c2cffe3",
   "metadata": {
    "ExecuteTime": {
     "end_time": "2023-01-25T10:02:43.039711Z",
     "start_time": "2023-01-25T10:02:43.006904Z"
    }
   },
   "outputs": [],
   "source": [
    "df.dropna(subset=['country', 'variety'], inplace=True)"
   ]
  },
  {
   "cell_type": "code",
   "execution_count": 9,
   "id": "eb4b1d3a",
   "metadata": {
    "ExecuteTime": {
     "end_time": "2023-01-25T10:02:43.128809Z",
     "start_time": "2023-01-25T10:02:43.040762Z"
    }
   },
   "outputs": [
    {
     "data": {
      "text/plain": [
       "country            0\n",
       "description        0\n",
       "points             0\n",
       "price           8992\n",
       "province           0\n",
       "region_1       21183\n",
       "region_2       79396\n",
       "title              0\n",
       "variety            0\n",
       "winery             0\n",
       "dtype: int64"
      ]
     },
     "execution_count": 9,
     "metadata": {},
     "output_type": "execute_result"
    }
   ],
   "source": [
    "df.isna().sum()"
   ]
  },
  {
   "cell_type": "code",
   "execution_count": 10,
   "id": "f017dc1e",
   "metadata": {
    "ExecuteTime": {
     "end_time": "2023-01-25T10:02:43.141296Z",
     "start_time": "2023-01-25T10:02:43.131773Z"
    }
   },
   "outputs": [],
   "source": [
    "df.drop(columns=[\"region_2\"], inplace=True)"
   ]
  },
  {
   "cell_type": "code",
   "execution_count": 11,
   "id": "d2707586",
   "metadata": {
    "ExecuteTime": {
     "end_time": "2023-01-25T10:02:43.160021Z",
     "start_time": "2023-01-25T10:02:43.142299Z"
    }
   },
   "outputs": [],
   "source": [
    "df[\"region_1\"] = df[\"region_1\"].fillna(\"\")\n",
    "df[\"price\"] = df[\"price\"].fillna(df[\"price\"].median())"
   ]
  },
  {
   "cell_type": "code",
   "execution_count": 12,
   "id": "11fc8f9f",
   "metadata": {
    "ExecuteTime": {
     "end_time": "2023-01-25T10:02:43.352810Z",
     "start_time": "2023-01-25T10:02:43.160963Z"
    }
   },
   "outputs": [],
   "source": [
    "df = df.drop_duplicates()"
   ]
  },
  {
   "cell_type": "code",
   "execution_count": 13,
   "id": "d0b58a4e",
   "metadata": {
    "ExecuteTime": {
     "end_time": "2023-01-25T10:02:43.356494Z",
     "start_time": "2023-01-25T10:02:43.353823Z"
    }
   },
   "outputs": [
    {
     "data": {
      "text/plain": [
       "(119928, 9)"
      ]
     },
     "execution_count": 13,
     "metadata": {},
     "output_type": "execute_result"
    }
   ],
   "source": [
    "df.shape"
   ]
  },
  {
   "cell_type": "code",
   "execution_count": 14,
   "id": "f68d31f5",
   "metadata": {
    "ExecuteTime": {
     "end_time": "2023-01-25T10:02:43.431008Z",
     "start_time": "2023-01-25T10:02:43.357579Z"
    }
   },
   "outputs": [
    {
     "data": {
      "text/plain": [
       "country        0\n",
       "description    0\n",
       "points         0\n",
       "price          0\n",
       "province       0\n",
       "region_1       0\n",
       "title          0\n",
       "variety        0\n",
       "winery         0\n",
       "dtype: int64"
      ]
     },
     "execution_count": 14,
     "metadata": {},
     "output_type": "execute_result"
    }
   ],
   "source": [
    "df.isna().sum()"
   ]
  },
  {
   "cell_type": "code",
   "execution_count": 15,
   "id": "e31e81f3",
   "metadata": {
    "ExecuteTime": {
     "end_time": "2023-01-25T10:02:43.439302Z",
     "start_time": "2023-01-25T10:02:43.432451Z"
    }
   },
   "outputs": [
    {
     "data": {
      "text/plain": [
       "array(['Italy', 'Portugal', 'US', 'Spain', 'France', 'Germany',\n",
       "       'Argentina', 'Chile', 'Australia', 'Austria', 'South Africa',\n",
       "       'New Zealand', 'Israel', 'Hungary', 'Greece', 'Romania', 'Mexico',\n",
       "       'Canada', 'Turkey', 'Czech Republic', 'Slovenia', 'Luxembourg',\n",
       "       'Croatia', 'Georgia', 'Uruguay', 'England', 'Lebanon', 'Serbia',\n",
       "       'Brazil', 'Moldova', 'Morocco', 'Peru', 'India', 'Bulgaria',\n",
       "       'Cyprus', 'Armenia', 'Switzerland', 'Bosnia and Herzegovina',\n",
       "       'Ukraine', 'Slovakia', 'Macedonia', 'China', 'Egypt'], dtype=object)"
      ]
     },
     "execution_count": 15,
     "metadata": {},
     "output_type": "execute_result"
    }
   ],
   "source": [
    "df[\"country\"].unique()"
   ]
  },
  {
   "cell_type": "code",
   "execution_count": null,
   "id": "2b7cad2f",
   "metadata": {
    "ExecuteTime": {
     "end_time": "2023-01-25T09:19:19.700858Z",
     "start_time": "2023-01-25T09:19:19.690305Z"
    }
   },
   "outputs": [],
   "source": []
  },
  {
   "cell_type": "code",
   "execution_count": 16,
   "id": "470f180e",
   "metadata": {
    "ExecuteTime": {
     "end_time": "2023-01-25T10:02:43.513618Z",
     "start_time": "2023-01-25T10:02:43.440161Z"
    }
   },
   "outputs": [
    {
     "data": {
      "text/plain": [
       "country        0\n",
       "description    0\n",
       "points         0\n",
       "price          0\n",
       "province       0\n",
       "region_1       0\n",
       "title          0\n",
       "variety        0\n",
       "winery         0\n",
       "dtype: int64"
      ]
     },
     "execution_count": 16,
     "metadata": {},
     "output_type": "execute_result"
    }
   ],
   "source": [
    "df.isna().sum()"
   ]
  },
  {
   "cell_type": "code",
   "execution_count": 17,
   "id": "1959d1be",
   "metadata": {
    "ExecuteTime": {
     "end_time": "2023-01-25T10:02:43.517078Z",
     "start_time": "2023-01-25T10:02:43.514805Z"
    }
   },
   "outputs": [
    {
     "data": {
      "text/plain": [
       "(119928, 9)"
      ]
     },
     "execution_count": 17,
     "metadata": {},
     "output_type": "execute_result"
    }
   ],
   "source": [
    "df.shape"
   ]
  },
  {
   "cell_type": "code",
   "execution_count": 18,
   "id": "b8c2c6bd",
   "metadata": {
    "ExecuteTime": {
     "end_time": "2023-01-25T10:02:43.525796Z",
     "start_time": "2023-01-25T10:02:43.518177Z"
    }
   },
   "outputs": [
    {
     "data": {
      "text/html": [
       "<div>\n",
       "<style scoped>\n",
       "    .dataframe tbody tr th:only-of-type {\n",
       "        vertical-align: middle;\n",
       "    }\n",
       "\n",
       "    .dataframe tbody tr th {\n",
       "        vertical-align: top;\n",
       "    }\n",
       "\n",
       "    .dataframe thead th {\n",
       "        text-align: right;\n",
       "    }\n",
       "</style>\n",
       "<table border=\"1\" class=\"dataframe\">\n",
       "  <thead>\n",
       "    <tr style=\"text-align: right;\">\n",
       "      <th></th>\n",
       "      <th>country</th>\n",
       "      <th>description</th>\n",
       "      <th>points</th>\n",
       "      <th>price</th>\n",
       "      <th>province</th>\n",
       "      <th>region_1</th>\n",
       "      <th>title</th>\n",
       "      <th>variety</th>\n",
       "      <th>winery</th>\n",
       "    </tr>\n",
       "  </thead>\n",
       "  <tbody>\n",
       "    <tr>\n",
       "      <th>0</th>\n",
       "      <td>Italy</td>\n",
       "      <td>Aromas include tropical fruit, broom, brimston...</td>\n",
       "      <td>87</td>\n",
       "      <td>25.0</td>\n",
       "      <td>Sicily &amp; Sardinia</td>\n",
       "      <td>Etna</td>\n",
       "      <td>Nicosia 2013 Vulkà Bianco  (Etna)</td>\n",
       "      <td>White Blend</td>\n",
       "      <td>Nicosia</td>\n",
       "    </tr>\n",
       "    <tr>\n",
       "      <th>1</th>\n",
       "      <td>Portugal</td>\n",
       "      <td>This is ripe and fruity, a wine that is smooth...</td>\n",
       "      <td>87</td>\n",
       "      <td>15.0</td>\n",
       "      <td>Douro</td>\n",
       "      <td></td>\n",
       "      <td>Quinta dos Avidagos 2011 Avidagos Red (Douro)</td>\n",
       "      <td>Portuguese Red</td>\n",
       "      <td>Quinta dos Avidagos</td>\n",
       "    </tr>\n",
       "    <tr>\n",
       "      <th>2</th>\n",
       "      <td>US</td>\n",
       "      <td>Tart and snappy, the flavors of lime flesh and...</td>\n",
       "      <td>87</td>\n",
       "      <td>14.0</td>\n",
       "      <td>Oregon</td>\n",
       "      <td>Willamette Valley</td>\n",
       "      <td>Rainstorm 2013 Pinot Gris (Willamette Valley)</td>\n",
       "      <td>Pinot Gris</td>\n",
       "      <td>Rainstorm</td>\n",
       "    </tr>\n",
       "    <tr>\n",
       "      <th>3</th>\n",
       "      <td>US</td>\n",
       "      <td>Pineapple rind, lemon pith and orange blossom ...</td>\n",
       "      <td>87</td>\n",
       "      <td>13.0</td>\n",
       "      <td>Michigan</td>\n",
       "      <td>Lake Michigan Shore</td>\n",
       "      <td>St. Julian 2013 Reserve Late Harvest Riesling ...</td>\n",
       "      <td>Riesling</td>\n",
       "      <td>St. Julian</td>\n",
       "    </tr>\n",
       "    <tr>\n",
       "      <th>4</th>\n",
       "      <td>US</td>\n",
       "      <td>Much like the regular bottling from 2012, this...</td>\n",
       "      <td>87</td>\n",
       "      <td>65.0</td>\n",
       "      <td>Oregon</td>\n",
       "      <td>Willamette Valley</td>\n",
       "      <td>Sweet Cheeks 2012 Vintner's Reserve Wild Child...</td>\n",
       "      <td>Pinot Noir</td>\n",
       "      <td>Sweet Cheeks</td>\n",
       "    </tr>\n",
       "    <tr>\n",
       "      <th>...</th>\n",
       "      <td>...</td>\n",
       "      <td>...</td>\n",
       "      <td>...</td>\n",
       "      <td>...</td>\n",
       "      <td>...</td>\n",
       "      <td>...</td>\n",
       "      <td>...</td>\n",
       "      <td>...</td>\n",
       "      <td>...</td>\n",
       "    </tr>\n",
       "    <tr>\n",
       "      <th>119923</th>\n",
       "      <td>Germany</td>\n",
       "      <td>Notes of honeysuckle and cantaloupe sweeten th...</td>\n",
       "      <td>90</td>\n",
       "      <td>28.0</td>\n",
       "      <td>Mosel</td>\n",
       "      <td></td>\n",
       "      <td>Dr. H. Thanisch (Erben Müller-Burggraef) 2013 ...</td>\n",
       "      <td>Riesling</td>\n",
       "      <td>Dr. H. Thanisch (Erben Müller-Burggraef)</td>\n",
       "    </tr>\n",
       "    <tr>\n",
       "      <th>119924</th>\n",
       "      <td>US</td>\n",
       "      <td>Citation is given as much as a decade of bottl...</td>\n",
       "      <td>90</td>\n",
       "      <td>75.0</td>\n",
       "      <td>Oregon</td>\n",
       "      <td>Oregon</td>\n",
       "      <td>Citation 2004 Pinot Noir (Oregon)</td>\n",
       "      <td>Pinot Noir</td>\n",
       "      <td>Citation</td>\n",
       "    </tr>\n",
       "    <tr>\n",
       "      <th>119925</th>\n",
       "      <td>France</td>\n",
       "      <td>Well-drained gravel soil gives this wine its c...</td>\n",
       "      <td>90</td>\n",
       "      <td>30.0</td>\n",
       "      <td>Alsace</td>\n",
       "      <td>Alsace</td>\n",
       "      <td>Domaine Gresser 2013 Kritt Gewurztraminer (Als...</td>\n",
       "      <td>Gewürztraminer</td>\n",
       "      <td>Domaine Gresser</td>\n",
       "    </tr>\n",
       "    <tr>\n",
       "      <th>119926</th>\n",
       "      <td>France</td>\n",
       "      <td>A dry style of Pinot Gris, this is crisp with ...</td>\n",
       "      <td>90</td>\n",
       "      <td>32.0</td>\n",
       "      <td>Alsace</td>\n",
       "      <td>Alsace</td>\n",
       "      <td>Domaine Marcel Deiss 2012 Pinot Gris (Alsace)</td>\n",
       "      <td>Pinot Gris</td>\n",
       "      <td>Domaine Marcel Deiss</td>\n",
       "    </tr>\n",
       "    <tr>\n",
       "      <th>119927</th>\n",
       "      <td>France</td>\n",
       "      <td>Big, rich and off-dry, this is powered by inte...</td>\n",
       "      <td>90</td>\n",
       "      <td>21.0</td>\n",
       "      <td>Alsace</td>\n",
       "      <td>Alsace</td>\n",
       "      <td>Domaine Schoffit 2012 Lieu-dit Harth Cuvée Car...</td>\n",
       "      <td>Gewürztraminer</td>\n",
       "      <td>Domaine Schoffit</td>\n",
       "    </tr>\n",
       "  </tbody>\n",
       "</table>\n",
       "<p>119928 rows × 9 columns</p>\n",
       "</div>"
      ],
      "text/plain": [
       "         country                                        description  points  \\\n",
       "0          Italy  Aromas include tropical fruit, broom, brimston...      87   \n",
       "1       Portugal  This is ripe and fruity, a wine that is smooth...      87   \n",
       "2             US  Tart and snappy, the flavors of lime flesh and...      87   \n",
       "3             US  Pineapple rind, lemon pith and orange blossom ...      87   \n",
       "4             US  Much like the regular bottling from 2012, this...      87   \n",
       "...          ...                                                ...     ...   \n",
       "119923   Germany  Notes of honeysuckle and cantaloupe sweeten th...      90   \n",
       "119924        US  Citation is given as much as a decade of bottl...      90   \n",
       "119925    France  Well-drained gravel soil gives this wine its c...      90   \n",
       "119926    France  A dry style of Pinot Gris, this is crisp with ...      90   \n",
       "119927    France  Big, rich and off-dry, this is powered by inte...      90   \n",
       "\n",
       "        price           province             region_1  \\\n",
       "0        25.0  Sicily & Sardinia                 Etna   \n",
       "1        15.0              Douro                        \n",
       "2        14.0             Oregon    Willamette Valley   \n",
       "3        13.0           Michigan  Lake Michigan Shore   \n",
       "4        65.0             Oregon    Willamette Valley   \n",
       "...       ...                ...                  ...   \n",
       "119923   28.0              Mosel                        \n",
       "119924   75.0             Oregon               Oregon   \n",
       "119925   30.0             Alsace               Alsace   \n",
       "119926   32.0             Alsace               Alsace   \n",
       "119927   21.0             Alsace               Alsace   \n",
       "\n",
       "                                                    title         variety  \\\n",
       "0                       Nicosia 2013 Vulkà Bianco  (Etna)     White Blend   \n",
       "1           Quinta dos Avidagos 2011 Avidagos Red (Douro)  Portuguese Red   \n",
       "2           Rainstorm 2013 Pinot Gris (Willamette Valley)      Pinot Gris   \n",
       "3       St. Julian 2013 Reserve Late Harvest Riesling ...        Riesling   \n",
       "4       Sweet Cheeks 2012 Vintner's Reserve Wild Child...      Pinot Noir   \n",
       "...                                                   ...             ...   \n",
       "119923  Dr. H. Thanisch (Erben Müller-Burggraef) 2013 ...        Riesling   \n",
       "119924                  Citation 2004 Pinot Noir (Oregon)      Pinot Noir   \n",
       "119925  Domaine Gresser 2013 Kritt Gewurztraminer (Als...  Gewürztraminer   \n",
       "119926      Domaine Marcel Deiss 2012 Pinot Gris (Alsace)      Pinot Gris   \n",
       "119927  Domaine Schoffit 2012 Lieu-dit Harth Cuvée Car...  Gewürztraminer   \n",
       "\n",
       "                                          winery  \n",
       "0                                        Nicosia  \n",
       "1                            Quinta dos Avidagos  \n",
       "2                                      Rainstorm  \n",
       "3                                     St. Julian  \n",
       "4                                   Sweet Cheeks  \n",
       "...                                          ...  \n",
       "119923  Dr. H. Thanisch (Erben Müller-Burggraef)  \n",
       "119924                                  Citation  \n",
       "119925                           Domaine Gresser  \n",
       "119926                      Domaine Marcel Deiss  \n",
       "119927                          Domaine Schoffit  \n",
       "\n",
       "[119928 rows x 9 columns]"
      ]
     },
     "execution_count": 18,
     "metadata": {},
     "output_type": "execute_result"
    }
   ],
   "source": [
    "df.reset_index(inplace=True, drop=True)\n",
    "df"
   ]
  },
  {
   "cell_type": "code",
   "execution_count": 19,
   "id": "dface5b6",
   "metadata": {
    "ExecuteTime": {
     "end_time": "2023-01-25T10:02:44.323113Z",
     "start_time": "2023-01-25T10:02:43.526965Z"
    }
   },
   "outputs": [],
   "source": [
    "df.to_csv(\"wine.csv\", index_label=\"wine_index\")"
   ]
  },
  {
   "cell_type": "code",
   "execution_count": 20,
   "id": "f29712cc",
   "metadata": {
    "ExecuteTime": {
     "end_time": "2023-01-25T10:02:44.549957Z",
     "start_time": "2023-01-25T10:02:44.324222Z"
    }
   },
   "outputs": [
    {
     "data": {
      "text/plain": [
       "<AxesSubplot: xlabel='price', ylabel='Density'>"
      ]
     },
     "execution_count": 20,
     "metadata": {},
     "output_type": "execute_result"
    },
    {
     "data": {
      "image/png": "[encoded data removed]",
      "text/plain": [
       "<Figure size 640x480 with 1 Axes>"
      ]
     },
     "metadata": {},
     "output_type": "display_data"
    }
   ],
   "source": [
    "sns.kdeplot(df[\"price\"], )"
   ]
  },
  {
   "cell_type": "code",
   "execution_count": 21,
   "id": "9be1e84c",
   "metadata": {
    "ExecuteTime": {
     "end_time": "2023-01-25T10:05:01.119011Z",
     "start_time": "2023-01-25T10:05:00.940157Z"
    }
   },
   "outputs": [
    {
     "data": {
      "text/plain": [
       "country            43\n",
       "description    119895\n",
       "points             21\n",
       "price             390\n",
       "province          425\n",
       "region_1         1230\n",
       "title          118780\n",
       "variety           701\n",
       "winery          16745\n",
       "dtype: int64"
      ]
     },
     "execution_count": 21,
     "metadata": {},
     "output_type": "execute_result"
    }
   ],
   "source": [
    "df.nunique()"
   ]
  },
  {
   "cell_type": "code",
   "execution_count": 79,
   "id": "c4f1b068",
   "metadata": {
    "ExecuteTime": {
     "end_time": "2023-01-25T10:36:21.341911Z",
     "start_time": "2023-01-25T10:36:21.309093Z"
    }
   },
   "outputs": [],
   "source": [
    "df.drop_duplicates(subset=[\"title\"], inplace=True)"
   ]
  },
  {
   "cell_type": "code",
   "execution_count": 80,
   "id": "322adab7",
   "metadata": {
    "ExecuteTime": {
     "end_time": "2023-01-25T10:36:26.252051Z",
     "start_time": "2023-01-25T10:36:26.067806Z"
    }
   },
   "outputs": [
    {
     "data": {
      "text/plain": [
       "country            43\n",
       "description    118747\n",
       "points             21\n",
       "price             386\n",
       "province          425\n",
       "region_1         1230\n",
       "title          118780\n",
       "variety           701\n",
       "winery          16745\n",
       "dtype: int64"
      ]
     },
     "execution_count": 80,
     "metadata": {},
     "output_type": "execute_result"
    }
   ],
   "source": [
    "df.nunique()"
   ]
  },
  {
   "cell_type": "code",
   "execution_count": 82,
   "id": "c469a527",
   "metadata": {
    "ExecuteTime": {
     "end_time": "2023-01-25T10:36:35.686915Z",
     "start_time": "2023-01-25T10:36:35.683422Z"
    }
   },
   "outputs": [
    {
     "data": {
      "text/plain": [
       "(118780, 9)"
      ]
     },
     "execution_count": 82,
     "metadata": {},
     "output_type": "execute_result"
    }
   ],
   "source": [
    "df.shape"
   ]
  },
  {
   "cell_type": "code",
   "execution_count": 83,
   "id": "9ed0de6b",
   "metadata": {
    "ExecuteTime": {
     "end_time": "2023-01-25T10:36:36.361478Z",
     "start_time": "2023-01-25T10:36:36.336846Z"
    }
   },
   "outputs": [],
   "source": [
    "sub_df = df.drop(columns=['winery', 'region_1'])"
   ]
  },
  {
   "cell_type": "code",
   "execution_count": 84,
   "id": "8c8bf1d3",
   "metadata": {
    "ExecuteTime": {
     "end_time": "2023-01-25T10:36:37.837835Z",
     "start_time": "2023-01-25T10:36:37.816944Z"
    }
   },
   "outputs": [
    {
     "data": {
      "text/html": [
       "<div>\n",
       "<style scoped>\n",
       "    .dataframe tbody tr th:only-of-type {\n",
       "        vertical-align: middle;\n",
       "    }\n",
       "\n",
       "    .dataframe tbody tr th {\n",
       "        vertical-align: top;\n",
       "    }\n",
       "\n",
       "    .dataframe thead th {\n",
       "        text-align: right;\n",
       "    }\n",
       "</style>\n",
       "<table border=\"1\" class=\"dataframe\">\n",
       "  <thead>\n",
       "    <tr style=\"text-align: right;\">\n",
       "      <th></th>\n",
       "      <th>country</th>\n",
       "      <th>description</th>\n",
       "      <th>points</th>\n",
       "      <th>price</th>\n",
       "      <th>province</th>\n",
       "      <th>title</th>\n",
       "      <th>variety</th>\n",
       "    </tr>\n",
       "  </thead>\n",
       "  <tbody>\n",
       "    <tr>\n",
       "      <th>0</th>\n",
       "      <td>Italy</td>\n",
       "      <td>Aromas include tropical fruit, broom, brimston...</td>\n",
       "      <td>87</td>\n",
       "      <td>25.0</td>\n",
       "      <td>Sicily &amp; Sardinia</td>\n",
       "      <td>Nicosia 2013 Vulkà Bianco  (Etna)</td>\n",
       "      <td>White Blend</td>\n",
       "    </tr>\n",
       "    <tr>\n",
       "      <th>1</th>\n",
       "      <td>Portugal</td>\n",
       "      <td>This is ripe and fruity, a wine that is smooth...</td>\n",
       "      <td>87</td>\n",
       "      <td>15.0</td>\n",
       "      <td>Douro</td>\n",
       "      <td>Quinta dos Avidagos 2011 Avidagos Red (Douro)</td>\n",
       "      <td>Portuguese Red</td>\n",
       "    </tr>\n",
       "    <tr>\n",
       "      <th>2</th>\n",
       "      <td>US</td>\n",
       "      <td>Tart and snappy, the flavors of lime flesh and...</td>\n",
       "      <td>87</td>\n",
       "      <td>14.0</td>\n",
       "      <td>Oregon</td>\n",
       "      <td>Rainstorm 2013 Pinot Gris (Willamette Valley)</td>\n",
       "      <td>Pinot Gris</td>\n",
       "    </tr>\n",
       "    <tr>\n",
       "      <th>3</th>\n",
       "      <td>US</td>\n",
       "      <td>Pineapple rind, lemon pith and orange blossom ...</td>\n",
       "      <td>87</td>\n",
       "      <td>13.0</td>\n",
       "      <td>Michigan</td>\n",
       "      <td>St. Julian 2013 Reserve Late Harvest Riesling ...</td>\n",
       "      <td>Riesling</td>\n",
       "    </tr>\n",
       "    <tr>\n",
       "      <th>4</th>\n",
       "      <td>US</td>\n",
       "      <td>Much like the regular bottling from 2012, this...</td>\n",
       "      <td>87</td>\n",
       "      <td>65.0</td>\n",
       "      <td>Oregon</td>\n",
       "      <td>Sweet Cheeks 2012 Vintner's Reserve Wild Child...</td>\n",
       "      <td>Pinot Noir</td>\n",
       "    </tr>\n",
       "  </tbody>\n",
       "</table>\n",
       "</div>"
      ],
      "text/plain": [
       "    country                                        description  points  price  \\\n",
       "0     Italy  Aromas include tropical fruit, broom, brimston...      87   25.0   \n",
       "1  Portugal  This is ripe and fruity, a wine that is smooth...      87   15.0   \n",
       "2        US  Tart and snappy, the flavors of lime flesh and...      87   14.0   \n",
       "3        US  Pineapple rind, lemon pith and orange blossom ...      87   13.0   \n",
       "4        US  Much like the regular bottling from 2012, this...      87   65.0   \n",
       "\n",
       "            province                                              title  \\\n",
       "0  Sicily & Sardinia                  Nicosia 2013 Vulkà Bianco  (Etna)   \n",
       "1              Douro      Quinta dos Avidagos 2011 Avidagos Red (Douro)   \n",
       "2             Oregon      Rainstorm 2013 Pinot Gris (Willamette Valley)   \n",
       "3           Michigan  St. Julian 2013 Reserve Late Harvest Riesling ...   \n",
       "4             Oregon  Sweet Cheeks 2012 Vintner's Reserve Wild Child...   \n",
       "\n",
       "          variety  \n",
       "0     White Blend  \n",
       "1  Portuguese Red  \n",
       "2      Pinot Gris  \n",
       "3        Riesling  \n",
       "4      Pinot Noir  "
      ]
     },
     "execution_count": 84,
     "metadata": {},
     "output_type": "execute_result"
    }
   ],
   "source": [
    "sub_df.head()"
   ]
  },
  {
   "cell_type": "code",
   "execution_count": 86,
   "id": "946dbd90",
   "metadata": {
    "ExecuteTime": {
     "end_time": "2023-01-25T10:36:46.104218Z",
     "start_time": "2023-01-25T10:36:46.090066Z"
    }
   },
   "outputs": [
    {
     "data": {
      "text/html": [
       "<div>\n",
       "<style scoped>\n",
       "    .dataframe tbody tr th:only-of-type {\n",
       "        vertical-align: middle;\n",
       "    }\n",
       "\n",
       "    .dataframe tbody tr th {\n",
       "        vertical-align: top;\n",
       "    }\n",
       "\n",
       "    .dataframe thead th {\n",
       "        text-align: right;\n",
       "    }\n",
       "</style>\n",
       "<table border=\"1\" class=\"dataframe\">\n",
       "  <thead>\n",
       "    <tr style=\"text-align: right;\">\n",
       "      <th></th>\n",
       "      <th>country</th>\n",
       "      <th>description</th>\n",
       "      <th>points</th>\n",
       "      <th>price</th>\n",
       "      <th>province</th>\n",
       "      <th>variety</th>\n",
       "    </tr>\n",
       "    <tr>\n",
       "      <th>title</th>\n",
       "      <th></th>\n",
       "      <th></th>\n",
       "      <th></th>\n",
       "      <th></th>\n",
       "      <th></th>\n",
       "      <th></th>\n",
       "    </tr>\n",
       "  </thead>\n",
       "  <tbody>\n",
       "    <tr>\n",
       "      <th>Nicosia 2013 Vulkà Bianco  (Etna)</th>\n",
       "      <td>Italy</td>\n",
       "      <td>Aromas include tropical fruit, broom, brimston...</td>\n",
       "      <td>87</td>\n",
       "      <td>25.0</td>\n",
       "      <td>Sicily &amp; Sardinia</td>\n",
       "      <td>White Blend</td>\n",
       "    </tr>\n",
       "    <tr>\n",
       "      <th>Quinta dos Avidagos 2011 Avidagos Red (Douro)</th>\n",
       "      <td>Portugal</td>\n",
       "      <td>This is ripe and fruity, a wine that is smooth...</td>\n",
       "      <td>87</td>\n",
       "      <td>15.0</td>\n",
       "      <td>Douro</td>\n",
       "      <td>Portuguese Red</td>\n",
       "    </tr>\n",
       "    <tr>\n",
       "      <th>Rainstorm 2013 Pinot Gris (Willamette Valley)</th>\n",
       "      <td>US</td>\n",
       "      <td>Tart and snappy, the flavors of lime flesh and...</td>\n",
       "      <td>87</td>\n",
       "      <td>14.0</td>\n",
       "      <td>Oregon</td>\n",
       "      <td>Pinot Gris</td>\n",
       "    </tr>\n",
       "    <tr>\n",
       "      <th>St. Julian 2013 Reserve Late Harvest Riesling (Lake Michigan Shore)</th>\n",
       "      <td>US</td>\n",
       "      <td>Pineapple rind, lemon pith and orange blossom ...</td>\n",
       "      <td>87</td>\n",
       "      <td>13.0</td>\n",
       "      <td>Michigan</td>\n",
       "      <td>Riesling</td>\n",
       "    </tr>\n",
       "    <tr>\n",
       "      <th>Sweet Cheeks 2012 Vintner's Reserve Wild Child Block Pinot Noir (Willamette Valley)</th>\n",
       "      <td>US</td>\n",
       "      <td>Much like the regular bottling from 2012, this...</td>\n",
       "      <td>87</td>\n",
       "      <td>65.0</td>\n",
       "      <td>Oregon</td>\n",
       "      <td>Pinot Noir</td>\n",
       "    </tr>\n",
       "  </tbody>\n",
       "</table>\n",
       "</div>"
      ],
      "text/plain": [
       "                                                     country  \\\n",
       "title                                                          \n",
       "Nicosia 2013 Vulkà Bianco  (Etna)                      Italy   \n",
       "Quinta dos Avidagos 2011 Avidagos Red (Douro)       Portugal   \n",
       "Rainstorm 2013 Pinot Gris (Willamette Valley)             US   \n",
       "St. Julian 2013 Reserve Late Harvest Riesling (...        US   \n",
       "Sweet Cheeks 2012 Vintner's Reserve Wild Child ...        US   \n",
       "\n",
       "                                                                                          description  \\\n",
       "title                                                                                                   \n",
       "Nicosia 2013 Vulkà Bianco  (Etna)                   Aromas include tropical fruit, broom, brimston...   \n",
       "Quinta dos Avidagos 2011 Avidagos Red (Douro)       This is ripe and fruity, a wine that is smooth...   \n",
       "Rainstorm 2013 Pinot Gris (Willamette Valley)       Tart and snappy, the flavors of lime flesh and...   \n",
       "St. Julian 2013 Reserve Late Harvest Riesling (...  Pineapple rind, lemon pith and orange blossom ...   \n",
       "Sweet Cheeks 2012 Vintner's Reserve Wild Child ...  Much like the regular bottling from 2012, this...   \n",
       "\n",
       "                                                    points  price  \\\n",
       "title                                                               \n",
       "Nicosia 2013 Vulkà Bianco  (Etna)                       87   25.0   \n",
       "Quinta dos Avidagos 2011 Avidagos Red (Douro)           87   15.0   \n",
       "Rainstorm 2013 Pinot Gris (Willamette Valley)           87   14.0   \n",
       "St. Julian 2013 Reserve Late Harvest Riesling (...      87   13.0   \n",
       "Sweet Cheeks 2012 Vintner's Reserve Wild Child ...      87   65.0   \n",
       "\n",
       "                                                             province  \\\n",
       "title                                                                   \n",
       "Nicosia 2013 Vulkà Bianco  (Etna)                   Sicily & Sardinia   \n",
       "Quinta dos Avidagos 2011 Avidagos Red (Douro)                   Douro   \n",
       "Rainstorm 2013 Pinot Gris (Willamette Valley)                  Oregon   \n",
       "St. Julian 2013 Reserve Late Harvest Riesling (...           Michigan   \n",
       "Sweet Cheeks 2012 Vintner's Reserve Wild Child ...             Oregon   \n",
       "\n",
       "                                                           variety  \n",
       "title                                                               \n",
       "Nicosia 2013 Vulkà Bianco  (Etna)                      White Blend  \n",
       "Quinta dos Avidagos 2011 Avidagos Red (Douro)       Portuguese Red  \n",
       "Rainstorm 2013 Pinot Gris (Willamette Valley)           Pinot Gris  \n",
       "St. Julian 2013 Reserve Late Harvest Riesling (...        Riesling  \n",
       "Sweet Cheeks 2012 Vintner's Reserve Wild Child ...      Pinot Noir  "
      ]
     },
     "execution_count": 86,
     "metadata": {},
     "output_type": "execute_result"
    }
   ],
   "source": [
    "sub_df.set_index('title', inplace=True)\n",
    "sub_df.head()"
   ]
  },
  {
   "cell_type": "code",
   "execution_count": 87,
   "id": "3c7f44d4",
   "metadata": {
    "ExecuteTime": {
     "end_time": "2023-01-25T10:36:47.879351Z",
     "start_time": "2023-01-25T10:36:47.859457Z"
    }
   },
   "outputs": [
    {
     "data": {
      "text/plain": [
       "(118780, 6)"
      ]
     },
     "execution_count": 87,
     "metadata": {},
     "output_type": "execute_result"
    }
   ],
   "source": [
    "sub_df.shape"
   ]
  },
  {
   "cell_type": "code",
   "execution_count": 91,
   "id": "4906a757",
   "metadata": {
    "ExecuteTime": {
     "end_time": "2023-01-25T10:37:05.978939Z",
     "start_time": "2023-01-25T10:37:05.052639Z"
    }
   },
   "outputs": [
    {
     "data": {
      "text/html": [
       "<div>\n",
       "<style scoped>\n",
       "    .dataframe tbody tr th:only-of-type {\n",
       "        vertical-align: middle;\n",
       "    }\n",
       "\n",
       "    .dataframe tbody tr th {\n",
       "        vertical-align: top;\n",
       "    }\n",
       "\n",
       "    .dataframe thead th {\n",
       "        text-align: right;\n",
       "    }\n",
       "</style>\n",
       "<table border=\"1\" class=\"dataframe\">\n",
       "  <thead>\n",
       "    <tr style=\"text-align: right;\">\n",
       "      <th></th>\n",
       "      <th>description</th>\n",
       "      <th>points</th>\n",
       "      <th>price</th>\n",
       "      <th>country_Argentina</th>\n",
       "      <th>country_Armenia</th>\n",
       "      <th>country_Australia</th>\n",
       "      <th>country_Austria</th>\n",
       "      <th>country_Bosnia and Herzegovina</th>\n",
       "      <th>country_Brazil</th>\n",
       "      <th>country_Bulgaria</th>\n",
       "      <th>...</th>\n",
       "      <th>variety_Yapincak</th>\n",
       "      <th>variety_Zelen</th>\n",
       "      <th>variety_Zibibbo</th>\n",
       "      <th>variety_Zierfandler</th>\n",
       "      <th>variety_Zierfandler-Rotgipfler</th>\n",
       "      <th>variety_Zinfandel</th>\n",
       "      <th>variety_Zlahtina</th>\n",
       "      <th>variety_Zweigelt</th>\n",
       "      <th>variety_Çalkarası</th>\n",
       "      <th>variety_Žilavka</th>\n",
       "    </tr>\n",
       "    <tr>\n",
       "      <th>title</th>\n",
       "      <th></th>\n",
       "      <th></th>\n",
       "      <th></th>\n",
       "      <th></th>\n",
       "      <th></th>\n",
       "      <th></th>\n",
       "      <th></th>\n",
       "      <th></th>\n",
       "      <th></th>\n",
       "      <th></th>\n",
       "      <th></th>\n",
       "      <th></th>\n",
       "      <th></th>\n",
       "      <th></th>\n",
       "      <th></th>\n",
       "      <th></th>\n",
       "      <th></th>\n",
       "      <th></th>\n",
       "      <th></th>\n",
       "      <th></th>\n",
       "      <th></th>\n",
       "    </tr>\n",
       "  </thead>\n",
       "  <tbody>\n",
       "    <tr>\n",
       "      <th>L. Tramier &amp; Fils 2012  Bourgogne Hautes Côtes de Beaune</th>\n",
       "      <td>From the slopes high on the hillside above Bea...</td>\n",
       "      <td>86</td>\n",
       "      <td>25.0</td>\n",
       "      <td>0</td>\n",
       "      <td>0</td>\n",
       "      <td>0</td>\n",
       "      <td>0</td>\n",
       "      <td>0</td>\n",
       "      <td>0</td>\n",
       "      <td>0</td>\n",
       "      <td>...</td>\n",
       "      <td>0</td>\n",
       "      <td>0</td>\n",
       "      <td>0</td>\n",
       "      <td>0</td>\n",
       "      <td>0</td>\n",
       "      <td>0</td>\n",
       "      <td>0</td>\n",
       "      <td>0</td>\n",
       "      <td>0</td>\n",
       "      <td>0</td>\n",
       "    </tr>\n",
       "    <tr>\n",
       "      <th>Domaine de la Foliette 2015 Vieilles Vignes Clos de la Fontaine Sur Lie  (Muscadet Sèvre et Maine)</th>\n",
       "      <td>A smooth and creamy wine that is also full of ...</td>\n",
       "      <td>87</td>\n",
       "      <td>18.0</td>\n",
       "      <td>0</td>\n",
       "      <td>0</td>\n",
       "      <td>0</td>\n",
       "      <td>0</td>\n",
       "      <td>0</td>\n",
       "      <td>0</td>\n",
       "      <td>0</td>\n",
       "      <td>...</td>\n",
       "      <td>0</td>\n",
       "      <td>0</td>\n",
       "      <td>0</td>\n",
       "      <td>0</td>\n",
       "      <td>0</td>\n",
       "      <td>0</td>\n",
       "      <td>0</td>\n",
       "      <td>0</td>\n",
       "      <td>0</td>\n",
       "      <td>0</td>\n",
       "    </tr>\n",
       "    <tr>\n",
       "      <th>Hubert Meyer 2010 Riesling (Alsace)</th>\n",
       "      <td>Already showing some maturity, this is a finel...</td>\n",
       "      <td>88</td>\n",
       "      <td>12.0</td>\n",
       "      <td>0</td>\n",
       "      <td>0</td>\n",
       "      <td>0</td>\n",
       "      <td>0</td>\n",
       "      <td>0</td>\n",
       "      <td>0</td>\n",
       "      <td>0</td>\n",
       "      <td>...</td>\n",
       "      <td>0</td>\n",
       "      <td>0</td>\n",
       "      <td>0</td>\n",
       "      <td>0</td>\n",
       "      <td>0</td>\n",
       "      <td>0</td>\n",
       "      <td>0</td>\n",
       "      <td>0</td>\n",
       "      <td>0</td>\n",
       "      <td>0</td>\n",
       "    </tr>\n",
       "    <tr>\n",
       "      <th>Adega Cooperativa de Borba 2002 Garrafeira Red (Alentejo)</th>\n",
       "      <td>Only the second garrafeira (the name means spe...</td>\n",
       "      <td>90</td>\n",
       "      <td>22.0</td>\n",
       "      <td>0</td>\n",
       "      <td>0</td>\n",
       "      <td>0</td>\n",
       "      <td>0</td>\n",
       "      <td>0</td>\n",
       "      <td>0</td>\n",
       "      <td>0</td>\n",
       "      <td>...</td>\n",
       "      <td>0</td>\n",
       "      <td>0</td>\n",
       "      <td>0</td>\n",
       "      <td>0</td>\n",
       "      <td>0</td>\n",
       "      <td>0</td>\n",
       "      <td>0</td>\n",
       "      <td>0</td>\n",
       "      <td>0</td>\n",
       "      <td>0</td>\n",
       "    </tr>\n",
       "    <tr>\n",
       "      <th>Goat Bubbles 2014 Solomon Hills Vineyard Rosé Sparkling (Santa Maria Valley)</th>\n",
       "      <td>This sparkler from a coveted property on the w...</td>\n",
       "      <td>91</td>\n",
       "      <td>42.0</td>\n",
       "      <td>0</td>\n",
       "      <td>0</td>\n",
       "      <td>0</td>\n",
       "      <td>0</td>\n",
       "      <td>0</td>\n",
       "      <td>0</td>\n",
       "      <td>0</td>\n",
       "      <td>...</td>\n",
       "      <td>0</td>\n",
       "      <td>0</td>\n",
       "      <td>0</td>\n",
       "      <td>0</td>\n",
       "      <td>0</td>\n",
       "      <td>0</td>\n",
       "      <td>0</td>\n",
       "      <td>0</td>\n",
       "      <td>0</td>\n",
       "      <td>0</td>\n",
       "    </tr>\n",
       "  </tbody>\n",
       "</table>\n",
       "<p>5 rows × 1172 columns</p>\n",
       "</div>"
      ],
      "text/plain": [
       "                                                                                          description  \\\n",
       "title                                                                                                   \n",
       "L. Tramier & Fils 2012  Bourgogne Hautes Côtes ...  From the slopes high on the hillside above Bea...   \n",
       "Domaine de la Foliette 2015 Vieilles Vignes Clo...  A smooth and creamy wine that is also full of ...   \n",
       "Hubert Meyer 2010 Riesling (Alsace)                 Already showing some maturity, this is a finel...   \n",
       "Adega Cooperativa de Borba 2002 Garrafeira Red ...  Only the second garrafeira (the name means spe...   \n",
       "Goat Bubbles 2014 Solomon Hills Vineyard Rosé S...  This sparkler from a coveted property on the w...   \n",
       "\n",
       "                                                    points  price  \\\n",
       "title                                                               \n",
       "L. Tramier & Fils 2012  Bourgogne Hautes Côtes ...      86   25.0   \n",
       "Domaine de la Foliette 2015 Vieilles Vignes Clo...      87   18.0   \n",
       "Hubert Meyer 2010 Riesling (Alsace)                     88   12.0   \n",
       "Adega Cooperativa de Borba 2002 Garrafeira Red ...      90   22.0   \n",
       "Goat Bubbles 2014 Solomon Hills Vineyard Rosé S...      91   42.0   \n",
       "\n",
       "                                                    country_Argentina  \\\n",
       "title                                                                   \n",
       "L. Tramier & Fils 2012  Bourgogne Hautes Côtes ...                  0   \n",
       "Domaine de la Foliette 2015 Vieilles Vignes Clo...                  0   \n",
       "Hubert Meyer 2010 Riesling (Alsace)                                 0   \n",
       "Adega Cooperativa de Borba 2002 Garrafeira Red ...                  0   \n",
       "Goat Bubbles 2014 Solomon Hills Vineyard Rosé S...                  0   \n",
       "\n",
       "                                                    country_Armenia  \\\n",
       "title                                                                 \n",
       "L. Tramier & Fils 2012  Bourgogne Hautes Côtes ...                0   \n",
       "Domaine de la Foliette 2015 Vieilles Vignes Clo...                0   \n",
       "Hubert Meyer 2010 Riesling (Alsace)                               0   \n",
       "Adega Cooperativa de Borba 2002 Garrafeira Red ...                0   \n",
       "Goat Bubbles 2014 Solomon Hills Vineyard Rosé S...                0   \n",
       "\n",
       "                                                    country_Australia  \\\n",
       "title                                                                   \n",
       "L. Tramier & Fils 2012  Bourgogne Hautes Côtes ...                  0   \n",
       "Domaine de la Foliette 2015 Vieilles Vignes Clo...                  0   \n",
       "Hubert Meyer 2010 Riesling (Alsace)                                 0   \n",
       "Adega Cooperativa de Borba 2002 Garrafeira Red ...                  0   \n",
       "Goat Bubbles 2014 Solomon Hills Vineyard Rosé S...                  0   \n",
       "\n",
       "                                                    country_Austria  \\\n",
       "title                                                                 \n",
       "L. Tramier & Fils 2012  Bourgogne Hautes Côtes ...                0   \n",
       "Domaine de la Foliette 2015 Vieilles Vignes Clo...                0   \n",
       "Hubert Meyer 2010 Riesling (Alsace)                               0   \n",
       "Adega Cooperativa de Borba 2002 Garrafeira Red ...                0   \n",
       "Goat Bubbles 2014 Solomon Hills Vineyard Rosé S...                0   \n",
       "\n",
       "                                                    country_Bosnia and Herzegovina  \\\n",
       "title                                                                                \n",
       "L. Tramier & Fils 2012  Bourgogne Hautes Côtes ...                               0   \n",
       "Domaine de la Foliette 2015 Vieilles Vignes Clo...                               0   \n",
       "Hubert Meyer 2010 Riesling (Alsace)                                              0   \n",
       "Adega Cooperativa de Borba 2002 Garrafeira Red ...                               0   \n",
       "Goat Bubbles 2014 Solomon Hills Vineyard Rosé S...                               0   \n",
       "\n",
       "                                                    country_Brazil  \\\n",
       "title                                                                \n",
       "L. Tramier & Fils 2012  Bourgogne Hautes Côtes ...               0   \n",
       "Domaine de la Foliette 2015 Vieilles Vignes Clo...               0   \n",
       "Hubert Meyer 2010 Riesling (Alsace)                              0   \n",
       "Adega Cooperativa de Borba 2002 Garrafeira Red ...               0   \n",
       "Goat Bubbles 2014 Solomon Hills Vineyard Rosé S...               0   \n",
       "\n",
       "                                                    country_Bulgaria  ...  \\\n",
       "title                                                                 ...   \n",
       "L. Tramier & Fils 2012  Bourgogne Hautes Côtes ...                 0  ...   \n",
       "Domaine de la Foliette 2015 Vieilles Vignes Clo...                 0  ...   \n",
       "Hubert Meyer 2010 Riesling (Alsace)                                0  ...   \n",
       "Adega Cooperativa de Borba 2002 Garrafeira Red ...                 0  ...   \n",
       "Goat Bubbles 2014 Solomon Hills Vineyard Rosé S...                 0  ...   \n",
       "\n",
       "                                                    variety_Yapincak  \\\n",
       "title                                                                  \n",
       "L. Tramier & Fils 2012  Bourgogne Hautes Côtes ...                 0   \n",
       "Domaine de la Foliette 2015 Vieilles Vignes Clo...                 0   \n",
       "Hubert Meyer 2010 Riesling (Alsace)                                0   \n",
       "Adega Cooperativa de Borba 2002 Garrafeira Red ...                 0   \n",
       "Goat Bubbles 2014 Solomon Hills Vineyard Rosé S...                 0   \n",
       "\n",
       "                                                    variety_Zelen  \\\n",
       "title                                                               \n",
       "L. Tramier & Fils 2012  Bourgogne Hautes Côtes ...              0   \n",
       "Domaine de la Foliette 2015 Vieilles Vignes Clo...              0   \n",
       "Hubert Meyer 2010 Riesling (Alsace)                             0   \n",
       "Adega Cooperativa de Borba 2002 Garrafeira Red ...              0   \n",
       "Goat Bubbles 2014 Solomon Hills Vineyard Rosé S...              0   \n",
       "\n",
       "                                                    variety_Zibibbo  \\\n",
       "title                                                                 \n",
       "L. Tramier & Fils 2012  Bourgogne Hautes Côtes ...                0   \n",
       "Domaine de la Foliette 2015 Vieilles Vignes Clo...                0   \n",
       "Hubert Meyer 2010 Riesling (Alsace)                               0   \n",
       "Adega Cooperativa de Borba 2002 Garrafeira Red ...                0   \n",
       "Goat Bubbles 2014 Solomon Hills Vineyard Rosé S...                0   \n",
       "\n",
       "                                                    variety_Zierfandler  \\\n",
       "title                                                                     \n",
       "L. Tramier & Fils 2012  Bourgogne Hautes Côtes ...                    0   \n",
       "Domaine de la Foliette 2015 Vieilles Vignes Clo...                    0   \n",
       "Hubert Meyer 2010 Riesling (Alsace)                                   0   \n",
       "Adega Cooperativa de Borba 2002 Garrafeira Red ...                    0   \n",
       "Goat Bubbles 2014 Solomon Hills Vineyard Rosé S...                    0   \n",
       "\n",
       "                                                    variety_Zierfandler-Rotgipfler  \\\n",
       "title                                                                                \n",
       "L. Tramier & Fils 2012  Bourgogne Hautes Côtes ...                               0   \n",
       "Domaine de la Foliette 2015 Vieilles Vignes Clo...                               0   \n",
       "Hubert Meyer 2010 Riesling (Alsace)                                              0   \n",
       "Adega Cooperativa de Borba 2002 Garrafeira Red ...                               0   \n",
       "Goat Bubbles 2014 Solomon Hills Vineyard Rosé S...                               0   \n",
       "\n",
       "                                                    variety_Zinfandel  \\\n",
       "title                                                                   \n",
       "L. Tramier & Fils 2012  Bourgogne Hautes Côtes ...                  0   \n",
       "Domaine de la Foliette 2015 Vieilles Vignes Clo...                  0   \n",
       "Hubert Meyer 2010 Riesling (Alsace)                                 0   \n",
       "Adega Cooperativa de Borba 2002 Garrafeira Red ...                  0   \n",
       "Goat Bubbles 2014 Solomon Hills Vineyard Rosé S...                  0   \n",
       "\n",
       "                                                    variety_Zlahtina  \\\n",
       "title                                                                  \n",
       "L. Tramier & Fils 2012  Bourgogne Hautes Côtes ...                 0   \n",
       "Domaine de la Foliette 2015 Vieilles Vignes Clo...                 0   \n",
       "Hubert Meyer 2010 Riesling (Alsace)                                0   \n",
       "Adega Cooperativa de Borba 2002 Garrafeira Red ...                 0   \n",
       "Goat Bubbles 2014 Solomon Hills Vineyard Rosé S...                 0   \n",
       "\n",
       "                                                    variety_Zweigelt  \\\n",
       "title                                                                  \n",
       "L. Tramier & Fils 2012  Bourgogne Hautes Côtes ...                 0   \n",
       "Domaine de la Foliette 2015 Vieilles Vignes Clo...                 0   \n",
       "Hubert Meyer 2010 Riesling (Alsace)                                0   \n",
       "Adega Cooperativa de Borba 2002 Garrafeira Red ...                 0   \n",
       "Goat Bubbles 2014 Solomon Hills Vineyard Rosé S...                 0   \n",
       "\n",
       "                                                    variety_Çalkarası  \\\n",
       "title                                                                   \n",
       "L. Tramier & Fils 2012  Bourgogne Hautes Côtes ...                  0   \n",
       "Domaine de la Foliette 2015 Vieilles Vignes Clo...                  0   \n",
       "Hubert Meyer 2010 Riesling (Alsace)                                 0   \n",
       "Adega Cooperativa de Borba 2002 Garrafeira Red ...                  0   \n",
       "Goat Bubbles 2014 Solomon Hills Vineyard Rosé S...                  0   \n",
       "\n",
       "                                                    variety_Žilavka  \n",
       "title                                                                \n",
       "L. Tramier & Fils 2012  Bourgogne Hautes Côtes ...                0  \n",
       "Domaine de la Foliette 2015 Vieilles Vignes Clo...                0  \n",
       "Hubert Meyer 2010 Riesling (Alsace)                               0  \n",
       "Adega Cooperativa de Borba 2002 Garrafeira Red ...                0  \n",
       "Goat Bubbles 2014 Solomon Hills Vineyard Rosé S...                0  \n",
       "\n",
       "[5 rows x 1172 columns]"
      ]
     },
     "execution_count": 91,
     "metadata": {},
     "output_type": "execute_result"
    }
   ],
   "source": [
    "dummies = pd.get_dummies(sub_df[[\"country\", \"province\", \"variety\"]])\n",
    "df_dummies = sub_df.join(dummies).drop(columns=[\"country\", \"province\", \"variety\"])\n",
    "df_dummies.sample(5)"
   ]
  },
  {
   "cell_type": "code",
   "execution_count": 92,
   "id": "712299d1",
   "metadata": {
    "ExecuteTime": {
     "end_time": "2023-01-25T10:37:06.084775Z",
     "start_time": "2023-01-25T10:37:06.082376Z"
    }
   },
   "outputs": [
    {
     "data": {
      "text/plain": [
       "(118780, 1172)"
      ]
     },
     "execution_count": 92,
     "metadata": {},
     "output_type": "execute_result"
    }
   ],
   "source": [
    "df_dummies.shape"
   ]
  },
  {
   "cell_type": "code",
   "execution_count": 93,
   "id": "c171844e",
   "metadata": {
    "ExecuteTime": {
     "end_time": "2023-01-25T10:37:16.321309Z",
     "start_time": "2023-01-25T10:37:14.170537Z"
    }
   },
   "outputs": [],
   "source": [
    "from sklearn.feature_extraction.text import CountVectorizer\n",
    "\n",
    "vectorizer = CountVectorizer(max_features=100, stop_words='english')\n",
    "X = vectorizer.fit_transform(df_dummies['description'])"
   ]
  },
  {
   "cell_type": "code",
   "execution_count": 94,
   "id": "0f3fa753",
   "metadata": {
    "ExecuteTime": {
     "end_time": "2023-01-25T10:37:16.953082Z",
     "start_time": "2023-01-25T10:37:16.938406Z"
    }
   },
   "outputs": [
    {
     "data": {
      "text/plain": [
       "(118780, 100)"
      ]
     },
     "execution_count": 94,
     "metadata": {},
     "output_type": "execute_result"
    }
   ],
   "source": [
    "X.shape"
   ]
  },
  {
   "cell_type": "code",
   "execution_count": 95,
   "id": "8f249ac0",
   "metadata": {
    "ExecuteTime": {
     "end_time": "2023-01-25T10:37:18.429175Z",
     "start_time": "2023-01-25T10:37:18.401598Z"
    }
   },
   "outputs": [],
   "source": [
    "df_description = pd.DataFrame(X.toarray(), columns=vectorizer.get_feature_names_out(), index=df_dummies.index)"
   ]
  },
  {
   "cell_type": "code",
   "execution_count": 96,
   "id": "e663b188",
   "metadata": {
    "ExecuteTime": {
     "end_time": "2023-01-25T10:37:21.551214Z",
     "start_time": "2023-01-25T10:37:21.528396Z"
    }
   },
   "outputs": [
    {
     "data": {
      "text/html": [
       "<div>\n",
       "<style scoped>\n",
       "    .dataframe tbody tr th:only-of-type {\n",
       "        vertical-align: middle;\n",
       "    }\n",
       "\n",
       "    .dataframe tbody tr th {\n",
       "        vertical-align: top;\n",
       "    }\n",
       "\n",
       "    .dataframe thead th {\n",
       "        text-align: right;\n",
       "    }\n",
       "</style>\n",
       "<table border=\"1\" class=\"dataframe\">\n",
       "  <thead>\n",
       "    <tr style=\"text-align: right;\">\n",
       "      <th></th>\n",
       "      <th>acidity</th>\n",
       "      <th>age</th>\n",
       "      <th>aging</th>\n",
       "      <th>alongside</th>\n",
       "      <th>apple</th>\n",
       "      <th>aromas</th>\n",
       "      <th>balance</th>\n",
       "      <th>balanced</th>\n",
       "      <th>berry</th>\n",
       "      <th>bit</th>\n",
       "      <th>...</th>\n",
       "      <th>texture</th>\n",
       "      <th>toast</th>\n",
       "      <th>tobacco</th>\n",
       "      <th>touch</th>\n",
       "      <th>vanilla</th>\n",
       "      <th>vineyard</th>\n",
       "      <th>white</th>\n",
       "      <th>wine</th>\n",
       "      <th>wood</th>\n",
       "      <th>years</th>\n",
       "    </tr>\n",
       "    <tr>\n",
       "      <th>title</th>\n",
       "      <th></th>\n",
       "      <th></th>\n",
       "      <th></th>\n",
       "      <th></th>\n",
       "      <th></th>\n",
       "      <th></th>\n",
       "      <th></th>\n",
       "      <th></th>\n",
       "      <th></th>\n",
       "      <th></th>\n",
       "      <th></th>\n",
       "      <th></th>\n",
       "      <th></th>\n",
       "      <th></th>\n",
       "      <th></th>\n",
       "      <th></th>\n",
       "      <th></th>\n",
       "      <th></th>\n",
       "      <th></th>\n",
       "      <th></th>\n",
       "      <th></th>\n",
       "    </tr>\n",
       "  </thead>\n",
       "  <tbody>\n",
       "    <tr>\n",
       "      <th>Nicosia 2013 Vulkà Bianco  (Etna)</th>\n",
       "      <td>1</td>\n",
       "      <td>0</td>\n",
       "      <td>0</td>\n",
       "      <td>1</td>\n",
       "      <td>1</td>\n",
       "      <td>1</td>\n",
       "      <td>0</td>\n",
       "      <td>0</td>\n",
       "      <td>0</td>\n",
       "      <td>0</td>\n",
       "      <td>...</td>\n",
       "      <td>0</td>\n",
       "      <td>0</td>\n",
       "      <td>0</td>\n",
       "      <td>0</td>\n",
       "      <td>0</td>\n",
       "      <td>0</td>\n",
       "      <td>0</td>\n",
       "      <td>0</td>\n",
       "      <td>0</td>\n",
       "      <td>0</td>\n",
       "    </tr>\n",
       "    <tr>\n",
       "      <th>Quinta dos Avidagos 2011 Avidagos Red (Douro)</th>\n",
       "      <td>1</td>\n",
       "      <td>0</td>\n",
       "      <td>0</td>\n",
       "      <td>0</td>\n",
       "      <td>0</td>\n",
       "      <td>0</td>\n",
       "      <td>0</td>\n",
       "      <td>0</td>\n",
       "      <td>1</td>\n",
       "      <td>0</td>\n",
       "      <td>...</td>\n",
       "      <td>0</td>\n",
       "      <td>0</td>\n",
       "      <td>0</td>\n",
       "      <td>0</td>\n",
       "      <td>0</td>\n",
       "      <td>0</td>\n",
       "      <td>0</td>\n",
       "      <td>1</td>\n",
       "      <td>0</td>\n",
       "      <td>0</td>\n",
       "    </tr>\n",
       "    <tr>\n",
       "      <th>Rainstorm 2013 Pinot Gris (Willamette Valley)</th>\n",
       "      <td>1</td>\n",
       "      <td>0</td>\n",
       "      <td>0</td>\n",
       "      <td>0</td>\n",
       "      <td>0</td>\n",
       "      <td>0</td>\n",
       "      <td>0</td>\n",
       "      <td>0</td>\n",
       "      <td>0</td>\n",
       "      <td>0</td>\n",
       "      <td>...</td>\n",
       "      <td>0</td>\n",
       "      <td>0</td>\n",
       "      <td>0</td>\n",
       "      <td>0</td>\n",
       "      <td>0</td>\n",
       "      <td>0</td>\n",
       "      <td>0</td>\n",
       "      <td>1</td>\n",
       "      <td>0</td>\n",
       "      <td>0</td>\n",
       "    </tr>\n",
       "    <tr>\n",
       "      <th>St. Julian 2013 Reserve Late Harvest Riesling (Lake Michigan Shore)</th>\n",
       "      <td>0</td>\n",
       "      <td>0</td>\n",
       "      <td>0</td>\n",
       "      <td>0</td>\n",
       "      <td>0</td>\n",
       "      <td>1</td>\n",
       "      <td>0</td>\n",
       "      <td>0</td>\n",
       "      <td>0</td>\n",
       "      <td>1</td>\n",
       "      <td>...</td>\n",
       "      <td>0</td>\n",
       "      <td>0</td>\n",
       "      <td>0</td>\n",
       "      <td>0</td>\n",
       "      <td>0</td>\n",
       "      <td>0</td>\n",
       "      <td>0</td>\n",
       "      <td>0</td>\n",
       "      <td>0</td>\n",
       "      <td>0</td>\n",
       "    </tr>\n",
       "    <tr>\n",
       "      <th>Sweet Cheeks 2012 Vintner's Reserve Wild Child Block Pinot Noir (Willamette Valley)</th>\n",
       "      <td>0</td>\n",
       "      <td>0</td>\n",
       "      <td>0</td>\n",
       "      <td>0</td>\n",
       "      <td>0</td>\n",
       "      <td>0</td>\n",
       "      <td>0</td>\n",
       "      <td>0</td>\n",
       "      <td>0</td>\n",
       "      <td>0</td>\n",
       "      <td>...</td>\n",
       "      <td>0</td>\n",
       "      <td>0</td>\n",
       "      <td>0</td>\n",
       "      <td>0</td>\n",
       "      <td>0</td>\n",
       "      <td>0</td>\n",
       "      <td>0</td>\n",
       "      <td>1</td>\n",
       "      <td>0</td>\n",
       "      <td>0</td>\n",
       "    </tr>\n",
       "  </tbody>\n",
       "</table>\n",
       "<p>5 rows × 100 columns</p>\n",
       "</div>"
      ],
      "text/plain": [
       "                                                    acidity  age  aging  \\\n",
       "title                                                                     \n",
       "Nicosia 2013 Vulkà Bianco  (Etna)                         1    0      0   \n",
       "Quinta dos Avidagos 2011 Avidagos Red (Douro)             1    0      0   \n",
       "Rainstorm 2013 Pinot Gris (Willamette Valley)             1    0      0   \n",
       "St. Julian 2013 Reserve Late Harvest Riesling (...        0    0      0   \n",
       "Sweet Cheeks 2012 Vintner's Reserve Wild Child ...        0    0      0   \n",
       "\n",
       "                                                    alongside  apple  aromas  \\\n",
       "title                                                                          \n",
       "Nicosia 2013 Vulkà Bianco  (Etna)                           1      1       1   \n",
       "Quinta dos Avidagos 2011 Avidagos Red (Douro)               0      0       0   \n",
       "Rainstorm 2013 Pinot Gris (Willamette Valley)               0      0       0   \n",
       "St. Julian 2013 Reserve Late Harvest Riesling (...          0      0       1   \n",
       "Sweet Cheeks 2012 Vintner's Reserve Wild Child ...          0      0       0   \n",
       "\n",
       "                                                    balance  balanced  berry  \\\n",
       "title                                                                          \n",
       "Nicosia 2013 Vulkà Bianco  (Etna)                         0         0      0   \n",
       "Quinta dos Avidagos 2011 Avidagos Red (Douro)             0         0      1   \n",
       "Rainstorm 2013 Pinot Gris (Willamette Valley)             0         0      0   \n",
       "St. Julian 2013 Reserve Late Harvest Riesling (...        0         0      0   \n",
       "Sweet Cheeks 2012 Vintner's Reserve Wild Child ...        0         0      0   \n",
       "\n",
       "                                                    bit  ...  texture  toast  \\\n",
       "title                                                    ...                   \n",
       "Nicosia 2013 Vulkà Bianco  (Etna)                     0  ...        0      0   \n",
       "Quinta dos Avidagos 2011 Avidagos Red (Douro)         0  ...        0      0   \n",
       "Rainstorm 2013 Pinot Gris (Willamette Valley)         0  ...        0      0   \n",
       "St. Julian 2013 Reserve Late Harvest Riesling (...    1  ...        0      0   \n",
       "Sweet Cheeks 2012 Vintner's Reserve Wild Child ...    0  ...        0      0   \n",
       "\n",
       "                                                    tobacco  touch  vanilla  \\\n",
       "title                                                                         \n",
       "Nicosia 2013 Vulkà Bianco  (Etna)                         0      0        0   \n",
       "Quinta dos Avidagos 2011 Avidagos Red (Douro)             0      0        0   \n",
       "Rainstorm 2013 Pinot Gris (Willamette Valley)             0      0        0   \n",
       "St. Julian 2013 Reserve Late Harvest Riesling (...        0      0        0   \n",
       "Sweet Cheeks 2012 Vintner's Reserve Wild Child ...        0      0        0   \n",
       "\n",
       "                                                    vineyard  white  wine  \\\n",
       "title                                                                       \n",
       "Nicosia 2013 Vulkà Bianco  (Etna)                          0      0     0   \n",
       "Quinta dos Avidagos 2011 Avidagos Red (Douro)              0      0     1   \n",
       "Rainstorm 2013 Pinot Gris (Willamette Valley)              0      0     1   \n",
       "St. Julian 2013 Reserve Late Harvest Riesling (...         0      0     0   \n",
       "Sweet Cheeks 2012 Vintner's Reserve Wild Child ...         0      0     1   \n",
       "\n",
       "                                                    wood  years  \n",
       "title                                                            \n",
       "Nicosia 2013 Vulkà Bianco  (Etna)                      0      0  \n",
       "Quinta dos Avidagos 2011 Avidagos Red (Douro)          0      0  \n",
       "Rainstorm 2013 Pinot Gris (Willamette Valley)          0      0  \n",
       "St. Julian 2013 Reserve Late Harvest Riesling (...     0      0  \n",
       "Sweet Cheeks 2012 Vintner's Reserve Wild Child ...     0      0  \n",
       "\n",
       "[5 rows x 100 columns]"
      ]
     },
     "execution_count": 96,
     "metadata": {},
     "output_type": "execute_result"
    }
   ],
   "source": [
    "df_description.head(5)"
   ]
  },
  {
   "cell_type": "code",
   "execution_count": 97,
   "id": "86b4ad7c",
   "metadata": {
    "ExecuteTime": {
     "end_time": "2023-01-25T10:37:27.281556Z",
     "start_time": "2023-01-25T10:37:27.146927Z"
    }
   },
   "outputs": [
    {
     "data": {
      "text/html": [
       "<div>\n",
       "<style scoped>\n",
       "    .dataframe tbody tr th:only-of-type {\n",
       "        vertical-align: middle;\n",
       "    }\n",
       "\n",
       "    .dataframe tbody tr th {\n",
       "        vertical-align: top;\n",
       "    }\n",
       "\n",
       "    .dataframe thead th {\n",
       "        text-align: right;\n",
       "    }\n",
       "</style>\n",
       "<table border=\"1\" class=\"dataframe\">\n",
       "  <thead>\n",
       "    <tr style=\"text-align: right;\">\n",
       "      <th></th>\n",
       "      <th>points</th>\n",
       "      <th>price</th>\n",
       "      <th>country_Argentina</th>\n",
       "      <th>country_Armenia</th>\n",
       "      <th>country_Australia</th>\n",
       "      <th>country_Austria</th>\n",
       "      <th>country_Bosnia and Herzegovina</th>\n",
       "      <th>country_Brazil</th>\n",
       "      <th>country_Bulgaria</th>\n",
       "      <th>country_Canada</th>\n",
       "      <th>...</th>\n",
       "      <th>texture</th>\n",
       "      <th>toast</th>\n",
       "      <th>tobacco</th>\n",
       "      <th>touch</th>\n",
       "      <th>vanilla</th>\n",
       "      <th>vineyard</th>\n",
       "      <th>white</th>\n",
       "      <th>wine</th>\n",
       "      <th>wood</th>\n",
       "      <th>years</th>\n",
       "    </tr>\n",
       "    <tr>\n",
       "      <th>title</th>\n",
       "      <th></th>\n",
       "      <th></th>\n",
       "      <th></th>\n",
       "      <th></th>\n",
       "      <th></th>\n",
       "      <th></th>\n",
       "      <th></th>\n",
       "      <th></th>\n",
       "      <th></th>\n",
       "      <th></th>\n",
       "      <th></th>\n",
       "      <th></th>\n",
       "      <th></th>\n",
       "      <th></th>\n",
       "      <th></th>\n",
       "      <th></th>\n",
       "      <th></th>\n",
       "      <th></th>\n",
       "      <th></th>\n",
       "      <th></th>\n",
       "      <th></th>\n",
       "    </tr>\n",
       "  </thead>\n",
       "  <tbody>\n",
       "    <tr>\n",
       "      <th>Nicosia 2013 Vulkà Bianco  (Etna)</th>\n",
       "      <td>87</td>\n",
       "      <td>25.0</td>\n",
       "      <td>0</td>\n",
       "      <td>0</td>\n",
       "      <td>0</td>\n",
       "      <td>0</td>\n",
       "      <td>0</td>\n",
       "      <td>0</td>\n",
       "      <td>0</td>\n",
       "      <td>0</td>\n",
       "      <td>...</td>\n",
       "      <td>0</td>\n",
       "      <td>0</td>\n",
       "      <td>0</td>\n",
       "      <td>0</td>\n",
       "      <td>0</td>\n",
       "      <td>0</td>\n",
       "      <td>0</td>\n",
       "      <td>0</td>\n",
       "      <td>0</td>\n",
       "      <td>0</td>\n",
       "    </tr>\n",
       "    <tr>\n",
       "      <th>Quinta dos Avidagos 2011 Avidagos Red (Douro)</th>\n",
       "      <td>87</td>\n",
       "      <td>15.0</td>\n",
       "      <td>0</td>\n",
       "      <td>0</td>\n",
       "      <td>0</td>\n",
       "      <td>0</td>\n",
       "      <td>0</td>\n",
       "      <td>0</td>\n",
       "      <td>0</td>\n",
       "      <td>0</td>\n",
       "      <td>...</td>\n",
       "      <td>0</td>\n",
       "      <td>0</td>\n",
       "      <td>0</td>\n",
       "      <td>0</td>\n",
       "      <td>0</td>\n",
       "      <td>0</td>\n",
       "      <td>0</td>\n",
       "      <td>1</td>\n",
       "      <td>0</td>\n",
       "      <td>0</td>\n",
       "    </tr>\n",
       "    <tr>\n",
       "      <th>Rainstorm 2013 Pinot Gris (Willamette Valley)</th>\n",
       "      <td>87</td>\n",
       "      <td>14.0</td>\n",
       "      <td>0</td>\n",
       "      <td>0</td>\n",
       "      <td>0</td>\n",
       "      <td>0</td>\n",
       "      <td>0</td>\n",
       "      <td>0</td>\n",
       "      <td>0</td>\n",
       "      <td>0</td>\n",
       "      <td>...</td>\n",
       "      <td>0</td>\n",
       "      <td>0</td>\n",
       "      <td>0</td>\n",
       "      <td>0</td>\n",
       "      <td>0</td>\n",
       "      <td>0</td>\n",
       "      <td>0</td>\n",
       "      <td>1</td>\n",
       "      <td>0</td>\n",
       "      <td>0</td>\n",
       "    </tr>\n",
       "    <tr>\n",
       "      <th>St. Julian 2013 Reserve Late Harvest Riesling (Lake Michigan Shore)</th>\n",
       "      <td>87</td>\n",
       "      <td>13.0</td>\n",
       "      <td>0</td>\n",
       "      <td>0</td>\n",
       "      <td>0</td>\n",
       "      <td>0</td>\n",
       "      <td>0</td>\n",
       "      <td>0</td>\n",
       "      <td>0</td>\n",
       "      <td>0</td>\n",
       "      <td>...</td>\n",
       "      <td>0</td>\n",
       "      <td>0</td>\n",
       "      <td>0</td>\n",
       "      <td>0</td>\n",
       "      <td>0</td>\n",
       "      <td>0</td>\n",
       "      <td>0</td>\n",
       "      <td>0</td>\n",
       "      <td>0</td>\n",
       "      <td>0</td>\n",
       "    </tr>\n",
       "    <tr>\n",
       "      <th>Sweet Cheeks 2012 Vintner's Reserve Wild Child Block Pinot Noir (Willamette Valley)</th>\n",
       "      <td>87</td>\n",
       "      <td>65.0</td>\n",
       "      <td>0</td>\n",
       "      <td>0</td>\n",
       "      <td>0</td>\n",
       "      <td>0</td>\n",
       "      <td>0</td>\n",
       "      <td>0</td>\n",
       "      <td>0</td>\n",
       "      <td>0</td>\n",
       "      <td>...</td>\n",
       "      <td>0</td>\n",
       "      <td>0</td>\n",
       "      <td>0</td>\n",
       "      <td>0</td>\n",
       "      <td>0</td>\n",
       "      <td>0</td>\n",
       "      <td>0</td>\n",
       "      <td>1</td>\n",
       "      <td>0</td>\n",
       "      <td>0</td>\n",
       "    </tr>\n",
       "  </tbody>\n",
       "</table>\n",
       "<p>5 rows × 1271 columns</p>\n",
       "</div>"
      ],
      "text/plain": [
       "                                                    points  price  \\\n",
       "title                                                               \n",
       "Nicosia 2013 Vulkà Bianco  (Etna)                       87   25.0   \n",
       "Quinta dos Avidagos 2011 Avidagos Red (Douro)           87   15.0   \n",
       "Rainstorm 2013 Pinot Gris (Willamette Valley)           87   14.0   \n",
       "St. Julian 2013 Reserve Late Harvest Riesling (...      87   13.0   \n",
       "Sweet Cheeks 2012 Vintner's Reserve Wild Child ...      87   65.0   \n",
       "\n",
       "                                                    country_Argentina  \\\n",
       "title                                                                   \n",
       "Nicosia 2013 Vulkà Bianco  (Etna)                                   0   \n",
       "Quinta dos Avidagos 2011 Avidagos Red (Douro)                       0   \n",
       "Rainstorm 2013 Pinot Gris (Willamette Valley)                       0   \n",
       "St. Julian 2013 Reserve Late Harvest Riesling (...                  0   \n",
       "Sweet Cheeks 2012 Vintner's Reserve Wild Child ...                  0   \n",
       "\n",
       "                                                    country_Armenia  \\\n",
       "title                                                                 \n",
       "Nicosia 2013 Vulkà Bianco  (Etna)                                 0   \n",
       "Quinta dos Avidagos 2011 Avidagos Red (Douro)                     0   \n",
       "Rainstorm 2013 Pinot Gris (Willamette Valley)                     0   \n",
       "St. Julian 2013 Reserve Late Harvest Riesling (...                0   \n",
       "Sweet Cheeks 2012 Vintner's Reserve Wild Child ...                0   \n",
       "\n",
       "                                                    country_Australia  \\\n",
       "title                                                                   \n",
       "Nicosia 2013 Vulkà Bianco  (Etna)                                   0   \n",
       "Quinta dos Avidagos 2011 Avidagos Red (Douro)                       0   \n",
       "Rainstorm 2013 Pinot Gris (Willamette Valley)                       0   \n",
       "St. Julian 2013 Reserve Late Harvest Riesling (...                  0   \n",
       "Sweet Cheeks 2012 Vintner's Reserve Wild Child ...                  0   \n",
       "\n",
       "                                                    country_Austria  \\\n",
       "title                                                                 \n",
       "Nicosia 2013 Vulkà Bianco  (Etna)                                 0   \n",
       "Quinta dos Avidagos 2011 Avidagos Red (Douro)                     0   \n",
       "Rainstorm 2013 Pinot Gris (Willamette Valley)                     0   \n",
       "St. Julian 2013 Reserve Late Harvest Riesling (...                0   \n",
       "Sweet Cheeks 2012 Vintner's Reserve Wild Child ...                0   \n",
       "\n",
       "                                                    country_Bosnia and Herzegovina  \\\n",
       "title                                                                                \n",
       "Nicosia 2013 Vulkà Bianco  (Etna)                                                0   \n",
       "Quinta dos Avidagos 2011 Avidagos Red (Douro)                                    0   \n",
       "Rainstorm 2013 Pinot Gris (Willamette Valley)                                    0   \n",
       "St. Julian 2013 Reserve Late Harvest Riesling (...                               0   \n",
       "Sweet Cheeks 2012 Vintner's Reserve Wild Child ...                               0   \n",
       "\n",
       "                                                    country_Brazil  \\\n",
       "title                                                                \n",
       "Nicosia 2013 Vulkà Bianco  (Etna)                                0   \n",
       "Quinta dos Avidagos 2011 Avidagos Red (Douro)                    0   \n",
       "Rainstorm 2013 Pinot Gris (Willamette Valley)                    0   \n",
       "St. Julian 2013 Reserve Late Harvest Riesling (...               0   \n",
       "Sweet Cheeks 2012 Vintner's Reserve Wild Child ...               0   \n",
       "\n",
       "                                                    country_Bulgaria  \\\n",
       "title                                                                  \n",
       "Nicosia 2013 Vulkà Bianco  (Etna)                                  0   \n",
       "Quinta dos Avidagos 2011 Avidagos Red (Douro)                      0   \n",
       "Rainstorm 2013 Pinot Gris (Willamette Valley)                      0   \n",
       "St. Julian 2013 Reserve Late Harvest Riesling (...                 0   \n",
       "Sweet Cheeks 2012 Vintner's Reserve Wild Child ...                 0   \n",
       "\n",
       "                                                    country_Canada  ...  \\\n",
       "title                                                               ...   \n",
       "Nicosia 2013 Vulkà Bianco  (Etna)                                0  ...   \n",
       "Quinta dos Avidagos 2011 Avidagos Red (Douro)                    0  ...   \n",
       "Rainstorm 2013 Pinot Gris (Willamette Valley)                    0  ...   \n",
       "St. Julian 2013 Reserve Late Harvest Riesling (...               0  ...   \n",
       "Sweet Cheeks 2012 Vintner's Reserve Wild Child ...               0  ...   \n",
       "\n",
       "                                                    texture  toast  tobacco  \\\n",
       "title                                                                         \n",
       "Nicosia 2013 Vulkà Bianco  (Etna)                         0      0        0   \n",
       "Quinta dos Avidagos 2011 Avidagos Red (Douro)             0      0        0   \n",
       "Rainstorm 2013 Pinot Gris (Willamette Valley)             0      0        0   \n",
       "St. Julian 2013 Reserve Late Harvest Riesling (...        0      0        0   \n",
       "Sweet Cheeks 2012 Vintner's Reserve Wild Child ...        0      0        0   \n",
       "\n",
       "                                                    touch  vanilla  vineyard  \\\n",
       "title                                                                          \n",
       "Nicosia 2013 Vulkà Bianco  (Etna)                       0        0         0   \n",
       "Quinta dos Avidagos 2011 Avidagos Red (Douro)           0        0         0   \n",
       "Rainstorm 2013 Pinot Gris (Willamette Valley)           0        0         0   \n",
       "St. Julian 2013 Reserve Late Harvest Riesling (...      0        0         0   \n",
       "Sweet Cheeks 2012 Vintner's Reserve Wild Child ...      0        0         0   \n",
       "\n",
       "                                                    white  wine  wood  years  \n",
       "title                                                                         \n",
       "Nicosia 2013 Vulkà Bianco  (Etna)                       0     0     0      0  \n",
       "Quinta dos Avidagos 2011 Avidagos Red (Douro)           0     1     0      0  \n",
       "Rainstorm 2013 Pinot Gris (Willamette Valley)           0     1     0      0  \n",
       "St. Julian 2013 Reserve Late Harvest Riesling (...      0     0     0      0  \n",
       "Sweet Cheeks 2012 Vintner's Reserve Wild Child ...      0     1     0      0  \n",
       "\n",
       "[5 rows x 1271 columns]"
      ]
     },
     "execution_count": 97,
     "metadata": {},
     "output_type": "execute_result"
    }
   ],
   "source": [
    "df_final = df_dummies.join(df_description).drop(columns=[\"description\"])\n",
    "df_final.head()"
   ]
  },
  {
   "cell_type": "code",
   "execution_count": 98,
   "id": "ed506d46",
   "metadata": {
    "ExecuteTime": {
     "end_time": "2023-01-25T10:37:29.664476Z",
     "start_time": "2023-01-25T10:37:29.652169Z"
    }
   },
   "outputs": [
    {
     "data": {
      "text/plain": [
       "(118780, 1271)"
      ]
     },
     "execution_count": 98,
     "metadata": {},
     "output_type": "execute_result"
    }
   ],
   "source": [
    "df_final.shape"
   ]
  },
  {
   "cell_type": "code",
   "execution_count": 101,
   "id": "e2cf7fb0",
   "metadata": {
    "ExecuteTime": {
     "end_time": "2023-01-25T10:40:43.957745Z",
     "start_time": "2023-01-25T10:40:43.926595Z"
    }
   },
   "outputs": [],
   "source": [
    "from sklearn.preprocessing import MinMaxScaler\n",
    "\n",
    "scaler = MinMaxScaler()\n",
    "scaler.fit(df_final[[\"points\", \"price\"]])\n",
    "df_final[[\"points\", \"price\"]] = scaler.transform(df_final[[\"points\", \"price\"]])\n"
   ]
  },
  {
   "cell_type": "code",
   "execution_count": 104,
   "id": "b1dcab16",
   "metadata": {
    "ExecuteTime": {
     "end_time": "2023-01-25T11:15:40.781369Z",
     "start_time": "2023-01-25T11:15:40.754866Z"
    }
   },
   "outputs": [
    {
     "data": {
      "text/html": [
       "<div>\n",
       "<style scoped>\n",
       "    .dataframe tbody tr th:only-of-type {\n",
       "        vertical-align: middle;\n",
       "    }\n",
       "\n",
       "    .dataframe tbody tr th {\n",
       "        vertical-align: top;\n",
       "    }\n",
       "\n",
       "    .dataframe thead th {\n",
       "        text-align: right;\n",
       "    }\n",
       "</style>\n",
       "<table border=\"1\" class=\"dataframe\">\n",
       "  <thead>\n",
       "    <tr style=\"text-align: right;\">\n",
       "      <th></th>\n",
       "      <th>points</th>\n",
       "      <th>price</th>\n",
       "      <th>country_Argentina</th>\n",
       "      <th>country_Armenia</th>\n",
       "      <th>country_Australia</th>\n",
       "      <th>country_Austria</th>\n",
       "      <th>country_Bosnia and Herzegovina</th>\n",
       "      <th>country_Brazil</th>\n",
       "      <th>country_Bulgaria</th>\n",
       "      <th>country_Canada</th>\n",
       "      <th>...</th>\n",
       "      <th>texture</th>\n",
       "      <th>toast</th>\n",
       "      <th>tobacco</th>\n",
       "      <th>touch</th>\n",
       "      <th>vanilla</th>\n",
       "      <th>vineyard</th>\n",
       "      <th>white</th>\n",
       "      <th>wine</th>\n",
       "      <th>wood</th>\n",
       "      <th>years</th>\n",
       "    </tr>\n",
       "    <tr>\n",
       "      <th>title</th>\n",
       "      <th></th>\n",
       "      <th></th>\n",
       "      <th></th>\n",
       "      <th></th>\n",
       "      <th></th>\n",
       "      <th></th>\n",
       "      <th></th>\n",
       "      <th></th>\n",
       "      <th></th>\n",
       "      <th></th>\n",
       "      <th></th>\n",
       "      <th></th>\n",
       "      <th></th>\n",
       "      <th></th>\n",
       "      <th></th>\n",
       "      <th></th>\n",
       "      <th></th>\n",
       "      <th></th>\n",
       "      <th></th>\n",
       "      <th></th>\n",
       "      <th></th>\n",
       "    </tr>\n",
       "  </thead>\n",
       "  <tbody>\n",
       "    <tr>\n",
       "      <th>Lane Tanner 2006 Pinot Noir (Santa Barbara County)</th>\n",
       "      <td>0.30</td>\n",
       "      <td>0.006675</td>\n",
       "      <td>0</td>\n",
       "      <td>0</td>\n",
       "      <td>0</td>\n",
       "      <td>0</td>\n",
       "      <td>0</td>\n",
       "      <td>0</td>\n",
       "      <td>0</td>\n",
       "      <td>0</td>\n",
       "      <td>...</td>\n",
       "      <td>0</td>\n",
       "      <td>0</td>\n",
       "      <td>0</td>\n",
       "      <td>0</td>\n",
       "      <td>0</td>\n",
       "      <td>0</td>\n",
       "      <td>0</td>\n",
       "      <td>0</td>\n",
       "      <td>0</td>\n",
       "      <td>0</td>\n",
       "    </tr>\n",
       "    <tr>\n",
       "      <th>Di Meo 2005 C  (Coda di Volpe d'Irpinia)</th>\n",
       "      <td>0.25</td>\n",
       "      <td>0.003034</td>\n",
       "      <td>0</td>\n",
       "      <td>0</td>\n",
       "      <td>0</td>\n",
       "      <td>0</td>\n",
       "      <td>0</td>\n",
       "      <td>0</td>\n",
       "      <td>0</td>\n",
       "      <td>0</td>\n",
       "      <td>...</td>\n",
       "      <td>0</td>\n",
       "      <td>0</td>\n",
       "      <td>0</td>\n",
       "      <td>0</td>\n",
       "      <td>0</td>\n",
       "      <td>0</td>\n",
       "      <td>0</td>\n",
       "      <td>0</td>\n",
       "      <td>0</td>\n",
       "      <td>0</td>\n",
       "    </tr>\n",
       "    <tr>\n",
       "      <th>Domaine Faiveley 2010 Clos des Cortons Faiveley  (Corton)</th>\n",
       "      <td>0.70</td>\n",
       "      <td>0.064017</td>\n",
       "      <td>0</td>\n",
       "      <td>0</td>\n",
       "      <td>0</td>\n",
       "      <td>0</td>\n",
       "      <td>0</td>\n",
       "      <td>0</td>\n",
       "      <td>0</td>\n",
       "      <td>0</td>\n",
       "      <td>...</td>\n",
       "      <td>0</td>\n",
       "      <td>0</td>\n",
       "      <td>0</td>\n",
       "      <td>0</td>\n",
       "      <td>0</td>\n",
       "      <td>1</td>\n",
       "      <td>0</td>\n",
       "      <td>0</td>\n",
       "      <td>0</td>\n",
       "      <td>1</td>\n",
       "    </tr>\n",
       "    <tr>\n",
       "      <th>Ferrari-Carano 2015 Fumé Blanc (Sonoma County)</th>\n",
       "      <td>0.50</td>\n",
       "      <td>0.003034</td>\n",
       "      <td>0</td>\n",
       "      <td>0</td>\n",
       "      <td>0</td>\n",
       "      <td>0</td>\n",
       "      <td>0</td>\n",
       "      <td>0</td>\n",
       "      <td>0</td>\n",
       "      <td>0</td>\n",
       "      <td>...</td>\n",
       "      <td>0</td>\n",
       "      <td>0</td>\n",
       "      <td>0</td>\n",
       "      <td>0</td>\n",
       "      <td>0</td>\n",
       "      <td>0</td>\n",
       "      <td>0</td>\n",
       "      <td>1</td>\n",
       "      <td>0</td>\n",
       "      <td>0</td>\n",
       "    </tr>\n",
       "    <tr>\n",
       "      <th>Villa Andriana 2013 Muscat Canelli (Knights Valley)</th>\n",
       "      <td>0.20</td>\n",
       "      <td>0.004854</td>\n",
       "      <td>0</td>\n",
       "      <td>0</td>\n",
       "      <td>0</td>\n",
       "      <td>0</td>\n",
       "      <td>0</td>\n",
       "      <td>0</td>\n",
       "      <td>0</td>\n",
       "      <td>0</td>\n",
       "      <td>...</td>\n",
       "      <td>0</td>\n",
       "      <td>0</td>\n",
       "      <td>0</td>\n",
       "      <td>0</td>\n",
       "      <td>1</td>\n",
       "      <td>0</td>\n",
       "      <td>0</td>\n",
       "      <td>1</td>\n",
       "      <td>0</td>\n",
       "      <td>0</td>\n",
       "    </tr>\n",
       "  </tbody>\n",
       "</table>\n",
       "<p>5 rows × 1271 columns</p>\n",
       "</div>"
      ],
      "text/plain": [
       "                                                    points     price  \\\n",
       "title                                                                  \n",
       "Lane Tanner 2006 Pinot Noir (Santa Barbara County)    0.30  0.006675   \n",
       "Di Meo 2005 C  (Coda di Volpe d'Irpinia)              0.25  0.003034   \n",
       "Domaine Faiveley 2010 Clos des Cortons Faiveley...    0.70  0.064017   \n",
       "Ferrari-Carano 2015 Fumé Blanc (Sonoma County)        0.50  0.003034   \n",
       "Villa Andriana 2013 Muscat Canelli (Knights Val...    0.20  0.004854   \n",
       "\n",
       "                                                    country_Argentina  \\\n",
       "title                                                                   \n",
       "Lane Tanner 2006 Pinot Noir (Santa Barbara County)                  0   \n",
       "Di Meo 2005 C  (Coda di Volpe d'Irpinia)                            0   \n",
       "Domaine Faiveley 2010 Clos des Cortons Faiveley...                  0   \n",
       "Ferrari-Carano 2015 Fumé Blanc (Sonoma County)                      0   \n",
       "Villa Andriana 2013 Muscat Canelli (Knights Val...                  0   \n",
       "\n",
       "                                                    country_Armenia  \\\n",
       "title                                                                 \n",
       "Lane Tanner 2006 Pinot Noir (Santa Barbara County)                0   \n",
       "Di Meo 2005 C  (Coda di Volpe d'Irpinia)                          0   \n",
       "Domaine Faiveley 2010 Clos des Cortons Faiveley...                0   \n",
       "Ferrari-Carano 2015 Fumé Blanc (Sonoma County)                    0   \n",
       "Villa Andriana 2013 Muscat Canelli (Knights Val...                0   \n",
       "\n",
       "                                                    country_Australia  \\\n",
       "title                                                                   \n",
       "Lane Tanner 2006 Pinot Noir (Santa Barbara County)                  0   \n",
       "Di Meo 2005 C  (Coda di Volpe d'Irpinia)                            0   \n",
       "Domaine Faiveley 2010 Clos des Cortons Faiveley...                  0   \n",
       "Ferrari-Carano 2015 Fumé Blanc (Sonoma County)                      0   \n",
       "Villa Andriana 2013 Muscat Canelli (Knights Val...                  0   \n",
       "\n",
       "                                                    country_Austria  \\\n",
       "title                                                                 \n",
       "Lane Tanner 2006 Pinot Noir (Santa Barbara County)                0   \n",
       "Di Meo 2005 C  (Coda di Volpe d'Irpinia)                          0   \n",
       "Domaine Faiveley 2010 Clos des Cortons Faiveley...                0   \n",
       "Ferrari-Carano 2015 Fumé Blanc (Sonoma County)                    0   \n",
       "Villa Andriana 2013 Muscat Canelli (Knights Val...                0   \n",
       "\n",
       "                                                    country_Bosnia and Herzegovina  \\\n",
       "title                                                                                \n",
       "Lane Tanner 2006 Pinot Noir (Santa Barbara County)                               0   \n",
       "Di Meo 2005 C  (Coda di Volpe d'Irpinia)                                         0   \n",
       "Domaine Faiveley 2010 Clos des Cortons Faiveley...                               0   \n",
       "Ferrari-Carano 2015 Fumé Blanc (Sonoma County)                                   0   \n",
       "Villa Andriana 2013 Muscat Canelli (Knights Val...                               0   \n",
       "\n",
       "                                                    country_Brazil  \\\n",
       "title                                                                \n",
       "Lane Tanner 2006 Pinot Noir (Santa Barbara County)               0   \n",
       "Di Meo 2005 C  (Coda di Volpe d'Irpinia)                         0   \n",
       "Domaine Faiveley 2010 Clos des Cortons Faiveley...               0   \n",
       "Ferrari-Carano 2015 Fumé Blanc (Sonoma County)                   0   \n",
       "Villa Andriana 2013 Muscat Canelli (Knights Val...               0   \n",
       "\n",
       "                                                    country_Bulgaria  \\\n",
       "title                                                                  \n",
       "Lane Tanner 2006 Pinot Noir (Santa Barbara County)                 0   \n",
       "Di Meo 2005 C  (Coda di Volpe d'Irpinia)                           0   \n",
       "Domaine Faiveley 2010 Clos des Cortons Faiveley...                 0   \n",
       "Ferrari-Carano 2015 Fumé Blanc (Sonoma County)                     0   \n",
       "Villa Andriana 2013 Muscat Canelli (Knights Val...                 0   \n",
       "\n",
       "                                                    country_Canada  ...  \\\n",
       "title                                                               ...   \n",
       "Lane Tanner 2006 Pinot Noir (Santa Barbara County)               0  ...   \n",
       "Di Meo 2005 C  (Coda di Volpe d'Irpinia)                         0  ...   \n",
       "Domaine Faiveley 2010 Clos des Cortons Faiveley...               0  ...   \n",
       "Ferrari-Carano 2015 Fumé Blanc (Sonoma County)                   0  ...   \n",
       "Villa Andriana 2013 Muscat Canelli (Knights Val...               0  ...   \n",
       "\n",
       "                                                    texture  toast  tobacco  \\\n",
       "title                                                                         \n",
       "Lane Tanner 2006 Pinot Noir (Santa Barbara County)        0      0        0   \n",
       "Di Meo 2005 C  (Coda di Volpe d'Irpinia)                  0      0        0   \n",
       "Domaine Faiveley 2010 Clos des Cortons Faiveley...        0      0        0   \n",
       "Ferrari-Carano 2015 Fumé Blanc (Sonoma County)            0      0        0   \n",
       "Villa Andriana 2013 Muscat Canelli (Knights Val...        0      0        0   \n",
       "\n",
       "                                                    touch  vanilla  vineyard  \\\n",
       "title                                                                          \n",
       "Lane Tanner 2006 Pinot Noir (Santa Barbara County)      0        0         0   \n",
       "Di Meo 2005 C  (Coda di Volpe d'Irpinia)                0        0         0   \n",
       "Domaine Faiveley 2010 Clos des Cortons Faiveley...      0        0         1   \n",
       "Ferrari-Carano 2015 Fumé Blanc (Sonoma County)          0        0         0   \n",
       "Villa Andriana 2013 Muscat Canelli (Knights Val...      0        1         0   \n",
       "\n",
       "                                                    white  wine  wood  years  \n",
       "title                                                                         \n",
       "Lane Tanner 2006 Pinot Noir (Santa Barbara County)      0     0     0      0  \n",
       "Di Meo 2005 C  (Coda di Volpe d'Irpinia)                0     0     0      0  \n",
       "Domaine Faiveley 2010 Clos des Cortons Faiveley...      0     0     0      1  \n",
       "Ferrari-Carano 2015 Fumé Blanc (Sonoma County)          0     1     0      0  \n",
       "Villa Andriana 2013 Muscat Canelli (Knights Val...      0     1     0      0  \n",
       "\n",
       "[5 rows x 1271 columns]"
      ]
     },
     "execution_count": 104,
     "metadata": {},
     "output_type": "execute_result"
    }
   ],
   "source": [
    "df_final.sample(5)"
   ]
  },
  {
   "cell_type": "code",
   "execution_count": 105,
   "id": "446f2ac3",
   "metadata": {
    "ExecuteTime": {
     "end_time": "2023-01-25T11:18:53.495829Z",
     "start_time": "2023-01-25T11:18:39.492327Z"
    }
   },
   "outputs": [],
   "source": [
    "df_final.to_csv(\"wine_preprocessing.csv\", index_label=\"wine_index\")"
   ]
  },
  {
   "cell_type": "code",
   "execution_count": 150,
   "id": "5b585179",
   "metadata": {
    "ExecuteTime": {
     "end_time": "2023-01-25T11:45:28.644731Z",
     "start_time": "2023-01-25T11:45:27.949229Z"
    }
   },
   "outputs": [
    {
     "data": {
      "text/html": [
       "<style>#sk-container-id-2 {color: black;background-color: white;}#sk-container-id-2 pre{padding: 0;}#sk-container-id-2 div.sk-toggleable {background-color: white;}#sk-container-id-2 label.sk-toggleable__label {cursor: pointer;display: block;width: 100%;margin-bottom: 0;padding: 0.3em;box-sizing: border-box;text-align: center;}#sk-container-id-2 label.sk-toggleable__label-arrow:before {content: \"▸\";float: left;margin-right: 0.25em;color: #696969;}#sk-container-id-2 label.sk-toggleable__label-arrow:hover:before {color: black;}#sk-container-id-2 div.sk-estimator:hover label.sk-toggleable__label-arrow:before {color: black;}#sk-container-id-2 div.sk-toggleable__content {max-height: 0;max-width: 0;overflow: hidden;text-align: left;background-color: #f0f8ff;}#sk-container-id-2 div.sk-toggleable__content pre {margin: 0.2em;color: black;border-radius: 0.25em;background-color: #f0f8ff;}#sk-container-id-2 input.sk-toggleable__control:checked~div.sk-toggleable__content {max-height: 200px;max-width: 100%;overflow: auto;}#sk-container-id-2 input.sk-toggleable__control:checked~label.sk-toggleable__label-arrow:before {content: \"▾\";}#sk-container-id-2 div.sk-estimator input.sk-toggleable__control:checked~label.sk-toggleable__label {background-color: #d4ebff;}#sk-container-id-2 div.sk-label input.sk-toggleable__control:checked~label.sk-toggleable__label {background-color: #d4ebff;}#sk-container-id-2 input.sk-hidden--visually {border: 0;clip: rect(1px 1px 1px 1px);clip: rect(1px, 1px, 1px, 1px);height: 1px;margin: -1px;overflow: hidden;padding: 0;position: absolute;width: 1px;}#sk-container-id-2 div.sk-estimator {font-family: monospace;background-color: #f0f8ff;border: 1px dotted black;border-radius: 0.25em;box-sizing: border-box;margin-bottom: 0.5em;}#sk-container-id-2 div.sk-estimator:hover {background-color: #d4ebff;}#sk-container-id-2 div.sk-parallel-item::after {content: \"\";width: 100%;border-bottom: 1px solid gray;flex-grow: 1;}#sk-container-id-2 div.sk-label:hover label.sk-toggleable__label {background-color: #d4ebff;}#sk-container-id-2 div.sk-serial::before {content: \"\";position: absolute;border-left: 1px solid gray;box-sizing: border-box;top: 0;bottom: 0;left: 50%;z-index: 0;}#sk-container-id-2 div.sk-serial {display: flex;flex-direction: column;align-items: center;background-color: white;padding-right: 0.2em;padding-left: 0.2em;position: relative;}#sk-container-id-2 div.sk-item {position: relative;z-index: 1;}#sk-container-id-2 div.sk-parallel {display: flex;align-items: stretch;justify-content: center;background-color: white;position: relative;}#sk-container-id-2 div.sk-item::before, #sk-container-id-2 div.sk-parallel-item::before {content: \"\";position: absolute;border-left: 1px solid gray;box-sizing: border-box;top: 0;bottom: 0;left: 50%;z-index: -1;}#sk-container-id-2 div.sk-parallel-item {display: flex;flex-direction: column;z-index: 1;position: relative;background-color: white;}#sk-container-id-2 div.sk-parallel-item:first-child::after {align-self: flex-end;width: 50%;}#sk-container-id-2 div.sk-parallel-item:last-child::after {align-self: flex-start;width: 50%;}#sk-container-id-2 div.sk-parallel-item:only-child::after {width: 0;}#sk-container-id-2 div.sk-dashed-wrapped {border: 1px dashed gray;margin: 0 0.4em 0.5em 0.4em;box-sizing: border-box;padding-bottom: 0.4em;background-color: white;}#sk-container-id-2 div.sk-label label {font-family: monospace;font-weight: bold;display: inline-block;line-height: 1.2em;}#sk-container-id-2 div.sk-label-container {text-align: center;}#sk-container-id-2 div.sk-container {/* jupyter's `normalize.less` sets `[hidden] { display: none; }` but bootstrap.min.css set `[hidden] { display: none !important; }` so we also need the `!important` here to be able to override the default hidden behavior on the sphinx rendered scikit-learn.org. See: https://github.com/scikit-learn/scikit-learn/issues/21755 */display: inline-block !important;position: relative;}#sk-container-id-2 div.sk-text-repr-fallback {display: none;}</style><div id=\"sk-container-id-2\" class=\"sk-top-container\"><div class=\"sk-text-repr-fallback\"><pre>NearestNeighbors(metric=&#x27;cosine&#x27;, n_jobs=-1)</pre><b>In a Jupyter environment, please rerun this cell to show the HTML representation or trust the notebook. <br />On GitHub, the HTML representation is unable to render, please try loading this page with nbviewer.org.</b></div><div class=\"sk-container\" hidden><div class=\"sk-item\"><div class=\"sk-estimator sk-toggleable\"><input class=\"sk-toggleable__control sk-hidden--visually\" id=\"sk-estimator-id-2\" type=\"checkbox\" checked><label for=\"sk-estimator-id-2\" class=\"sk-toggleable__label sk-toggleable__label-arrow\">NearestNeighbors</label><div class=\"sk-toggleable__content\"><pre>NearestNeighbors(metric=&#x27;cosine&#x27;, n_jobs=-1)</pre></div></div></div></div></div>"
      ],
      "text/plain": [
       "NearestNeighbors(metric='cosine', n_jobs=-1)"
      ]
     },
     "execution_count": 150,
     "metadata": {},
     "output_type": "execute_result"
    }
   ],
   "source": [
    "from sklearn.neighbors import NearestNeighbors\n",
    "\n",
    "nn = NearestNeighbors(n_neighbors=5, metric='cosine', n_jobs=-1)\n",
    "nn.fit(df_final)"
   ]
  },
  {
   "cell_type": "code",
   "execution_count": 151,
   "id": "29291acd",
   "metadata": {
    "ExecuteTime": {
     "end_time": "2023-01-25T11:45:29.429756Z",
     "start_time": "2023-01-25T11:45:29.416833Z"
    }
   },
   "outputs": [
    {
     "data": {
      "text/plain": [
       "points               0.350000\n",
       "price                0.006371\n",
       "country_Argentina    0.000000\n",
       "country_Armenia      0.000000\n",
       "country_Australia    0.000000\n",
       "                       ...   \n",
       "vineyard             0.000000\n",
       "white                0.000000\n",
       "wine                 0.000000\n",
       "wood                 0.000000\n",
       "years                0.000000\n",
       "Name: Nicosia 2013 Vulkà Bianco  (Etna), Length: 1271, dtype: float64"
      ]
     },
     "execution_count": 151,
     "metadata": {},
     "output_type": "execute_result"
    }
   ],
   "source": [
    "df_final.iloc[0, :]"
   ]
  },
  {
   "cell_type": "code",
   "execution_count": 152,
   "id": "a294f396",
   "metadata": {
    "ExecuteTime": {
     "end_time": "2023-01-25T11:45:31.053269Z",
     "start_time": "2023-01-25T11:45:30.813078Z"
    }
   },
   "outputs": [
    {
     "name": "stderr",
     "output_type": "stream",
     "text": [
      "/Users/benjamindrai/miniforge3/lib/python3.10/site-packages/sklearn/base.py:409: UserWarning: X does not have valid feature names, but NearestNeighbors was fitted with feature names\n",
      "  warnings.warn(\n"
     ]
    }
   ],
   "source": [
    "distances, indexes = nn.kneighbors(np.array(df_final.iloc[0, :]).reshape(1, -1), n_neighbors=df_final.shape[0])"
   ]
  },
  {
   "cell_type": "code",
   "execution_count": 153,
   "id": "eb503584",
   "metadata": {
    "ExecuteTime": {
     "end_time": "2023-01-25T11:51:44.228504Z",
     "start_time": "2023-01-25T11:45:31.819746Z"
    }
   },
   "outputs": [
    {
     "ename": "KeyboardInterrupt",
     "evalue": "",
     "output_type": "error",
     "traceback": [
      "\u001b[0;31m---------------------------------------------------------------------------\u001b[0m",
      "\u001b[0;31mKeyboardInterrupt\u001b[0m                         Traceback (most recent call last)",
      "Cell \u001b[0;32mIn [153], line 1\u001b[0m\n\u001b[0;32m----> 1\u001b[0m \u001b[43mnn\u001b[49m\u001b[38;5;241;43m.\u001b[39;49m\u001b[43mkneighbors\u001b[49m\u001b[43m(\u001b[49m\u001b[43mdf_final\u001b[49m\u001b[43m,\u001b[49m\u001b[43m \u001b[49m\u001b[43mn_neighbors\u001b[49m\u001b[38;5;241;43m=\u001b[39;49m\u001b[38;5;241;43m20\u001b[39;49m\u001b[43m)\u001b[49m\n",
      "File \u001b[0;32m~/miniforge3/lib/python3.10/site-packages/sklearn/neighbors/_base.py:861\u001b[0m, in \u001b[0;36mKNeighborsMixin.kneighbors\u001b[0;34m(self, X, n_neighbors, return_distance)\u001b[0m\n\u001b[1;32m    858\u001b[0m     \u001b[38;5;28;01melse\u001b[39;00m:\n\u001b[1;32m    859\u001b[0m         kwds \u001b[38;5;241m=\u001b[39m \u001b[38;5;28mself\u001b[39m\u001b[38;5;241m.\u001b[39meffective_metric_params_\n\u001b[0;32m--> 861\u001b[0m     chunked_results \u001b[38;5;241m=\u001b[39m \u001b[38;5;28;43mlist\u001b[39;49m\u001b[43m(\u001b[49m\n\u001b[1;32m    862\u001b[0m \u001b[43m        \u001b[49m\u001b[43mpairwise_distances_chunked\u001b[49m\u001b[43m(\u001b[49m\n\u001b[1;32m    863\u001b[0m \u001b[43m            \u001b[49m\u001b[43mX\u001b[49m\u001b[43m,\u001b[49m\n\u001b[1;32m    864\u001b[0m \u001b[43m            \u001b[49m\u001b[38;5;28;43mself\u001b[39;49m\u001b[38;5;241;43m.\u001b[39;49m\u001b[43m_fit_X\u001b[49m\u001b[43m,\u001b[49m\n\u001b[1;32m    865\u001b[0m \u001b[43m            \u001b[49m\u001b[43mreduce_func\u001b[49m\u001b[38;5;241;43m=\u001b[39;49m\u001b[43mreduce_func\u001b[49m\u001b[43m,\u001b[49m\n\u001b[1;32m    866\u001b[0m \u001b[43m            \u001b[49m\u001b[43mmetric\u001b[49m\u001b[38;5;241;43m=\u001b[39;49m\u001b[38;5;28;43mself\u001b[39;49m\u001b[38;5;241;43m.\u001b[39;49m\u001b[43meffective_metric_\u001b[49m\u001b[43m,\u001b[49m\n\u001b[1;32m    867\u001b[0m \u001b[43m            \u001b[49m\u001b[43mn_jobs\u001b[49m\u001b[38;5;241;43m=\u001b[39;49m\u001b[43mn_jobs\u001b[49m\u001b[43m,\u001b[49m\n\u001b[1;32m    868\u001b[0m \u001b[43m            \u001b[49m\u001b[38;5;241;43m*\u001b[39;49m\u001b[38;5;241;43m*\u001b[39;49m\u001b[43mkwds\u001b[49m\u001b[43m,\u001b[49m\n\u001b[1;32m    869\u001b[0m \u001b[43m        \u001b[49m\u001b[43m)\u001b[49m\n\u001b[1;32m    870\u001b[0m \u001b[43m    \u001b[49m\u001b[43m)\u001b[49m\n\u001b[1;32m    872\u001b[0m \u001b[38;5;28;01melif\u001b[39;00m \u001b[38;5;28mself\u001b[39m\u001b[38;5;241m.\u001b[39m_fit_method \u001b[38;5;129;01min\u001b[39;00m [\u001b[38;5;124m\"\u001b[39m\u001b[38;5;124mball_tree\u001b[39m\u001b[38;5;124m\"\u001b[39m, \u001b[38;5;124m\"\u001b[39m\u001b[38;5;124mkd_tree\u001b[39m\u001b[38;5;124m\"\u001b[39m]:\n\u001b[1;32m    873\u001b[0m     \u001b[38;5;28;01mif\u001b[39;00m issparse(X):\n",
      "File \u001b[0;32m~/miniforge3/lib/python3.10/site-packages/sklearn/metrics/pairwise.py:1867\u001b[0m, in \u001b[0;36mpairwise_distances_chunked\u001b[0;34m(X, Y, reduce_func, metric, n_jobs, working_memory, **kwds)\u001b[0m\n\u001b[1;32m   1865\u001b[0m \u001b[38;5;28;01melse\u001b[39;00m:\n\u001b[1;32m   1866\u001b[0m     X_chunk \u001b[38;5;241m=\u001b[39m X[sl]\n\u001b[0;32m-> 1867\u001b[0m D_chunk \u001b[38;5;241m=\u001b[39m \u001b[43mpairwise_distances\u001b[49m\u001b[43m(\u001b[49m\u001b[43mX_chunk\u001b[49m\u001b[43m,\u001b[49m\u001b[43m \u001b[49m\u001b[43mY\u001b[49m\u001b[43m,\u001b[49m\u001b[43m \u001b[49m\u001b[43mmetric\u001b[49m\u001b[38;5;241;43m=\u001b[39;49m\u001b[43mmetric\u001b[49m\u001b[43m,\u001b[49m\u001b[43m \u001b[49m\u001b[43mn_jobs\u001b[49m\u001b[38;5;241;43m=\u001b[39;49m\u001b[43mn_jobs\u001b[49m\u001b[43m,\u001b[49m\u001b[43m \u001b[49m\u001b[38;5;241;43m*\u001b[39;49m\u001b[38;5;241;43m*\u001b[39;49m\u001b[43mkwds\u001b[49m\u001b[43m)\u001b[49m\n\u001b[1;32m   1868\u001b[0m \u001b[38;5;28;01mif\u001b[39;00m (X \u001b[38;5;129;01mis\u001b[39;00m Y \u001b[38;5;129;01mor\u001b[39;00m Y \u001b[38;5;129;01mis\u001b[39;00m \u001b[38;5;28;01mNone\u001b[39;00m) \u001b[38;5;129;01mand\u001b[39;00m PAIRWISE_DISTANCE_FUNCTIONS\u001b[38;5;241m.\u001b[39mget(\n\u001b[1;32m   1869\u001b[0m     metric, \u001b[38;5;28;01mNone\u001b[39;00m\n\u001b[1;32m   1870\u001b[0m ) \u001b[38;5;129;01mis\u001b[39;00m euclidean_distances:\n\u001b[1;32m   1871\u001b[0m     \u001b[38;5;66;03m# zeroing diagonal, taking care of aliases of \"euclidean\",\u001b[39;00m\n\u001b[1;32m   1872\u001b[0m     \u001b[38;5;66;03m# i.e. \"l2\"\u001b[39;00m\n\u001b[1;32m   1873\u001b[0m     D_chunk\u001b[38;5;241m.\u001b[39mflat[sl\u001b[38;5;241m.\u001b[39mstart :: _num_samples(X) \u001b[38;5;241m+\u001b[39m \u001b[38;5;241m1\u001b[39m] \u001b[38;5;241m=\u001b[39m \u001b[38;5;241m0\u001b[39m\n",
      "File \u001b[0;32m~/miniforge3/lib/python3.10/site-packages/sklearn/metrics/pairwise.py:2039\u001b[0m, in \u001b[0;36mpairwise_distances\u001b[0;34m(X, Y, metric, n_jobs, force_all_finite, **kwds)\u001b[0m\n\u001b[1;32m   2036\u001b[0m         \u001b[38;5;28;01mreturn\u001b[39;00m distance\u001b[38;5;241m.\u001b[39msquareform(distance\u001b[38;5;241m.\u001b[39mpdist(X, metric\u001b[38;5;241m=\u001b[39mmetric, \u001b[38;5;241m*\u001b[39m\u001b[38;5;241m*\u001b[39mkwds))\n\u001b[1;32m   2037\u001b[0m     func \u001b[38;5;241m=\u001b[39m partial(distance\u001b[38;5;241m.\u001b[39mcdist, metric\u001b[38;5;241m=\u001b[39mmetric, \u001b[38;5;241m*\u001b[39m\u001b[38;5;241m*\u001b[39mkwds)\n\u001b[0;32m-> 2039\u001b[0m \u001b[38;5;28;01mreturn\u001b[39;00m \u001b[43m_parallel_pairwise\u001b[49m\u001b[43m(\u001b[49m\u001b[43mX\u001b[49m\u001b[43m,\u001b[49m\u001b[43m \u001b[49m\u001b[43mY\u001b[49m\u001b[43m,\u001b[49m\u001b[43m \u001b[49m\u001b[43mfunc\u001b[49m\u001b[43m,\u001b[49m\u001b[43m \u001b[49m\u001b[43mn_jobs\u001b[49m\u001b[43m,\u001b[49m\u001b[43m \u001b[49m\u001b[38;5;241;43m*\u001b[39;49m\u001b[38;5;241;43m*\u001b[39;49m\u001b[43mkwds\u001b[49m\u001b[43m)\u001b[49m\n",
      "File \u001b[0;32m~/miniforge3/lib/python3.10/site-packages/sklearn/metrics/pairwise.py:1584\u001b[0m, in \u001b[0;36m_parallel_pairwise\u001b[0;34m(X, Y, func, n_jobs, **kwds)\u001b[0m\n\u001b[1;32m   1582\u001b[0m fd \u001b[38;5;241m=\u001b[39m delayed(_dist_wrapper)\n\u001b[1;32m   1583\u001b[0m ret \u001b[38;5;241m=\u001b[39m np\u001b[38;5;241m.\u001b[39mempty((X\u001b[38;5;241m.\u001b[39mshape[\u001b[38;5;241m0\u001b[39m], Y\u001b[38;5;241m.\u001b[39mshape[\u001b[38;5;241m0\u001b[39m]), dtype\u001b[38;5;241m=\u001b[39mdtype, order\u001b[38;5;241m=\u001b[39m\u001b[38;5;124m\"\u001b[39m\u001b[38;5;124mF\u001b[39m\u001b[38;5;124m\"\u001b[39m)\n\u001b[0;32m-> 1584\u001b[0m \u001b[43mParallel\u001b[49m\u001b[43m(\u001b[49m\u001b[43mbackend\u001b[49m\u001b[38;5;241;43m=\u001b[39;49m\u001b[38;5;124;43m\"\u001b[39;49m\u001b[38;5;124;43mthreading\u001b[39;49m\u001b[38;5;124;43m\"\u001b[39;49m\u001b[43m,\u001b[49m\u001b[43m \u001b[49m\u001b[43mn_jobs\u001b[49m\u001b[38;5;241;43m=\u001b[39;49m\u001b[43mn_jobs\u001b[49m\u001b[43m)\u001b[49m\u001b[43m(\u001b[49m\n\u001b[1;32m   1585\u001b[0m \u001b[43m    \u001b[49m\u001b[43mfd\u001b[49m\u001b[43m(\u001b[49m\u001b[43mfunc\u001b[49m\u001b[43m,\u001b[49m\u001b[43m \u001b[49m\u001b[43mret\u001b[49m\u001b[43m,\u001b[49m\u001b[43m \u001b[49m\u001b[43ms\u001b[49m\u001b[43m,\u001b[49m\u001b[43m \u001b[49m\u001b[43mX\u001b[49m\u001b[43m,\u001b[49m\u001b[43m \u001b[49m\u001b[43mY\u001b[49m\u001b[43m[\u001b[49m\u001b[43ms\u001b[49m\u001b[43m]\u001b[49m\u001b[43m,\u001b[49m\u001b[43m \u001b[49m\u001b[38;5;241;43m*\u001b[39;49m\u001b[38;5;241;43m*\u001b[39;49m\u001b[43mkwds\u001b[49m\u001b[43m)\u001b[49m\n\u001b[1;32m   1586\u001b[0m \u001b[43m    \u001b[49m\u001b[38;5;28;43;01mfor\u001b[39;49;00m\u001b[43m \u001b[49m\u001b[43ms\u001b[49m\u001b[43m \u001b[49m\u001b[38;5;129;43;01min\u001b[39;49;00m\u001b[43m \u001b[49m\u001b[43mgen_even_slices\u001b[49m\u001b[43m(\u001b[49m\u001b[43m_num_samples\u001b[49m\u001b[43m(\u001b[49m\u001b[43mY\u001b[49m\u001b[43m)\u001b[49m\u001b[43m,\u001b[49m\u001b[43m \u001b[49m\u001b[43meffective_n_jobs\u001b[49m\u001b[43m(\u001b[49m\u001b[43mn_jobs\u001b[49m\u001b[43m)\u001b[49m\u001b[43m)\u001b[49m\n\u001b[1;32m   1587\u001b[0m \u001b[43m\u001b[49m\u001b[43m)\u001b[49m\n\u001b[1;32m   1589\u001b[0m \u001b[38;5;28;01mif\u001b[39;00m (X \u001b[38;5;129;01mis\u001b[39;00m Y \u001b[38;5;129;01mor\u001b[39;00m Y \u001b[38;5;129;01mis\u001b[39;00m \u001b[38;5;28;01mNone\u001b[39;00m) \u001b[38;5;129;01mand\u001b[39;00m func \u001b[38;5;129;01mis\u001b[39;00m euclidean_distances:\n\u001b[1;32m   1590\u001b[0m     \u001b[38;5;66;03m# zeroing diagonal for euclidean norm.\u001b[39;00m\n\u001b[1;32m   1591\u001b[0m     \u001b[38;5;66;03m# TODO: do it also for other norms.\u001b[39;00m\n\u001b[1;32m   1592\u001b[0m     np\u001b[38;5;241m.\u001b[39mfill_diagonal(ret, \u001b[38;5;241m0\u001b[39m)\n",
      "File \u001b[0;32m~/miniforge3/lib/python3.10/site-packages/joblib/parallel.py:1098\u001b[0m, in \u001b[0;36mParallel.__call__\u001b[0;34m(self, iterable)\u001b[0m\n\u001b[1;32m   1095\u001b[0m     \u001b[38;5;28mself\u001b[39m\u001b[38;5;241m.\u001b[39m_iterating \u001b[38;5;241m=\u001b[39m \u001b[38;5;28;01mFalse\u001b[39;00m\n\u001b[1;32m   1097\u001b[0m \u001b[38;5;28;01mwith\u001b[39;00m \u001b[38;5;28mself\u001b[39m\u001b[38;5;241m.\u001b[39m_backend\u001b[38;5;241m.\u001b[39mretrieval_context():\n\u001b[0;32m-> 1098\u001b[0m     \u001b[38;5;28;43mself\u001b[39;49m\u001b[38;5;241;43m.\u001b[39;49m\u001b[43mretrieve\u001b[49m\u001b[43m(\u001b[49m\u001b[43m)\u001b[49m\n\u001b[1;32m   1099\u001b[0m \u001b[38;5;66;03m# Make sure that we get a last message telling us we are done\u001b[39;00m\n\u001b[1;32m   1100\u001b[0m elapsed_time \u001b[38;5;241m=\u001b[39m time\u001b[38;5;241m.\u001b[39mtime() \u001b[38;5;241m-\u001b[39m \u001b[38;5;28mself\u001b[39m\u001b[38;5;241m.\u001b[39m_start_time\n",
      "File \u001b[0;32m~/miniforge3/lib/python3.10/site-packages/joblib/parallel.py:975\u001b[0m, in \u001b[0;36mParallel.retrieve\u001b[0;34m(self)\u001b[0m\n\u001b[1;32m    973\u001b[0m \u001b[38;5;28;01mtry\u001b[39;00m:\n\u001b[1;32m    974\u001b[0m     \u001b[38;5;28;01mif\u001b[39;00m \u001b[38;5;28mgetattr\u001b[39m(\u001b[38;5;28mself\u001b[39m\u001b[38;5;241m.\u001b[39m_backend, \u001b[38;5;124m'\u001b[39m\u001b[38;5;124msupports_timeout\u001b[39m\u001b[38;5;124m'\u001b[39m, \u001b[38;5;28;01mFalse\u001b[39;00m):\n\u001b[0;32m--> 975\u001b[0m         \u001b[38;5;28mself\u001b[39m\u001b[38;5;241m.\u001b[39m_output\u001b[38;5;241m.\u001b[39mextend(\u001b[43mjob\u001b[49m\u001b[38;5;241;43m.\u001b[39;49m\u001b[43mget\u001b[49m\u001b[43m(\u001b[49m\u001b[43mtimeout\u001b[49m\u001b[38;5;241;43m=\u001b[39;49m\u001b[38;5;28;43mself\u001b[39;49m\u001b[38;5;241;43m.\u001b[39;49m\u001b[43mtimeout\u001b[49m\u001b[43m)\u001b[49m)\n\u001b[1;32m    976\u001b[0m     \u001b[38;5;28;01melse\u001b[39;00m:\n\u001b[1;32m    977\u001b[0m         \u001b[38;5;28mself\u001b[39m\u001b[38;5;241m.\u001b[39m_output\u001b[38;5;241m.\u001b[39mextend(job\u001b[38;5;241m.\u001b[39mget())\n",
      "File \u001b[0;32m~/miniforge3/lib/python3.10/multiprocessing/pool.py:768\u001b[0m, in \u001b[0;36mApplyResult.get\u001b[0;34m(self, timeout)\u001b[0m\n\u001b[1;32m    767\u001b[0m \u001b[38;5;28;01mdef\u001b[39;00m \u001b[38;5;21mget\u001b[39m(\u001b[38;5;28mself\u001b[39m, timeout\u001b[38;5;241m=\u001b[39m\u001b[38;5;28;01mNone\u001b[39;00m):\n\u001b[0;32m--> 768\u001b[0m     \u001b[38;5;28;43mself\u001b[39;49m\u001b[38;5;241;43m.\u001b[39;49m\u001b[43mwait\u001b[49m\u001b[43m(\u001b[49m\u001b[43mtimeout\u001b[49m\u001b[43m)\u001b[49m\n\u001b[1;32m    769\u001b[0m     \u001b[38;5;28;01mif\u001b[39;00m \u001b[38;5;129;01mnot\u001b[39;00m \u001b[38;5;28mself\u001b[39m\u001b[38;5;241m.\u001b[39mready():\n\u001b[1;32m    770\u001b[0m         \u001b[38;5;28;01mraise\u001b[39;00m \u001b[38;5;167;01mTimeoutError\u001b[39;00m\n",
      "File \u001b[0;32m~/miniforge3/lib/python3.10/multiprocessing/pool.py:765\u001b[0m, in \u001b[0;36mApplyResult.wait\u001b[0;34m(self, timeout)\u001b[0m\n\u001b[1;32m    764\u001b[0m \u001b[38;5;28;01mdef\u001b[39;00m \u001b[38;5;21mwait\u001b[39m(\u001b[38;5;28mself\u001b[39m, timeout\u001b[38;5;241m=\u001b[39m\u001b[38;5;28;01mNone\u001b[39;00m):\n\u001b[0;32m--> 765\u001b[0m     \u001b[38;5;28;43mself\u001b[39;49m\u001b[38;5;241;43m.\u001b[39;49m\u001b[43m_event\u001b[49m\u001b[38;5;241;43m.\u001b[39;49m\u001b[43mwait\u001b[49m\u001b[43m(\u001b[49m\u001b[43mtimeout\u001b[49m\u001b[43m)\u001b[49m\n",
      "File \u001b[0;32m~/miniforge3/lib/python3.10/threading.py:607\u001b[0m, in \u001b[0;36mEvent.wait\u001b[0;34m(self, timeout)\u001b[0m\n\u001b[1;32m    605\u001b[0m signaled \u001b[38;5;241m=\u001b[39m \u001b[38;5;28mself\u001b[39m\u001b[38;5;241m.\u001b[39m_flag\n\u001b[1;32m    606\u001b[0m \u001b[38;5;28;01mif\u001b[39;00m \u001b[38;5;129;01mnot\u001b[39;00m signaled:\n\u001b[0;32m--> 607\u001b[0m     signaled \u001b[38;5;241m=\u001b[39m \u001b[38;5;28;43mself\u001b[39;49m\u001b[38;5;241;43m.\u001b[39;49m\u001b[43m_cond\u001b[49m\u001b[38;5;241;43m.\u001b[39;49m\u001b[43mwait\u001b[49m\u001b[43m(\u001b[49m\u001b[43mtimeout\u001b[49m\u001b[43m)\u001b[49m\n\u001b[1;32m    608\u001b[0m \u001b[38;5;28;01mreturn\u001b[39;00m signaled\n",
      "File \u001b[0;32m~/miniforge3/lib/python3.10/threading.py:320\u001b[0m, in \u001b[0;36mCondition.wait\u001b[0;34m(self, timeout)\u001b[0m\n\u001b[1;32m    318\u001b[0m \u001b[38;5;28;01mtry\u001b[39;00m:    \u001b[38;5;66;03m# restore state no matter what (e.g., KeyboardInterrupt)\u001b[39;00m\n\u001b[1;32m    319\u001b[0m     \u001b[38;5;28;01mif\u001b[39;00m timeout \u001b[38;5;129;01mis\u001b[39;00m \u001b[38;5;28;01mNone\u001b[39;00m:\n\u001b[0;32m--> 320\u001b[0m         \u001b[43mwaiter\u001b[49m\u001b[38;5;241;43m.\u001b[39;49m\u001b[43macquire\u001b[49m\u001b[43m(\u001b[49m\u001b[43m)\u001b[49m\n\u001b[1;32m    321\u001b[0m         gotit \u001b[38;5;241m=\u001b[39m \u001b[38;5;28;01mTrue\u001b[39;00m\n\u001b[1;32m    322\u001b[0m     \u001b[38;5;28;01melse\u001b[39;00m:\n",
      "\u001b[0;31mKeyboardInterrupt\u001b[0m: "
     ]
    }
   ],
   "source": [
    "nn.kneighbors(df_final, n_neighbors=20)"
   ]
  },
  {
   "cell_type": "code",
   "execution_count": 124,
   "id": "418c6d2c",
   "metadata": {
    "ExecuteTime": {
     "end_time": "2023-01-25T11:26:46.579013Z",
     "start_time": "2023-01-25T11:26:46.572549Z"
    },
    "scrolled": true
   },
   "outputs": [
    {
     "data": {
      "text/plain": [
       "country                                                    Italy\n",
       "description    Aromas include tropical fruit, broom, brimston...\n",
       "points                                                        87\n",
       "price                                                       25.0\n",
       "province                                       Sicily & Sardinia\n",
       "region_1                                                    Etna\n",
       "title                          Nicosia 2013 Vulkà Bianco  (Etna)\n",
       "variety                                              White Blend\n",
       "winery                                                   Nicosia\n",
       "Name: 0, dtype: object"
      ]
     },
     "execution_count": 124,
     "metadata": {},
     "output_type": "execute_result"
    }
   ],
   "source": [
    "df.iloc[0, :]"
   ]
  },
  {
   "cell_type": "code",
   "execution_count": 135,
   "id": "75aff15f",
   "metadata": {
    "ExecuteTime": {
     "end_time": "2023-01-25T11:34:53.108789Z",
     "start_time": "2023-01-25T11:34:53.096802Z"
    }
   },
   "outputs": [
    {
     "data": {
      "text/plain": [
       "country                                                Argentina\n",
       "description    Rubbery on the nose, then sharp in the mouth, ...\n",
       "points                                                        80\n",
       "price                                                        8.0\n",
       "province                                        Mendoza Province\n",
       "region_1                                                 Mendoza\n",
       "title                       Finca El Origen 2010 Syrah (Mendoza)\n",
       "variety                                                    Syrah\n",
       "winery                                           Finca El Origen\n",
       "Name: 102262, dtype: object"
      ]
     },
     "execution_count": 135,
     "metadata": {},
     "output_type": "execute_result"
    }
   ],
   "source": [
    "df.iloc[101380, :]"
   ]
  },
  {
   "cell_type": "code",
   "execution_count": null,
   "id": "8caa1e79",
   "metadata": {},
   "outputs": [],
   "source": []
  }
 ],
 "metadata": {
  "kernelspec": {
   "display_name": "Python 3 (ipykernel)",
   "language": "python",
   "name": "python3"
  },
  "language_info": {
   "codemirror_mode": {
    "name": "ipython",
    "version": 3
   },
   "file_extension": ".py",
   "mimetype": "text/x-python",
   "name": "python",
   "nbconvert_exporter": "python",
   "pygments_lexer": "ipython3",
   "version": "3.10.6"
  }
 },
 "nbformat": 4,
 "nbformat_minor": 5
}
