{
 "cells": [
  {
   "cell_type": "code",
   "execution_count": 1,
   "id": "3782909b",
   "metadata": {
    "ExecuteTime": {
     "end_time": "2023-01-25T12:09:08.125619Z",
     "start_time": "2023-01-25T12:09:07.372221Z"
    }
   },
   "outputs": [],
   "source": [
    "import numpy as np\n",
    "import matplotlib.pyplot as plt\n",
    "import seaborn as sns\n",
    "import pandas as pd"
   ]
  },
  {
   "cell_type": "code",
   "execution_count": 2,
   "id": "c13aa303",
   "metadata": {
    "ExecuteTime": {
     "end_time": "2023-01-25T12:09:08.908546Z",
     "start_time": "2023-01-25T12:09:08.126736Z"
    }
   },
   "outputs": [
    {
     "data": {
      "text/html": [
       "<div>\n",
       "<style scoped>\n",
       "    .dataframe tbody tr th:only-of-type {\n",
       "        vertical-align: middle;\n",
       "    }\n",
       "\n",
       "    .dataframe tbody tr th {\n",
       "        vertical-align: top;\n",
       "    }\n",
       "\n",
       "    .dataframe thead th {\n",
       "        text-align: right;\n",
       "    }\n",
       "</style>\n",
       "<table border=\"1\" class=\"dataframe\">\n",
       "  <thead>\n",
       "    <tr style=\"text-align: right;\">\n",
       "      <th></th>\n",
       "      <th>Unnamed: 0</th>\n",
       "      <th>country</th>\n",
       "      <th>description</th>\n",
       "      <th>designation</th>\n",
       "      <th>points</th>\n",
       "      <th>price</th>\n",
       "      <th>province</th>\n",
       "      <th>region_1</th>\n",
       "      <th>region_2</th>\n",
       "      <th>taster_name</th>\n",
       "      <th>taster_twitter_handle</th>\n",
       "      <th>title</th>\n",
       "      <th>variety</th>\n",
       "      <th>winery</th>\n",
       "    </tr>\n",
       "  </thead>\n",
       "  <tbody>\n",
       "    <tr>\n",
       "      <th>0</th>\n",
       "      <td>0</td>\n",
       "      <td>Italy</td>\n",
       "      <td>Aromas include tropical fruit, broom, brimston...</td>\n",
       "      <td>Vulkà Bianco</td>\n",
       "      <td>87</td>\n",
       "      <td>NaN</td>\n",
       "      <td>Sicily &amp; Sardinia</td>\n",
       "      <td>Etna</td>\n",
       "      <td>NaN</td>\n",
       "      <td>Kerin O’Keefe</td>\n",
       "      <td>@kerinokeefe</td>\n",
       "      <td>Nicosia 2013 Vulkà Bianco  (Etna)</td>\n",
       "      <td>White Blend</td>\n",
       "      <td>Nicosia</td>\n",
       "    </tr>\n",
       "    <tr>\n",
       "      <th>1</th>\n",
       "      <td>1</td>\n",
       "      <td>Portugal</td>\n",
       "      <td>This is ripe and fruity, a wine that is smooth...</td>\n",
       "      <td>Avidagos</td>\n",
       "      <td>87</td>\n",
       "      <td>15.0</td>\n",
       "      <td>Douro</td>\n",
       "      <td>NaN</td>\n",
       "      <td>NaN</td>\n",
       "      <td>Roger Voss</td>\n",
       "      <td>@vossroger</td>\n",
       "      <td>Quinta dos Avidagos 2011 Avidagos Red (Douro)</td>\n",
       "      <td>Portuguese Red</td>\n",
       "      <td>Quinta dos Avidagos</td>\n",
       "    </tr>\n",
       "    <tr>\n",
       "      <th>2</th>\n",
       "      <td>2</td>\n",
       "      <td>US</td>\n",
       "      <td>Tart and snappy, the flavors of lime flesh and...</td>\n",
       "      <td>NaN</td>\n",
       "      <td>87</td>\n",
       "      <td>14.0</td>\n",
       "      <td>Oregon</td>\n",
       "      <td>Willamette Valley</td>\n",
       "      <td>Willamette Valley</td>\n",
       "      <td>Paul Gregutt</td>\n",
       "      <td>@paulgwine</td>\n",
       "      <td>Rainstorm 2013 Pinot Gris (Willamette Valley)</td>\n",
       "      <td>Pinot Gris</td>\n",
       "      <td>Rainstorm</td>\n",
       "    </tr>\n",
       "    <tr>\n",
       "      <th>3</th>\n",
       "      <td>3</td>\n",
       "      <td>US</td>\n",
       "      <td>Pineapple rind, lemon pith and orange blossom ...</td>\n",
       "      <td>Reserve Late Harvest</td>\n",
       "      <td>87</td>\n",
       "      <td>13.0</td>\n",
       "      <td>Michigan</td>\n",
       "      <td>Lake Michigan Shore</td>\n",
       "      <td>NaN</td>\n",
       "      <td>Alexander Peartree</td>\n",
       "      <td>NaN</td>\n",
       "      <td>St. Julian 2013 Reserve Late Harvest Riesling ...</td>\n",
       "      <td>Riesling</td>\n",
       "      <td>St. Julian</td>\n",
       "    </tr>\n",
       "    <tr>\n",
       "      <th>4</th>\n",
       "      <td>4</td>\n",
       "      <td>US</td>\n",
       "      <td>Much like the regular bottling from 2012, this...</td>\n",
       "      <td>Vintner's Reserve Wild Child Block</td>\n",
       "      <td>87</td>\n",
       "      <td>65.0</td>\n",
       "      <td>Oregon</td>\n",
       "      <td>Willamette Valley</td>\n",
       "      <td>Willamette Valley</td>\n",
       "      <td>Paul Gregutt</td>\n",
       "      <td>@paulgwine</td>\n",
       "      <td>Sweet Cheeks 2012 Vintner's Reserve Wild Child...</td>\n",
       "      <td>Pinot Noir</td>\n",
       "      <td>Sweet Cheeks</td>\n",
       "    </tr>\n",
       "  </tbody>\n",
       "</table>\n",
       "</div>"
      ],
      "text/plain": [
       "   Unnamed: 0   country                                        description  \\\n",
       "0           0     Italy  Aromas include tropical fruit, broom, brimston...   \n",
       "1           1  Portugal  This is ripe and fruity, a wine that is smooth...   \n",
       "2           2        US  Tart and snappy, the flavors of lime flesh and...   \n",
       "3           3        US  Pineapple rind, lemon pith and orange blossom ...   \n",
       "4           4        US  Much like the regular bottling from 2012, this...   \n",
       "\n",
       "                          designation  points  price           province  \\\n",
       "0                        Vulkà Bianco      87    NaN  Sicily & Sardinia   \n",
       "1                            Avidagos      87   15.0              Douro   \n",
       "2                                 NaN      87   14.0             Oregon   \n",
       "3                Reserve Late Harvest      87   13.0           Michigan   \n",
       "4  Vintner's Reserve Wild Child Block      87   65.0             Oregon   \n",
       "\n",
       "              region_1           region_2         taster_name  \\\n",
       "0                 Etna                NaN       Kerin O’Keefe   \n",
       "1                  NaN                NaN          Roger Voss   \n",
       "2    Willamette Valley  Willamette Valley        Paul Gregutt   \n",
       "3  Lake Michigan Shore                NaN  Alexander Peartree   \n",
       "4    Willamette Valley  Willamette Valley        Paul Gregutt   \n",
       "\n",
       "  taster_twitter_handle                                              title  \\\n",
       "0          @kerinokeefe                  Nicosia 2013 Vulkà Bianco  (Etna)   \n",
       "1            @vossroger      Quinta dos Avidagos 2011 Avidagos Red (Douro)   \n",
       "2           @paulgwine       Rainstorm 2013 Pinot Gris (Willamette Valley)   \n",
       "3                   NaN  St. Julian 2013 Reserve Late Harvest Riesling ...   \n",
       "4           @paulgwine   Sweet Cheeks 2012 Vintner's Reserve Wild Child...   \n",
       "\n",
       "          variety               winery  \n",
       "0     White Blend              Nicosia  \n",
       "1  Portuguese Red  Quinta dos Avidagos  \n",
       "2      Pinot Gris            Rainstorm  \n",
       "3        Riesling           St. Julian  \n",
       "4      Pinot Noir         Sweet Cheeks  "
      ]
     },
     "execution_count": 2,
     "metadata": {},
     "output_type": "execute_result"
    }
   ],
   "source": [
    "df = pd.read_csv(\"winemag-data-130k-v2.csv.zip\")\n",
    "df.head()"
   ]
  },
  {
   "cell_type": "code",
   "execution_count": 3,
   "id": "789c5cdd",
   "metadata": {
    "ExecuteTime": {
     "end_time": "2023-01-25T12:09:08.918432Z",
     "start_time": "2023-01-25T12:09:08.910750Z"
    }
   },
   "outputs": [],
   "source": [
    "df = df.drop(columns=[\"Unnamed: 0\", \"designation\", \"taster_name\", \"taster_twitter_handle\"])"
   ]
  },
  {
   "cell_type": "code",
   "execution_count": 4,
   "id": "1bb1289b",
   "metadata": {
    "ExecuteTime": {
     "end_time": "2023-01-25T12:09:08.925771Z",
     "start_time": "2023-01-25T12:09:08.919407Z"
    }
   },
   "outputs": [
    {
     "data": {
      "text/html": [
       "<div>\n",
       "<style scoped>\n",
       "    .dataframe tbody tr th:only-of-type {\n",
       "        vertical-align: middle;\n",
       "    }\n",
       "\n",
       "    .dataframe tbody tr th {\n",
       "        vertical-align: top;\n",
       "    }\n",
       "\n",
       "    .dataframe thead th {\n",
       "        text-align: right;\n",
       "    }\n",
       "</style>\n",
       "<table border=\"1\" class=\"dataframe\">\n",
       "  <thead>\n",
       "    <tr style=\"text-align: right;\">\n",
       "      <th></th>\n",
       "      <th>country</th>\n",
       "      <th>description</th>\n",
       "      <th>points</th>\n",
       "      <th>price</th>\n",
       "      <th>province</th>\n",
       "      <th>region_1</th>\n",
       "      <th>region_2</th>\n",
       "      <th>title</th>\n",
       "      <th>variety</th>\n",
       "      <th>winery</th>\n",
       "    </tr>\n",
       "  </thead>\n",
       "  <tbody>\n",
       "    <tr>\n",
       "      <th>0</th>\n",
       "      <td>Italy</td>\n",
       "      <td>Aromas include tropical fruit, broom, brimston...</td>\n",
       "      <td>87</td>\n",
       "      <td>NaN</td>\n",
       "      <td>Sicily &amp; Sardinia</td>\n",
       "      <td>Etna</td>\n",
       "      <td>NaN</td>\n",
       "      <td>Nicosia 2013 Vulkà Bianco  (Etna)</td>\n",
       "      <td>White Blend</td>\n",
       "      <td>Nicosia</td>\n",
       "    </tr>\n",
       "    <tr>\n",
       "      <th>1</th>\n",
       "      <td>Portugal</td>\n",
       "      <td>This is ripe and fruity, a wine that is smooth...</td>\n",
       "      <td>87</td>\n",
       "      <td>15.0</td>\n",
       "      <td>Douro</td>\n",
       "      <td>NaN</td>\n",
       "      <td>NaN</td>\n",
       "      <td>Quinta dos Avidagos 2011 Avidagos Red (Douro)</td>\n",
       "      <td>Portuguese Red</td>\n",
       "      <td>Quinta dos Avidagos</td>\n",
       "    </tr>\n",
       "    <tr>\n",
       "      <th>2</th>\n",
       "      <td>US</td>\n",
       "      <td>Tart and snappy, the flavors of lime flesh and...</td>\n",
       "      <td>87</td>\n",
       "      <td>14.0</td>\n",
       "      <td>Oregon</td>\n",
       "      <td>Willamette Valley</td>\n",
       "      <td>Willamette Valley</td>\n",
       "      <td>Rainstorm 2013 Pinot Gris (Willamette Valley)</td>\n",
       "      <td>Pinot Gris</td>\n",
       "      <td>Rainstorm</td>\n",
       "    </tr>\n",
       "    <tr>\n",
       "      <th>3</th>\n",
       "      <td>US</td>\n",
       "      <td>Pineapple rind, lemon pith and orange blossom ...</td>\n",
       "      <td>87</td>\n",
       "      <td>13.0</td>\n",
       "      <td>Michigan</td>\n",
       "      <td>Lake Michigan Shore</td>\n",
       "      <td>NaN</td>\n",
       "      <td>St. Julian 2013 Reserve Late Harvest Riesling ...</td>\n",
       "      <td>Riesling</td>\n",
       "      <td>St. Julian</td>\n",
       "    </tr>\n",
       "    <tr>\n",
       "      <th>4</th>\n",
       "      <td>US</td>\n",
       "      <td>Much like the regular bottling from 2012, this...</td>\n",
       "      <td>87</td>\n",
       "      <td>65.0</td>\n",
       "      <td>Oregon</td>\n",
       "      <td>Willamette Valley</td>\n",
       "      <td>Willamette Valley</td>\n",
       "      <td>Sweet Cheeks 2012 Vintner's Reserve Wild Child...</td>\n",
       "      <td>Pinot Noir</td>\n",
       "      <td>Sweet Cheeks</td>\n",
       "    </tr>\n",
       "  </tbody>\n",
       "</table>\n",
       "</div>"
      ],
      "text/plain": [
       "    country                                        description  points  price  \\\n",
       "0     Italy  Aromas include tropical fruit, broom, brimston...      87    NaN   \n",
       "1  Portugal  This is ripe and fruity, a wine that is smooth...      87   15.0   \n",
       "2        US  Tart and snappy, the flavors of lime flesh and...      87   14.0   \n",
       "3        US  Pineapple rind, lemon pith and orange blossom ...      87   13.0   \n",
       "4        US  Much like the regular bottling from 2012, this...      87   65.0   \n",
       "\n",
       "            province             region_1           region_2  \\\n",
       "0  Sicily & Sardinia                 Etna                NaN   \n",
       "1              Douro                  NaN                NaN   \n",
       "2             Oregon    Willamette Valley  Willamette Valley   \n",
       "3           Michigan  Lake Michigan Shore                NaN   \n",
       "4             Oregon    Willamette Valley  Willamette Valley   \n",
       "\n",
       "                                               title         variety  \\\n",
       "0                  Nicosia 2013 Vulkà Bianco  (Etna)     White Blend   \n",
       "1      Quinta dos Avidagos 2011 Avidagos Red (Douro)  Portuguese Red   \n",
       "2      Rainstorm 2013 Pinot Gris (Willamette Valley)      Pinot Gris   \n",
       "3  St. Julian 2013 Reserve Late Harvest Riesling ...        Riesling   \n",
       "4  Sweet Cheeks 2012 Vintner's Reserve Wild Child...      Pinot Noir   \n",
       "\n",
       "                winery  \n",
       "0              Nicosia  \n",
       "1  Quinta dos Avidagos  \n",
       "2            Rainstorm  \n",
       "3           St. Julian  \n",
       "4         Sweet Cheeks  "
      ]
     },
     "execution_count": 4,
     "metadata": {},
     "output_type": "execute_result"
    }
   ],
   "source": [
    "df.head()"
   ]
  },
  {
   "cell_type": "code",
   "execution_count": 5,
   "id": "9ed6d2c8",
   "metadata": {
    "ExecuteTime": {
     "end_time": "2023-01-25T12:09:08.929957Z",
     "start_time": "2023-01-25T12:09:08.927170Z"
    }
   },
   "outputs": [
    {
     "data": {
      "text/plain": [
       "(129971, 10)"
      ]
     },
     "execution_count": 5,
     "metadata": {},
     "output_type": "execute_result"
    }
   ],
   "source": [
    "df.shape"
   ]
  },
  {
   "cell_type": "code",
   "execution_count": 6,
   "id": "99e59c19",
   "metadata": {
    "ExecuteTime": {
     "end_time": "2023-01-25T12:09:09.118573Z",
     "start_time": "2023-01-25T12:09:08.931115Z"
    }
   },
   "outputs": [
    {
     "data": {
      "text/plain": [
       "country            43\n",
       "description    119955\n",
       "points             21\n",
       "price             390\n",
       "province          425\n",
       "region_1         1229\n",
       "region_2           17\n",
       "title          118840\n",
       "variety           707\n",
       "winery          16757\n",
       "dtype: int64"
      ]
     },
     "execution_count": 6,
     "metadata": {},
     "output_type": "execute_result"
    }
   ],
   "source": [
    "df.nunique()"
   ]
  },
  {
   "cell_type": "code",
   "execution_count": 7,
   "id": "34584e88",
   "metadata": {
    "ExecuteTime": {
     "end_time": "2023-01-25T12:09:09.209381Z",
     "start_time": "2023-01-25T12:09:09.119703Z"
    }
   },
   "outputs": [
    {
     "data": {
      "text/plain": [
       "country           63\n",
       "description        0\n",
       "points             0\n",
       "price           8996\n",
       "province          63\n",
       "region_1       21247\n",
       "region_2       79460\n",
       "title              0\n",
       "variety            1\n",
       "winery             0\n",
       "dtype: int64"
      ]
     },
     "execution_count": 7,
     "metadata": {},
     "output_type": "execute_result"
    }
   ],
   "source": [
    "df.isna().sum()"
   ]
  },
  {
   "cell_type": "code",
   "execution_count": 8,
   "id": "4c2cffe3",
   "metadata": {
    "ExecuteTime": {
     "end_time": "2023-01-25T12:09:09.243707Z",
     "start_time": "2023-01-25T12:09:09.210456Z"
    }
   },
   "outputs": [],
   "source": [
    "df.dropna(subset=['country', 'variety'], inplace=True)"
   ]
  },
  {
   "cell_type": "code",
   "execution_count": 9,
   "id": "eb4b1d3a",
   "metadata": {
    "ExecuteTime": {
     "end_time": "2023-01-25T12:09:09.333355Z",
     "start_time": "2023-01-25T12:09:09.244964Z"
    }
   },
   "outputs": [
    {
     "data": {
      "text/plain": [
       "country            0\n",
       "description        0\n",
       "points             0\n",
       "price           8992\n",
       "province           0\n",
       "region_1       21183\n",
       "region_2       79396\n",
       "title              0\n",
       "variety            0\n",
       "winery             0\n",
       "dtype: int64"
      ]
     },
     "execution_count": 9,
     "metadata": {},
     "output_type": "execute_result"
    }
   ],
   "source": [
    "df.isna().sum()"
   ]
  },
  {
   "cell_type": "code",
   "execution_count": 10,
   "id": "f017dc1e",
   "metadata": {
    "ExecuteTime": {
     "end_time": "2023-01-25T12:09:09.343532Z",
     "start_time": "2023-01-25T12:09:09.334230Z"
    }
   },
   "outputs": [],
   "source": [
    "df.drop(columns=[\"region_2\"], inplace=True)"
   ]
  },
  {
   "cell_type": "code",
   "execution_count": 11,
   "id": "d2707586",
   "metadata": {
    "ExecuteTime": {
     "end_time": "2023-01-25T12:09:09.361165Z",
     "start_time": "2023-01-25T12:09:09.344555Z"
    }
   },
   "outputs": [],
   "source": [
    "df[\"region_1\"] = df[\"region_1\"].fillna(\"\")\n",
    "df[\"price\"] = df[\"price\"].fillna(df[\"price\"].median())"
   ]
  },
  {
   "cell_type": "code",
   "execution_count": 12,
   "id": "11fc8f9f",
   "metadata": {
    "ExecuteTime": {
     "end_time": "2023-01-25T12:09:09.561168Z",
     "start_time": "2023-01-25T12:09:09.366043Z"
    }
   },
   "outputs": [],
   "source": [
    "df = df.drop_duplicates()"
   ]
  },
  {
   "cell_type": "code",
   "execution_count": 16,
   "id": "470f180e",
   "metadata": {
    "ExecuteTime": {
     "end_time": "2023-01-25T12:09:09.721108Z",
     "start_time": "2023-01-25T12:09:09.648234Z"
    }
   },
   "outputs": [
    {
     "data": {
      "text/plain": [
       "country        0\n",
       "description    0\n",
       "points         0\n",
       "price          0\n",
       "province       0\n",
       "region_1       0\n",
       "title          0\n",
       "variety        0\n",
       "winery         0\n",
       "dtype: int64"
      ]
     },
     "execution_count": 16,
     "metadata": {},
     "output_type": "execute_result"
    }
   ],
   "source": [
    "df.isna().sum()"
   ]
  },
  {
   "cell_type": "code",
   "execution_count": 17,
   "id": "1959d1be",
   "metadata": {
    "ExecuteTime": {
     "end_time": "2023-01-25T12:09:09.724694Z",
     "start_time": "2023-01-25T12:09:09.722027Z"
    }
   },
   "outputs": [
    {
     "data": {
      "text/plain": [
       "(119928, 9)"
      ]
     },
     "execution_count": 17,
     "metadata": {},
     "output_type": "execute_result"
    }
   ],
   "source": [
    "df.shape"
   ]
  },
  {
   "cell_type": "code",
   "execution_count": 18,
   "id": "c2952623",
   "metadata": {
    "ExecuteTime": {
     "end_time": "2023-01-25T12:09:09.744732Z",
     "start_time": "2023-01-25T12:09:09.725886Z"
    }
   },
   "outputs": [],
   "source": [
    "df.drop_duplicates(subset=[\"title\"], inplace=True)"
   ]
  },
  {
   "cell_type": "code",
   "execution_count": 19,
   "id": "b8c2c6bd",
   "metadata": {
    "ExecuteTime": {
     "end_time": "2023-01-25T12:09:09.753878Z",
     "start_time": "2023-01-25T12:09:09.745800Z"
    }
   },
   "outputs": [
    {
     "data": {
      "text/html": [
       "<div>\n",
       "<style scoped>\n",
       "    .dataframe tbody tr th:only-of-type {\n",
       "        vertical-align: middle;\n",
       "    }\n",
       "\n",
       "    .dataframe tbody tr th {\n",
       "        vertical-align: top;\n",
       "    }\n",
       "\n",
       "    .dataframe thead th {\n",
       "        text-align: right;\n",
       "    }\n",
       "</style>\n",
       "<table border=\"1\" class=\"dataframe\">\n",
       "  <thead>\n",
       "    <tr style=\"text-align: right;\">\n",
       "      <th></th>\n",
       "      <th>country</th>\n",
       "      <th>description</th>\n",
       "      <th>points</th>\n",
       "      <th>price</th>\n",
       "      <th>province</th>\n",
       "      <th>region_1</th>\n",
       "      <th>title</th>\n",
       "      <th>variety</th>\n",
       "      <th>winery</th>\n",
       "    </tr>\n",
       "  </thead>\n",
       "  <tbody>\n",
       "    <tr>\n",
       "      <th>0</th>\n",
       "      <td>Italy</td>\n",
       "      <td>Aromas include tropical fruit, broom, brimston...</td>\n",
       "      <td>87</td>\n",
       "      <td>25.0</td>\n",
       "      <td>Sicily &amp; Sardinia</td>\n",
       "      <td>Etna</td>\n",
       "      <td>Nicosia 2013 Vulkà Bianco  (Etna)</td>\n",
       "      <td>White Blend</td>\n",
       "      <td>Nicosia</td>\n",
       "    </tr>\n",
       "    <tr>\n",
       "      <th>1</th>\n",
       "      <td>Portugal</td>\n",
       "      <td>This is ripe and fruity, a wine that is smooth...</td>\n",
       "      <td>87</td>\n",
       "      <td>15.0</td>\n",
       "      <td>Douro</td>\n",
       "      <td></td>\n",
       "      <td>Quinta dos Avidagos 2011 Avidagos Red (Douro)</td>\n",
       "      <td>Portuguese Red</td>\n",
       "      <td>Quinta dos Avidagos</td>\n",
       "    </tr>\n",
       "    <tr>\n",
       "      <th>2</th>\n",
       "      <td>US</td>\n",
       "      <td>Tart and snappy, the flavors of lime flesh and...</td>\n",
       "      <td>87</td>\n",
       "      <td>14.0</td>\n",
       "      <td>Oregon</td>\n",
       "      <td>Willamette Valley</td>\n",
       "      <td>Rainstorm 2013 Pinot Gris (Willamette Valley)</td>\n",
       "      <td>Pinot Gris</td>\n",
       "      <td>Rainstorm</td>\n",
       "    </tr>\n",
       "    <tr>\n",
       "      <th>3</th>\n",
       "      <td>US</td>\n",
       "      <td>Pineapple rind, lemon pith and orange blossom ...</td>\n",
       "      <td>87</td>\n",
       "      <td>13.0</td>\n",
       "      <td>Michigan</td>\n",
       "      <td>Lake Michigan Shore</td>\n",
       "      <td>St. Julian 2013 Reserve Late Harvest Riesling ...</td>\n",
       "      <td>Riesling</td>\n",
       "      <td>St. Julian</td>\n",
       "    </tr>\n",
       "    <tr>\n",
       "      <th>4</th>\n",
       "      <td>US</td>\n",
       "      <td>Much like the regular bottling from 2012, this...</td>\n",
       "      <td>87</td>\n",
       "      <td>65.0</td>\n",
       "      <td>Oregon</td>\n",
       "      <td>Willamette Valley</td>\n",
       "      <td>Sweet Cheeks 2012 Vintner's Reserve Wild Child...</td>\n",
       "      <td>Pinot Noir</td>\n",
       "      <td>Sweet Cheeks</td>\n",
       "    </tr>\n",
       "    <tr>\n",
       "      <th>...</th>\n",
       "      <td>...</td>\n",
       "      <td>...</td>\n",
       "      <td>...</td>\n",
       "      <td>...</td>\n",
       "      <td>...</td>\n",
       "      <td>...</td>\n",
       "      <td>...</td>\n",
       "      <td>...</td>\n",
       "      <td>...</td>\n",
       "    </tr>\n",
       "    <tr>\n",
       "      <th>118775</th>\n",
       "      <td>Germany</td>\n",
       "      <td>Notes of honeysuckle and cantaloupe sweeten th...</td>\n",
       "      <td>90</td>\n",
       "      <td>28.0</td>\n",
       "      <td>Mosel</td>\n",
       "      <td></td>\n",
       "      <td>Dr. H. Thanisch (Erben Müller-Burggraef) 2013 ...</td>\n",
       "      <td>Riesling</td>\n",
       "      <td>Dr. H. Thanisch (Erben Müller-Burggraef)</td>\n",
       "    </tr>\n",
       "    <tr>\n",
       "      <th>118776</th>\n",
       "      <td>US</td>\n",
       "      <td>Citation is given as much as a decade of bottl...</td>\n",
       "      <td>90</td>\n",
       "      <td>75.0</td>\n",
       "      <td>Oregon</td>\n",
       "      <td>Oregon</td>\n",
       "      <td>Citation 2004 Pinot Noir (Oregon)</td>\n",
       "      <td>Pinot Noir</td>\n",
       "      <td>Citation</td>\n",
       "    </tr>\n",
       "    <tr>\n",
       "      <th>118777</th>\n",
       "      <td>France</td>\n",
       "      <td>Well-drained gravel soil gives this wine its c...</td>\n",
       "      <td>90</td>\n",
       "      <td>30.0</td>\n",
       "      <td>Alsace</td>\n",
       "      <td>Alsace</td>\n",
       "      <td>Domaine Gresser 2013 Kritt Gewurztraminer (Als...</td>\n",
       "      <td>Gewürztraminer</td>\n",
       "      <td>Domaine Gresser</td>\n",
       "    </tr>\n",
       "    <tr>\n",
       "      <th>118778</th>\n",
       "      <td>France</td>\n",
       "      <td>A dry style of Pinot Gris, this is crisp with ...</td>\n",
       "      <td>90</td>\n",
       "      <td>32.0</td>\n",
       "      <td>Alsace</td>\n",
       "      <td>Alsace</td>\n",
       "      <td>Domaine Marcel Deiss 2012 Pinot Gris (Alsace)</td>\n",
       "      <td>Pinot Gris</td>\n",
       "      <td>Domaine Marcel Deiss</td>\n",
       "    </tr>\n",
       "    <tr>\n",
       "      <th>118779</th>\n",
       "      <td>France</td>\n",
       "      <td>Big, rich and off-dry, this is powered by inte...</td>\n",
       "      <td>90</td>\n",
       "      <td>21.0</td>\n",
       "      <td>Alsace</td>\n",
       "      <td>Alsace</td>\n",
       "      <td>Domaine Schoffit 2012 Lieu-dit Harth Cuvée Car...</td>\n",
       "      <td>Gewürztraminer</td>\n",
       "      <td>Domaine Schoffit</td>\n",
       "    </tr>\n",
       "  </tbody>\n",
       "</table>\n",
       "<p>118780 rows × 9 columns</p>\n",
       "</div>"
      ],
      "text/plain": [
       "         country                                        description  points  \\\n",
       "0          Italy  Aromas include tropical fruit, broom, brimston...      87   \n",
       "1       Portugal  This is ripe and fruity, a wine that is smooth...      87   \n",
       "2             US  Tart and snappy, the flavors of lime flesh and...      87   \n",
       "3             US  Pineapple rind, lemon pith and orange blossom ...      87   \n",
       "4             US  Much like the regular bottling from 2012, this...      87   \n",
       "...          ...                                                ...     ...   \n",
       "118775   Germany  Notes of honeysuckle and cantaloupe sweeten th...      90   \n",
       "118776        US  Citation is given as much as a decade of bottl...      90   \n",
       "118777    France  Well-drained gravel soil gives this wine its c...      90   \n",
       "118778    France  A dry style of Pinot Gris, this is crisp with ...      90   \n",
       "118779    France  Big, rich and off-dry, this is powered by inte...      90   \n",
       "\n",
       "        price           province             region_1  \\\n",
       "0        25.0  Sicily & Sardinia                 Etna   \n",
       "1        15.0              Douro                        \n",
       "2        14.0             Oregon    Willamette Valley   \n",
       "3        13.0           Michigan  Lake Michigan Shore   \n",
       "4        65.0             Oregon    Willamette Valley   \n",
       "...       ...                ...                  ...   \n",
       "118775   28.0              Mosel                        \n",
       "118776   75.0             Oregon               Oregon   \n",
       "118777   30.0             Alsace               Alsace   \n",
       "118778   32.0             Alsace               Alsace   \n",
       "118779   21.0             Alsace               Alsace   \n",
       "\n",
       "                                                    title         variety  \\\n",
       "0                       Nicosia 2013 Vulkà Bianco  (Etna)     White Blend   \n",
       "1           Quinta dos Avidagos 2011 Avidagos Red (Douro)  Portuguese Red   \n",
       "2           Rainstorm 2013 Pinot Gris (Willamette Valley)      Pinot Gris   \n",
       "3       St. Julian 2013 Reserve Late Harvest Riesling ...        Riesling   \n",
       "4       Sweet Cheeks 2012 Vintner's Reserve Wild Child...      Pinot Noir   \n",
       "...                                                   ...             ...   \n",
       "118775  Dr. H. Thanisch (Erben Müller-Burggraef) 2013 ...        Riesling   \n",
       "118776                  Citation 2004 Pinot Noir (Oregon)      Pinot Noir   \n",
       "118777  Domaine Gresser 2013 Kritt Gewurztraminer (Als...  Gewürztraminer   \n",
       "118778      Domaine Marcel Deiss 2012 Pinot Gris (Alsace)      Pinot Gris   \n",
       "118779  Domaine Schoffit 2012 Lieu-dit Harth Cuvée Car...  Gewürztraminer   \n",
       "\n",
       "                                          winery  \n",
       "0                                        Nicosia  \n",
       "1                            Quinta dos Avidagos  \n",
       "2                                      Rainstorm  \n",
       "3                                     St. Julian  \n",
       "4                                   Sweet Cheeks  \n",
       "...                                          ...  \n",
       "118775  Dr. H. Thanisch (Erben Müller-Burggraef)  \n",
       "118776                                  Citation  \n",
       "118777                           Domaine Gresser  \n",
       "118778                      Domaine Marcel Deiss  \n",
       "118779                          Domaine Schoffit  \n",
       "\n",
       "[118780 rows x 9 columns]"
      ]
     },
     "execution_count": 19,
     "metadata": {},
     "output_type": "execute_result"
    }
   ],
   "source": [
    "df.reset_index(inplace=True, drop=True)\n",
    "df"
   ]
  },
  {
   "cell_type": "code",
   "execution_count": 20,
   "id": "dface5b6",
   "metadata": {
    "ExecuteTime": {
     "end_time": "2023-01-25T12:09:10.571885Z",
     "start_time": "2023-01-25T12:09:09.755069Z"
    }
   },
   "outputs": [],
   "source": [
    "df.to_csv(\"wine.csv\", index_label=\"wine_index\", encoding='utf-8-sig')"
   ]
  },
  {
   "cell_type": "code",
   "execution_count": 21,
   "id": "9be1e84c",
   "metadata": {
    "ExecuteTime": {
     "end_time": "2023-01-25T12:09:10.735510Z",
     "start_time": "2023-01-25T12:09:10.572797Z"
    }
   },
   "outputs": [
    {
     "data": {
      "text/plain": [
       "country            43\n",
       "description    118747\n",
       "points             21\n",
       "price             386\n",
       "province          425\n",
       "region_1         1230\n",
       "title          118780\n",
       "variety           701\n",
       "winery          16745\n",
       "dtype: int64"
      ]
     },
     "execution_count": 21,
     "metadata": {},
     "output_type": "execute_result"
    }
   ],
   "source": [
    "df.nunique()"
   ]
  },
  {
   "cell_type": "code",
   "execution_count": 22,
   "id": "322adab7",
   "metadata": {
    "ExecuteTime": {
     "end_time": "2023-01-25T12:09:10.899753Z",
     "start_time": "2023-01-25T12:09:10.736663Z"
    }
   },
   "outputs": [
    {
     "data": {
      "text/plain": [
       "country            43\n",
       "description    118747\n",
       "points             21\n",
       "price             386\n",
       "province          425\n",
       "region_1         1230\n",
       "title          118780\n",
       "variety           701\n",
       "winery          16745\n",
       "dtype: int64"
      ]
     },
     "execution_count": 22,
     "metadata": {},
     "output_type": "execute_result"
    }
   ],
   "source": [
    "df.nunique()"
   ]
  },
  {
   "cell_type": "code",
   "execution_count": 23,
   "id": "c469a527",
   "metadata": {
    "ExecuteTime": {
     "end_time": "2023-01-25T12:09:10.903335Z",
     "start_time": "2023-01-25T12:09:10.900777Z"
    }
   },
   "outputs": [
    {
     "data": {
      "text/plain": [
       "(118780, 9)"
      ]
     },
     "execution_count": 23,
     "metadata": {},
     "output_type": "execute_result"
    }
   ],
   "source": [
    "df.shape"
   ]
  },
  {
   "cell_type": "code",
   "execution_count": 24,
   "id": "9ed0de6b",
   "metadata": {
    "ExecuteTime": {
     "end_time": "2023-01-25T12:09:10.910437Z",
     "start_time": "2023-01-25T12:09:10.904491Z"
    }
   },
   "outputs": [],
   "source": [
    "sub_df = df.drop(columns=['winery', 'region_1'])"
   ]
  },
  {
   "cell_type": "code",
   "execution_count": 25,
   "id": "8c8bf1d3",
   "metadata": {
    "ExecuteTime": {
     "end_time": "2023-01-25T12:09:10.917138Z",
     "start_time": "2023-01-25T12:09:10.911609Z"
    }
   },
   "outputs": [
    {
     "data": {
      "text/html": [
       "<div>\n",
       "<style scoped>\n",
       "    .dataframe tbody tr th:only-of-type {\n",
       "        vertical-align: middle;\n",
       "    }\n",
       "\n",
       "    .dataframe tbody tr th {\n",
       "        vertical-align: top;\n",
       "    }\n",
       "\n",
       "    .dataframe thead th {\n",
       "        text-align: right;\n",
       "    }\n",
       "</style>\n",
       "<table border=\"1\" class=\"dataframe\">\n",
       "  <thead>\n",
       "    <tr style=\"text-align: right;\">\n",
       "      <th></th>\n",
       "      <th>country</th>\n",
       "      <th>description</th>\n",
       "      <th>points</th>\n",
       "      <th>price</th>\n",
       "      <th>province</th>\n",
       "      <th>title</th>\n",
       "      <th>variety</th>\n",
       "    </tr>\n",
       "  </thead>\n",
       "  <tbody>\n",
       "    <tr>\n",
       "      <th>0</th>\n",
       "      <td>Italy</td>\n",
       "      <td>Aromas include tropical fruit, broom, brimston...</td>\n",
       "      <td>87</td>\n",
       "      <td>25.0</td>\n",
       "      <td>Sicily &amp; Sardinia</td>\n",
       "      <td>Nicosia 2013 Vulkà Bianco  (Etna)</td>\n",
       "      <td>White Blend</td>\n",
       "    </tr>\n",
       "    <tr>\n",
       "      <th>1</th>\n",
       "      <td>Portugal</td>\n",
       "      <td>This is ripe and fruity, a wine that is smooth...</td>\n",
       "      <td>87</td>\n",
       "      <td>15.0</td>\n",
       "      <td>Douro</td>\n",
       "      <td>Quinta dos Avidagos 2011 Avidagos Red (Douro)</td>\n",
       "      <td>Portuguese Red</td>\n",
       "    </tr>\n",
       "    <tr>\n",
       "      <th>2</th>\n",
       "      <td>US</td>\n",
       "      <td>Tart and snappy, the flavors of lime flesh and...</td>\n",
       "      <td>87</td>\n",
       "      <td>14.0</td>\n",
       "      <td>Oregon</td>\n",
       "      <td>Rainstorm 2013 Pinot Gris (Willamette Valley)</td>\n",
       "      <td>Pinot Gris</td>\n",
       "    </tr>\n",
       "    <tr>\n",
       "      <th>3</th>\n",
       "      <td>US</td>\n",
       "      <td>Pineapple rind, lemon pith and orange blossom ...</td>\n",
       "      <td>87</td>\n",
       "      <td>13.0</td>\n",
       "      <td>Michigan</td>\n",
       "      <td>St. Julian 2013 Reserve Late Harvest Riesling ...</td>\n",
       "      <td>Riesling</td>\n",
       "    </tr>\n",
       "    <tr>\n",
       "      <th>4</th>\n",
       "      <td>US</td>\n",
       "      <td>Much like the regular bottling from 2012, this...</td>\n",
       "      <td>87</td>\n",
       "      <td>65.0</td>\n",
       "      <td>Oregon</td>\n",
       "      <td>Sweet Cheeks 2012 Vintner's Reserve Wild Child...</td>\n",
       "      <td>Pinot Noir</td>\n",
       "    </tr>\n",
       "  </tbody>\n",
       "</table>\n",
       "</div>"
      ],
      "text/plain": [
       "    country                                        description  points  price  \\\n",
       "0     Italy  Aromas include tropical fruit, broom, brimston...      87   25.0   \n",
       "1  Portugal  This is ripe and fruity, a wine that is smooth...      87   15.0   \n",
       "2        US  Tart and snappy, the flavors of lime flesh and...      87   14.0   \n",
       "3        US  Pineapple rind, lemon pith and orange blossom ...      87   13.0   \n",
       "4        US  Much like the regular bottling from 2012, this...      87   65.0   \n",
       "\n",
       "            province                                              title  \\\n",
       "0  Sicily & Sardinia                  Nicosia 2013 Vulkà Bianco  (Etna)   \n",
       "1              Douro      Quinta dos Avidagos 2011 Avidagos Red (Douro)   \n",
       "2             Oregon      Rainstorm 2013 Pinot Gris (Willamette Valley)   \n",
       "3           Michigan  St. Julian 2013 Reserve Late Harvest Riesling ...   \n",
       "4             Oregon  Sweet Cheeks 2012 Vintner's Reserve Wild Child...   \n",
       "\n",
       "          variety  \n",
       "0     White Blend  \n",
       "1  Portuguese Red  \n",
       "2      Pinot Gris  \n",
       "3        Riesling  \n",
       "4      Pinot Noir  "
      ]
     },
     "execution_count": 25,
     "metadata": {},
     "output_type": "execute_result"
    }
   ],
   "source": [
    "sub_df.head()"
   ]
  },
  {
   "cell_type": "code",
   "execution_count": 26,
   "id": "946dbd90",
   "metadata": {
    "ExecuteTime": {
     "end_time": "2023-01-25T12:09:10.925353Z",
     "start_time": "2023-01-25T12:09:10.918512Z"
    }
   },
   "outputs": [
    {
     "data": {
      "text/html": [
       "<div>\n",
       "<style scoped>\n",
       "    .dataframe tbody tr th:only-of-type {\n",
       "        vertical-align: middle;\n",
       "    }\n",
       "\n",
       "    .dataframe tbody tr th {\n",
       "        vertical-align: top;\n",
       "    }\n",
       "\n",
       "    .dataframe thead th {\n",
       "        text-align: right;\n",
       "    }\n",
       "</style>\n",
       "<table border=\"1\" class=\"dataframe\">\n",
       "  <thead>\n",
       "    <tr style=\"text-align: right;\">\n",
       "      <th></th>\n",
       "      <th>country</th>\n",
       "      <th>description</th>\n",
       "      <th>points</th>\n",
       "      <th>price</th>\n",
       "      <th>province</th>\n",
       "      <th>variety</th>\n",
       "    </tr>\n",
       "    <tr>\n",
       "      <th>title</th>\n",
       "      <th></th>\n",
       "      <th></th>\n",
       "      <th></th>\n",
       "      <th></th>\n",
       "      <th></th>\n",
       "      <th></th>\n",
       "    </tr>\n",
       "  </thead>\n",
       "  <tbody>\n",
       "    <tr>\n",
       "      <th>Nicosia 2013 Vulkà Bianco  (Etna)</th>\n",
       "      <td>Italy</td>\n",
       "      <td>Aromas include tropical fruit, broom, brimston...</td>\n",
       "      <td>87</td>\n",
       "      <td>25.0</td>\n",
       "      <td>Sicily &amp; Sardinia</td>\n",
       "      <td>White Blend</td>\n",
       "    </tr>\n",
       "    <tr>\n",
       "      <th>Quinta dos Avidagos 2011 Avidagos Red (Douro)</th>\n",
       "      <td>Portugal</td>\n",
       "      <td>This is ripe and fruity, a wine that is smooth...</td>\n",
       "      <td>87</td>\n",
       "      <td>15.0</td>\n",
       "      <td>Douro</td>\n",
       "      <td>Portuguese Red</td>\n",
       "    </tr>\n",
       "    <tr>\n",
       "      <th>Rainstorm 2013 Pinot Gris (Willamette Valley)</th>\n",
       "      <td>US</td>\n",
       "      <td>Tart and snappy, the flavors of lime flesh and...</td>\n",
       "      <td>87</td>\n",
       "      <td>14.0</td>\n",
       "      <td>Oregon</td>\n",
       "      <td>Pinot Gris</td>\n",
       "    </tr>\n",
       "    <tr>\n",
       "      <th>St. Julian 2013 Reserve Late Harvest Riesling (Lake Michigan Shore)</th>\n",
       "      <td>US</td>\n",
       "      <td>Pineapple rind, lemon pith and orange blossom ...</td>\n",
       "      <td>87</td>\n",
       "      <td>13.0</td>\n",
       "      <td>Michigan</td>\n",
       "      <td>Riesling</td>\n",
       "    </tr>\n",
       "    <tr>\n",
       "      <th>Sweet Cheeks 2012 Vintner's Reserve Wild Child Block Pinot Noir (Willamette Valley)</th>\n",
       "      <td>US</td>\n",
       "      <td>Much like the regular bottling from 2012, this...</td>\n",
       "      <td>87</td>\n",
       "      <td>65.0</td>\n",
       "      <td>Oregon</td>\n",
       "      <td>Pinot Noir</td>\n",
       "    </tr>\n",
       "  </tbody>\n",
       "</table>\n",
       "</div>"
      ],
      "text/plain": [
       "                                                     country  \\\n",
       "title                                                          \n",
       "Nicosia 2013 Vulkà Bianco  (Etna)                      Italy   \n",
       "Quinta dos Avidagos 2011 Avidagos Red (Douro)       Portugal   \n",
       "Rainstorm 2013 Pinot Gris (Willamette Valley)             US   \n",
       "St. Julian 2013 Reserve Late Harvest Riesling (...        US   \n",
       "Sweet Cheeks 2012 Vintner's Reserve Wild Child ...        US   \n",
       "\n",
       "                                                                                          description  \\\n",
       "title                                                                                                   \n",
       "Nicosia 2013 Vulkà Bianco  (Etna)                   Aromas include tropical fruit, broom, brimston...   \n",
       "Quinta dos Avidagos 2011 Avidagos Red (Douro)       This is ripe and fruity, a wine that is smooth...   \n",
       "Rainstorm 2013 Pinot Gris (Willamette Valley)       Tart and snappy, the flavors of lime flesh and...   \n",
       "St. Julian 2013 Reserve Late Harvest Riesling (...  Pineapple rind, lemon pith and orange blossom ...   \n",
       "Sweet Cheeks 2012 Vintner's Reserve Wild Child ...  Much like the regular bottling from 2012, this...   \n",
       "\n",
       "                                                    points  price  \\\n",
       "title                                                               \n",
       "Nicosia 2013 Vulkà Bianco  (Etna)                       87   25.0   \n",
       "Quinta dos Avidagos 2011 Avidagos Red (Douro)           87   15.0   \n",
       "Rainstorm 2013 Pinot Gris (Willamette Valley)           87   14.0   \n",
       "St. Julian 2013 Reserve Late Harvest Riesling (...      87   13.0   \n",
       "Sweet Cheeks 2012 Vintner's Reserve Wild Child ...      87   65.0   \n",
       "\n",
       "                                                             province  \\\n",
       "title                                                                   \n",
       "Nicosia 2013 Vulkà Bianco  (Etna)                   Sicily & Sardinia   \n",
       "Quinta dos Avidagos 2011 Avidagos Red (Douro)                   Douro   \n",
       "Rainstorm 2013 Pinot Gris (Willamette Valley)                  Oregon   \n",
       "St. Julian 2013 Reserve Late Harvest Riesling (...           Michigan   \n",
       "Sweet Cheeks 2012 Vintner's Reserve Wild Child ...             Oregon   \n",
       "\n",
       "                                                           variety  \n",
       "title                                                               \n",
       "Nicosia 2013 Vulkà Bianco  (Etna)                      White Blend  \n",
       "Quinta dos Avidagos 2011 Avidagos Red (Douro)       Portuguese Red  \n",
       "Rainstorm 2013 Pinot Gris (Willamette Valley)           Pinot Gris  \n",
       "St. Julian 2013 Reserve Late Harvest Riesling (...        Riesling  \n",
       "Sweet Cheeks 2012 Vintner's Reserve Wild Child ...      Pinot Noir  "
      ]
     },
     "execution_count": 26,
     "metadata": {},
     "output_type": "execute_result"
    }
   ],
   "source": [
    "sub_df.set_index('title', inplace=True)\n",
    "sub_df.head()"
   ]
  },
  {
   "cell_type": "code",
   "execution_count": 27,
   "id": "3c7f44d4",
   "metadata": {
    "ExecuteTime": {
     "end_time": "2023-01-25T12:09:10.929130Z",
     "start_time": "2023-01-25T12:09:10.926387Z"
    }
   },
   "outputs": [
    {
     "data": {
      "text/plain": [
       "(118780, 6)"
      ]
     },
     "execution_count": 27,
     "metadata": {},
     "output_type": "execute_result"
    }
   ],
   "source": [
    "sub_df.shape"
   ]
  },
  {
   "cell_type": "code",
   "execution_count": 28,
   "id": "4906a757",
   "metadata": {
    "ExecuteTime": {
     "end_time": "2023-01-25T12:09:11.866196Z",
     "start_time": "2023-01-25T12:09:10.930327Z"
    }
   },
   "outputs": [
    {
     "data": {
      "text/html": [
       "<div>\n",
       "<style scoped>\n",
       "    .dataframe tbody tr th:only-of-type {\n",
       "        vertical-align: middle;\n",
       "    }\n",
       "\n",
       "    .dataframe tbody tr th {\n",
       "        vertical-align: top;\n",
       "    }\n",
       "\n",
       "    .dataframe thead th {\n",
       "        text-align: right;\n",
       "    }\n",
       "</style>\n",
       "<table border=\"1\" class=\"dataframe\">\n",
       "  <thead>\n",
       "    <tr style=\"text-align: right;\">\n",
       "      <th></th>\n",
       "      <th>description</th>\n",
       "      <th>points</th>\n",
       "      <th>price</th>\n",
       "      <th>country_Argentina</th>\n",
       "      <th>country_Armenia</th>\n",
       "      <th>country_Australia</th>\n",
       "      <th>country_Austria</th>\n",
       "      <th>country_Bosnia and Herzegovina</th>\n",
       "      <th>country_Brazil</th>\n",
       "      <th>country_Bulgaria</th>\n",
       "      <th>...</th>\n",
       "      <th>variety_Yapincak</th>\n",
       "      <th>variety_Zelen</th>\n",
       "      <th>variety_Zibibbo</th>\n",
       "      <th>variety_Zierfandler</th>\n",
       "      <th>variety_Zierfandler-Rotgipfler</th>\n",
       "      <th>variety_Zinfandel</th>\n",
       "      <th>variety_Zlahtina</th>\n",
       "      <th>variety_Zweigelt</th>\n",
       "      <th>variety_Çalkarası</th>\n",
       "      <th>variety_Žilavka</th>\n",
       "    </tr>\n",
       "    <tr>\n",
       "      <th>title</th>\n",
       "      <th></th>\n",
       "      <th></th>\n",
       "      <th></th>\n",
       "      <th></th>\n",
       "      <th></th>\n",
       "      <th></th>\n",
       "      <th></th>\n",
       "      <th></th>\n",
       "      <th></th>\n",
       "      <th></th>\n",
       "      <th></th>\n",
       "      <th></th>\n",
       "      <th></th>\n",
       "      <th></th>\n",
       "      <th></th>\n",
       "      <th></th>\n",
       "      <th></th>\n",
       "      <th></th>\n",
       "      <th></th>\n",
       "      <th></th>\n",
       "      <th></th>\n",
       "    </tr>\n",
       "  </thead>\n",
       "  <tbody>\n",
       "    <tr>\n",
       "      <th>Lone Madrone 2013 The Will Red (Paso Robles Willow Creek District)</th>\n",
       "      <td>Like most of Neil Collins' wines, this blend o...</td>\n",
       "      <td>90</td>\n",
       "      <td>45.0</td>\n",
       "      <td>0</td>\n",
       "      <td>0</td>\n",
       "      <td>0</td>\n",
       "      <td>0</td>\n",
       "      <td>0</td>\n",
       "      <td>0</td>\n",
       "      <td>0</td>\n",
       "      <td>...</td>\n",
       "      <td>0</td>\n",
       "      <td>0</td>\n",
       "      <td>0</td>\n",
       "      <td>0</td>\n",
       "      <td>0</td>\n",
       "      <td>0</td>\n",
       "      <td>0</td>\n",
       "      <td>0</td>\n",
       "      <td>0</td>\n",
       "      <td>0</td>\n",
       "    </tr>\n",
       "    <tr>\n",
       "      <th>Castellare di Castellina 2006 Coniale Cabernet Sauvignon (Toscana)</th>\n",
       "      <td>Coniale is one of those beautifully balanced I...</td>\n",
       "      <td>92</td>\n",
       "      <td>55.0</td>\n",
       "      <td>0</td>\n",
       "      <td>0</td>\n",
       "      <td>0</td>\n",
       "      <td>0</td>\n",
       "      <td>0</td>\n",
       "      <td>0</td>\n",
       "      <td>0</td>\n",
       "      <td>...</td>\n",
       "      <td>0</td>\n",
       "      <td>0</td>\n",
       "      <td>0</td>\n",
       "      <td>0</td>\n",
       "      <td>0</td>\n",
       "      <td>0</td>\n",
       "      <td>0</td>\n",
       "      <td>0</td>\n",
       "      <td>0</td>\n",
       "      <td>0</td>\n",
       "    </tr>\n",
       "    <tr>\n",
       "      <th>Hovey 2012 Rolleri Cuvée Tempranillo (Calaveras County)</th>\n",
       "      <td>Bold and effusive in flavor, this full-bodied ...</td>\n",
       "      <td>91</td>\n",
       "      <td>26.0</td>\n",
       "      <td>0</td>\n",
       "      <td>0</td>\n",
       "      <td>0</td>\n",
       "      <td>0</td>\n",
       "      <td>0</td>\n",
       "      <td>0</td>\n",
       "      <td>0</td>\n",
       "      <td>...</td>\n",
       "      <td>0</td>\n",
       "      <td>0</td>\n",
       "      <td>0</td>\n",
       "      <td>0</td>\n",
       "      <td>0</td>\n",
       "      <td>0</td>\n",
       "      <td>0</td>\n",
       "      <td>0</td>\n",
       "      <td>0</td>\n",
       "      <td>0</td>\n",
       "    </tr>\n",
       "    <tr>\n",
       "      <th>Mocine 2007 Otto Rintocchi Red (Toscana)</th>\n",
       "      <td>Here's an innovative approach to a super Tusca...</td>\n",
       "      <td>88</td>\n",
       "      <td>39.0</td>\n",
       "      <td>0</td>\n",
       "      <td>0</td>\n",
       "      <td>0</td>\n",
       "      <td>0</td>\n",
       "      <td>0</td>\n",
       "      <td>0</td>\n",
       "      <td>0</td>\n",
       "      <td>...</td>\n",
       "      <td>0</td>\n",
       "      <td>0</td>\n",
       "      <td>0</td>\n",
       "      <td>0</td>\n",
       "      <td>0</td>\n",
       "      <td>0</td>\n",
       "      <td>0</td>\n",
       "      <td>0</td>\n",
       "      <td>0</td>\n",
       "      <td>0</td>\n",
       "    </tr>\n",
       "    <tr>\n",
       "      <th>Fiddlehead 2011 Burtie Baby Pinot Noir (Sta. Rita Hills)</th>\n",
       "      <td>Winemaker Kathy Joseph delivers this seven-bar...</td>\n",
       "      <td>94</td>\n",
       "      <td>88.0</td>\n",
       "      <td>0</td>\n",
       "      <td>0</td>\n",
       "      <td>0</td>\n",
       "      <td>0</td>\n",
       "      <td>0</td>\n",
       "      <td>0</td>\n",
       "      <td>0</td>\n",
       "      <td>...</td>\n",
       "      <td>0</td>\n",
       "      <td>0</td>\n",
       "      <td>0</td>\n",
       "      <td>0</td>\n",
       "      <td>0</td>\n",
       "      <td>0</td>\n",
       "      <td>0</td>\n",
       "      <td>0</td>\n",
       "      <td>0</td>\n",
       "      <td>0</td>\n",
       "    </tr>\n",
       "  </tbody>\n",
       "</table>\n",
       "<p>5 rows × 1172 columns</p>\n",
       "</div>"
      ],
      "text/plain": [
       "                                                                                          description  \\\n",
       "title                                                                                                   \n",
       "Lone Madrone 2013 The Will Red (Paso Robles Wil...  Like most of Neil Collins' wines, this blend o...   \n",
       "Castellare di Castellina 2006 Coniale Cabernet ...  Coniale is one of those beautifully balanced I...   \n",
       "Hovey 2012 Rolleri Cuvée Tempranillo (Calaveras...  Bold and effusive in flavor, this full-bodied ...   \n",
       "Mocine 2007 Otto Rintocchi Red (Toscana)            Here's an innovative approach to a super Tusca...   \n",
       "Fiddlehead 2011 Burtie Baby Pinot Noir (Sta. Ri...  Winemaker Kathy Joseph delivers this seven-bar...   \n",
       "\n",
       "                                                    points  price  \\\n",
       "title                                                               \n",
       "Lone Madrone 2013 The Will Red (Paso Robles Wil...      90   45.0   \n",
       "Castellare di Castellina 2006 Coniale Cabernet ...      92   55.0   \n",
       "Hovey 2012 Rolleri Cuvée Tempranillo (Calaveras...      91   26.0   \n",
       "Mocine 2007 Otto Rintocchi Red (Toscana)                88   39.0   \n",
       "Fiddlehead 2011 Burtie Baby Pinot Noir (Sta. Ri...      94   88.0   \n",
       "\n",
       "                                                    country_Argentina  \\\n",
       "title                                                                   \n",
       "Lone Madrone 2013 The Will Red (Paso Robles Wil...                  0   \n",
       "Castellare di Castellina 2006 Coniale Cabernet ...                  0   \n",
       "Hovey 2012 Rolleri Cuvée Tempranillo (Calaveras...                  0   \n",
       "Mocine 2007 Otto Rintocchi Red (Toscana)                            0   \n",
       "Fiddlehead 2011 Burtie Baby Pinot Noir (Sta. Ri...                  0   \n",
       "\n",
       "                                                    country_Armenia  \\\n",
       "title                                                                 \n",
       "Lone Madrone 2013 The Will Red (Paso Robles Wil...                0   \n",
       "Castellare di Castellina 2006 Coniale Cabernet ...                0   \n",
       "Hovey 2012 Rolleri Cuvée Tempranillo (Calaveras...                0   \n",
       "Mocine 2007 Otto Rintocchi Red (Toscana)                          0   \n",
       "Fiddlehead 2011 Burtie Baby Pinot Noir (Sta. Ri...                0   \n",
       "\n",
       "                                                    country_Australia  \\\n",
       "title                                                                   \n",
       "Lone Madrone 2013 The Will Red (Paso Robles Wil...                  0   \n",
       "Castellare di Castellina 2006 Coniale Cabernet ...                  0   \n",
       "Hovey 2012 Rolleri Cuvée Tempranillo (Calaveras...                  0   \n",
       "Mocine 2007 Otto Rintocchi Red (Toscana)                            0   \n",
       "Fiddlehead 2011 Burtie Baby Pinot Noir (Sta. Ri...                  0   \n",
       "\n",
       "                                                    country_Austria  \\\n",
       "title                                                                 \n",
       "Lone Madrone 2013 The Will Red (Paso Robles Wil...                0   \n",
       "Castellare di Castellina 2006 Coniale Cabernet ...                0   \n",
       "Hovey 2012 Rolleri Cuvée Tempranillo (Calaveras...                0   \n",
       "Mocine 2007 Otto Rintocchi Red (Toscana)                          0   \n",
       "Fiddlehead 2011 Burtie Baby Pinot Noir (Sta. Ri...                0   \n",
       "\n",
       "                                                    country_Bosnia and Herzegovina  \\\n",
       "title                                                                                \n",
       "Lone Madrone 2013 The Will Red (Paso Robles Wil...                               0   \n",
       "Castellare di Castellina 2006 Coniale Cabernet ...                               0   \n",
       "Hovey 2012 Rolleri Cuvée Tempranillo (Calaveras...                               0   \n",
       "Mocine 2007 Otto Rintocchi Red (Toscana)                                         0   \n",
       "Fiddlehead 2011 Burtie Baby Pinot Noir (Sta. Ri...                               0   \n",
       "\n",
       "                                                    country_Brazil  \\\n",
       "title                                                                \n",
       "Lone Madrone 2013 The Will Red (Paso Robles Wil...               0   \n",
       "Castellare di Castellina 2006 Coniale Cabernet ...               0   \n",
       "Hovey 2012 Rolleri Cuvée Tempranillo (Calaveras...               0   \n",
       "Mocine 2007 Otto Rintocchi Red (Toscana)                         0   \n",
       "Fiddlehead 2011 Burtie Baby Pinot Noir (Sta. Ri...               0   \n",
       "\n",
       "                                                    country_Bulgaria  ...  \\\n",
       "title                                                                 ...   \n",
       "Lone Madrone 2013 The Will Red (Paso Robles Wil...                 0  ...   \n",
       "Castellare di Castellina 2006 Coniale Cabernet ...                 0  ...   \n",
       "Hovey 2012 Rolleri Cuvée Tempranillo (Calaveras...                 0  ...   \n",
       "Mocine 2007 Otto Rintocchi Red (Toscana)                           0  ...   \n",
       "Fiddlehead 2011 Burtie Baby Pinot Noir (Sta. Ri...                 0  ...   \n",
       "\n",
       "                                                    variety_Yapincak  \\\n",
       "title                                                                  \n",
       "Lone Madrone 2013 The Will Red (Paso Robles Wil...                 0   \n",
       "Castellare di Castellina 2006 Coniale Cabernet ...                 0   \n",
       "Hovey 2012 Rolleri Cuvée Tempranillo (Calaveras...                 0   \n",
       "Mocine 2007 Otto Rintocchi Red (Toscana)                           0   \n",
       "Fiddlehead 2011 Burtie Baby Pinot Noir (Sta. Ri...                 0   \n",
       "\n",
       "                                                    variety_Zelen  \\\n",
       "title                                                               \n",
       "Lone Madrone 2013 The Will Red (Paso Robles Wil...              0   \n",
       "Castellare di Castellina 2006 Coniale Cabernet ...              0   \n",
       "Hovey 2012 Rolleri Cuvée Tempranillo (Calaveras...              0   \n",
       "Mocine 2007 Otto Rintocchi Red (Toscana)                        0   \n",
       "Fiddlehead 2011 Burtie Baby Pinot Noir (Sta. Ri...              0   \n",
       "\n",
       "                                                    variety_Zibibbo  \\\n",
       "title                                                                 \n",
       "Lone Madrone 2013 The Will Red (Paso Robles Wil...                0   \n",
       "Castellare di Castellina 2006 Coniale Cabernet ...                0   \n",
       "Hovey 2012 Rolleri Cuvée Tempranillo (Calaveras...                0   \n",
       "Mocine 2007 Otto Rintocchi Red (Toscana)                          0   \n",
       "Fiddlehead 2011 Burtie Baby Pinot Noir (Sta. Ri...                0   \n",
       "\n",
       "                                                    variety_Zierfandler  \\\n",
       "title                                                                     \n",
       "Lone Madrone 2013 The Will Red (Paso Robles Wil...                    0   \n",
       "Castellare di Castellina 2006 Coniale Cabernet ...                    0   \n",
       "Hovey 2012 Rolleri Cuvée Tempranillo (Calaveras...                    0   \n",
       "Mocine 2007 Otto Rintocchi Red (Toscana)                              0   \n",
       "Fiddlehead 2011 Burtie Baby Pinot Noir (Sta. Ri...                    0   \n",
       "\n",
       "                                                    variety_Zierfandler-Rotgipfler  \\\n",
       "title                                                                                \n",
       "Lone Madrone 2013 The Will Red (Paso Robles Wil...                               0   \n",
       "Castellare di Castellina 2006 Coniale Cabernet ...                               0   \n",
       "Hovey 2012 Rolleri Cuvée Tempranillo (Calaveras...                               0   \n",
       "Mocine 2007 Otto Rintocchi Red (Toscana)                                         0   \n",
       "Fiddlehead 2011 Burtie Baby Pinot Noir (Sta. Ri...                               0   \n",
       "\n",
       "                                                    variety_Zinfandel  \\\n",
       "title                                                                   \n",
       "Lone Madrone 2013 The Will Red (Paso Robles Wil...                  0   \n",
       "Castellare di Castellina 2006 Coniale Cabernet ...                  0   \n",
       "Hovey 2012 Rolleri Cuvée Tempranillo (Calaveras...                  0   \n",
       "Mocine 2007 Otto Rintocchi Red (Toscana)                            0   \n",
       "Fiddlehead 2011 Burtie Baby Pinot Noir (Sta. Ri...                  0   \n",
       "\n",
       "                                                    variety_Zlahtina  \\\n",
       "title                                                                  \n",
       "Lone Madrone 2013 The Will Red (Paso Robles Wil...                 0   \n",
       "Castellare di Castellina 2006 Coniale Cabernet ...                 0   \n",
       "Hovey 2012 Rolleri Cuvée Tempranillo (Calaveras...                 0   \n",
       "Mocine 2007 Otto Rintocchi Red (Toscana)                           0   \n",
       "Fiddlehead 2011 Burtie Baby Pinot Noir (Sta. Ri...                 0   \n",
       "\n",
       "                                                    variety_Zweigelt  \\\n",
       "title                                                                  \n",
       "Lone Madrone 2013 The Will Red (Paso Robles Wil...                 0   \n",
       "Castellare di Castellina 2006 Coniale Cabernet ...                 0   \n",
       "Hovey 2012 Rolleri Cuvée Tempranillo (Calaveras...                 0   \n",
       "Mocine 2007 Otto Rintocchi Red (Toscana)                           0   \n",
       "Fiddlehead 2011 Burtie Baby Pinot Noir (Sta. Ri...                 0   \n",
       "\n",
       "                                                    variety_Çalkarası  \\\n",
       "title                                                                   \n",
       "Lone Madrone 2013 The Will Red (Paso Robles Wil...                  0   \n",
       "Castellare di Castellina 2006 Coniale Cabernet ...                  0   \n",
       "Hovey 2012 Rolleri Cuvée Tempranillo (Calaveras...                  0   \n",
       "Mocine 2007 Otto Rintocchi Red (Toscana)                            0   \n",
       "Fiddlehead 2011 Burtie Baby Pinot Noir (Sta. Ri...                  0   \n",
       "\n",
       "                                                    variety_Žilavka  \n",
       "title                                                                \n",
       "Lone Madrone 2013 The Will Red (Paso Robles Wil...                0  \n",
       "Castellare di Castellina 2006 Coniale Cabernet ...                0  \n",
       "Hovey 2012 Rolleri Cuvée Tempranillo (Calaveras...                0  \n",
       "Mocine 2007 Otto Rintocchi Red (Toscana)                          0  \n",
       "Fiddlehead 2011 Burtie Baby Pinot Noir (Sta. Ri...                0  \n",
       "\n",
       "[5 rows x 1172 columns]"
      ]
     },
     "execution_count": 28,
     "metadata": {},
     "output_type": "execute_result"
    }
   ],
   "source": [
    "dummies = pd.get_dummies(sub_df[[\"country\", \"province\", \"variety\"]])\n",
    "df_dummies = sub_df.join(dummies).drop(columns=[\"country\", \"province\", \"variety\"])\n",
    "df_dummies.sample(5)"
   ]
  },
  {
   "cell_type": "code",
   "execution_count": 29,
   "id": "712299d1",
   "metadata": {
    "ExecuteTime": {
     "end_time": "2023-01-25T12:09:11.870065Z",
     "start_time": "2023-01-25T12:09:11.867475Z"
    }
   },
   "outputs": [
    {
     "data": {
      "text/plain": [
       "(118780, 1172)"
      ]
     },
     "execution_count": 29,
     "metadata": {},
     "output_type": "execute_result"
    }
   ],
   "source": [
    "df_dummies.shape"
   ]
  },
  {
   "cell_type": "code",
   "execution_count": 30,
   "id": "c171844e",
   "metadata": {
    "ExecuteTime": {
     "end_time": "2023-01-25T12:09:14.107601Z",
     "start_time": "2023-01-25T12:09:11.871240Z"
    }
   },
   "outputs": [],
   "source": [
    "from sklearn.feature_extraction.text import CountVectorizer\n",
    "\n",
    "vectorizer = CountVectorizer(max_features=100, stop_words='english')\n",
    "X = vectorizer.fit_transform(df_dummies['description'])"
   ]
  },
  {
   "cell_type": "code",
   "execution_count": 31,
   "id": "0f3fa753",
   "metadata": {
    "ExecuteTime": {
     "end_time": "2023-01-25T12:09:14.110985Z",
     "start_time": "2023-01-25T12:09:14.108634Z"
    }
   },
   "outputs": [
    {
     "data": {
      "text/plain": [
       "(118780, 100)"
      ]
     },
     "execution_count": 31,
     "metadata": {},
     "output_type": "execute_result"
    }
   ],
   "source": [
    "X.shape"
   ]
  },
  {
   "cell_type": "code",
   "execution_count": 32,
   "id": "8f249ac0",
   "metadata": {
    "ExecuteTime": {
     "end_time": "2023-01-25T12:09:14.124223Z",
     "start_time": "2023-01-25T12:09:14.111847Z"
    }
   },
   "outputs": [],
   "source": [
    "df_description = pd.DataFrame(X.toarray(), columns=vectorizer.get_feature_names_out(), index=df_dummies.index)"
   ]
  },
  {
   "cell_type": "code",
   "execution_count": 33,
   "id": "e663b188",
   "metadata": {
    "ExecuteTime": {
     "end_time": "2023-01-25T12:09:14.132189Z",
     "start_time": "2023-01-25T12:09:14.125318Z"
    }
   },
   "outputs": [
    {
     "data": {
      "text/html": [
       "<div>\n",
       "<style scoped>\n",
       "    .dataframe tbody tr th:only-of-type {\n",
       "        vertical-align: middle;\n",
       "    }\n",
       "\n",
       "    .dataframe tbody tr th {\n",
       "        vertical-align: top;\n",
       "    }\n",
       "\n",
       "    .dataframe thead th {\n",
       "        text-align: right;\n",
       "    }\n",
       "</style>\n",
       "<table border=\"1\" class=\"dataframe\">\n",
       "  <thead>\n",
       "    <tr style=\"text-align: right;\">\n",
       "      <th></th>\n",
       "      <th>acidity</th>\n",
       "      <th>age</th>\n",
       "      <th>aging</th>\n",
       "      <th>alongside</th>\n",
       "      <th>apple</th>\n",
       "      <th>aromas</th>\n",
       "      <th>balance</th>\n",
       "      <th>balanced</th>\n",
       "      <th>berry</th>\n",
       "      <th>bit</th>\n",
       "      <th>...</th>\n",
       "      <th>texture</th>\n",
       "      <th>toast</th>\n",
       "      <th>tobacco</th>\n",
       "      <th>touch</th>\n",
       "      <th>vanilla</th>\n",
       "      <th>vineyard</th>\n",
       "      <th>white</th>\n",
       "      <th>wine</th>\n",
       "      <th>wood</th>\n",
       "      <th>years</th>\n",
       "    </tr>\n",
       "    <tr>\n",
       "      <th>title</th>\n",
       "      <th></th>\n",
       "      <th></th>\n",
       "      <th></th>\n",
       "      <th></th>\n",
       "      <th></th>\n",
       "      <th></th>\n",
       "      <th></th>\n",
       "      <th></th>\n",
       "      <th></th>\n",
       "      <th></th>\n",
       "      <th></th>\n",
       "      <th></th>\n",
       "      <th></th>\n",
       "      <th></th>\n",
       "      <th></th>\n",
       "      <th></th>\n",
       "      <th></th>\n",
       "      <th></th>\n",
       "      <th></th>\n",
       "      <th></th>\n",
       "      <th></th>\n",
       "    </tr>\n",
       "  </thead>\n",
       "  <tbody>\n",
       "    <tr>\n",
       "      <th>Nicosia 2013 Vulkà Bianco  (Etna)</th>\n",
       "      <td>1</td>\n",
       "      <td>0</td>\n",
       "      <td>0</td>\n",
       "      <td>1</td>\n",
       "      <td>1</td>\n",
       "      <td>1</td>\n",
       "      <td>0</td>\n",
       "      <td>0</td>\n",
       "      <td>0</td>\n",
       "      <td>0</td>\n",
       "      <td>...</td>\n",
       "      <td>0</td>\n",
       "      <td>0</td>\n",
       "      <td>0</td>\n",
       "      <td>0</td>\n",
       "      <td>0</td>\n",
       "      <td>0</td>\n",
       "      <td>0</td>\n",
       "      <td>0</td>\n",
       "      <td>0</td>\n",
       "      <td>0</td>\n",
       "    </tr>\n",
       "    <tr>\n",
       "      <th>Quinta dos Avidagos 2011 Avidagos Red (Douro)</th>\n",
       "      <td>1</td>\n",
       "      <td>0</td>\n",
       "      <td>0</td>\n",
       "      <td>0</td>\n",
       "      <td>0</td>\n",
       "      <td>0</td>\n",
       "      <td>0</td>\n",
       "      <td>0</td>\n",
       "      <td>1</td>\n",
       "      <td>0</td>\n",
       "      <td>...</td>\n",
       "      <td>0</td>\n",
       "      <td>0</td>\n",
       "      <td>0</td>\n",
       "      <td>0</td>\n",
       "      <td>0</td>\n",
       "      <td>0</td>\n",
       "      <td>0</td>\n",
       "      <td>1</td>\n",
       "      <td>0</td>\n",
       "      <td>0</td>\n",
       "    </tr>\n",
       "    <tr>\n",
       "      <th>Rainstorm 2013 Pinot Gris (Willamette Valley)</th>\n",
       "      <td>1</td>\n",
       "      <td>0</td>\n",
       "      <td>0</td>\n",
       "      <td>0</td>\n",
       "      <td>0</td>\n",
       "      <td>0</td>\n",
       "      <td>0</td>\n",
       "      <td>0</td>\n",
       "      <td>0</td>\n",
       "      <td>0</td>\n",
       "      <td>...</td>\n",
       "      <td>0</td>\n",
       "      <td>0</td>\n",
       "      <td>0</td>\n",
       "      <td>0</td>\n",
       "      <td>0</td>\n",
       "      <td>0</td>\n",
       "      <td>0</td>\n",
       "      <td>1</td>\n",
       "      <td>0</td>\n",
       "      <td>0</td>\n",
       "    </tr>\n",
       "    <tr>\n",
       "      <th>St. Julian 2013 Reserve Late Harvest Riesling (Lake Michigan Shore)</th>\n",
       "      <td>0</td>\n",
       "      <td>0</td>\n",
       "      <td>0</td>\n",
       "      <td>0</td>\n",
       "      <td>0</td>\n",
       "      <td>1</td>\n",
       "      <td>0</td>\n",
       "      <td>0</td>\n",
       "      <td>0</td>\n",
       "      <td>1</td>\n",
       "      <td>...</td>\n",
       "      <td>0</td>\n",
       "      <td>0</td>\n",
       "      <td>0</td>\n",
       "      <td>0</td>\n",
       "      <td>0</td>\n",
       "      <td>0</td>\n",
       "      <td>0</td>\n",
       "      <td>0</td>\n",
       "      <td>0</td>\n",
       "      <td>0</td>\n",
       "    </tr>\n",
       "    <tr>\n",
       "      <th>Sweet Cheeks 2012 Vintner's Reserve Wild Child Block Pinot Noir (Willamette Valley)</th>\n",
       "      <td>0</td>\n",
       "      <td>0</td>\n",
       "      <td>0</td>\n",
       "      <td>0</td>\n",
       "      <td>0</td>\n",
       "      <td>0</td>\n",
       "      <td>0</td>\n",
       "      <td>0</td>\n",
       "      <td>0</td>\n",
       "      <td>0</td>\n",
       "      <td>...</td>\n",
       "      <td>0</td>\n",
       "      <td>0</td>\n",
       "      <td>0</td>\n",
       "      <td>0</td>\n",
       "      <td>0</td>\n",
       "      <td>0</td>\n",
       "      <td>0</td>\n",
       "      <td>1</td>\n",
       "      <td>0</td>\n",
       "      <td>0</td>\n",
       "    </tr>\n",
       "  </tbody>\n",
       "</table>\n",
       "<p>5 rows × 100 columns</p>\n",
       "</div>"
      ],
      "text/plain": [
       "                                                    acidity  age  aging  \\\n",
       "title                                                                     \n",
       "Nicosia 2013 Vulkà Bianco  (Etna)                         1    0      0   \n",
       "Quinta dos Avidagos 2011 Avidagos Red (Douro)             1    0      0   \n",
       "Rainstorm 2013 Pinot Gris (Willamette Valley)             1    0      0   \n",
       "St. Julian 2013 Reserve Late Harvest Riesling (...        0    0      0   \n",
       "Sweet Cheeks 2012 Vintner's Reserve Wild Child ...        0    0      0   \n",
       "\n",
       "                                                    alongside  apple  aromas  \\\n",
       "title                                                                          \n",
       "Nicosia 2013 Vulkà Bianco  (Etna)                           1      1       1   \n",
       "Quinta dos Avidagos 2011 Avidagos Red (Douro)               0      0       0   \n",
       "Rainstorm 2013 Pinot Gris (Willamette Valley)               0      0       0   \n",
       "St. Julian 2013 Reserve Late Harvest Riesling (...          0      0       1   \n",
       "Sweet Cheeks 2012 Vintner's Reserve Wild Child ...          0      0       0   \n",
       "\n",
       "                                                    balance  balanced  berry  \\\n",
       "title                                                                          \n",
       "Nicosia 2013 Vulkà Bianco  (Etna)                         0         0      0   \n",
       "Quinta dos Avidagos 2011 Avidagos Red (Douro)             0         0      1   \n",
       "Rainstorm 2013 Pinot Gris (Willamette Valley)             0         0      0   \n",
       "St. Julian 2013 Reserve Late Harvest Riesling (...        0         0      0   \n",
       "Sweet Cheeks 2012 Vintner's Reserve Wild Child ...        0         0      0   \n",
       "\n",
       "                                                    bit  ...  texture  toast  \\\n",
       "title                                                    ...                   \n",
       "Nicosia 2013 Vulkà Bianco  (Etna)                     0  ...        0      0   \n",
       "Quinta dos Avidagos 2011 Avidagos Red (Douro)         0  ...        0      0   \n",
       "Rainstorm 2013 Pinot Gris (Willamette Valley)         0  ...        0      0   \n",
       "St. Julian 2013 Reserve Late Harvest Riesling (...    1  ...        0      0   \n",
       "Sweet Cheeks 2012 Vintner's Reserve Wild Child ...    0  ...        0      0   \n",
       "\n",
       "                                                    tobacco  touch  vanilla  \\\n",
       "title                                                                         \n",
       "Nicosia 2013 Vulkà Bianco  (Etna)                         0      0        0   \n",
       "Quinta dos Avidagos 2011 Avidagos Red (Douro)             0      0        0   \n",
       "Rainstorm 2013 Pinot Gris (Willamette Valley)             0      0        0   \n",
       "St. Julian 2013 Reserve Late Harvest Riesling (...        0      0        0   \n",
       "Sweet Cheeks 2012 Vintner's Reserve Wild Child ...        0      0        0   \n",
       "\n",
       "                                                    vineyard  white  wine  \\\n",
       "title                                                                       \n",
       "Nicosia 2013 Vulkà Bianco  (Etna)                          0      0     0   \n",
       "Quinta dos Avidagos 2011 Avidagos Red (Douro)              0      0     1   \n",
       "Rainstorm 2013 Pinot Gris (Willamette Valley)              0      0     1   \n",
       "St. Julian 2013 Reserve Late Harvest Riesling (...         0      0     0   \n",
       "Sweet Cheeks 2012 Vintner's Reserve Wild Child ...         0      0     1   \n",
       "\n",
       "                                                    wood  years  \n",
       "title                                                            \n",
       "Nicosia 2013 Vulkà Bianco  (Etna)                      0      0  \n",
       "Quinta dos Avidagos 2011 Avidagos Red (Douro)          0      0  \n",
       "Rainstorm 2013 Pinot Gris (Willamette Valley)          0      0  \n",
       "St. Julian 2013 Reserve Late Harvest Riesling (...     0      0  \n",
       "Sweet Cheeks 2012 Vintner's Reserve Wild Child ...     0      0  \n",
       "\n",
       "[5 rows x 100 columns]"
      ]
     },
     "execution_count": 33,
     "metadata": {},
     "output_type": "execute_result"
    }
   ],
   "source": [
    "df_description.head(5)"
   ]
  },
  {
   "cell_type": "code",
   "execution_count": 34,
   "id": "86b4ad7c",
   "metadata": {
    "ExecuteTime": {
     "end_time": "2023-01-25T12:09:14.261583Z",
     "start_time": "2023-01-25T12:09:14.133153Z"
    }
   },
   "outputs": [
    {
     "data": {
      "text/html": [
       "<div>\n",
       "<style scoped>\n",
       "    .dataframe tbody tr th:only-of-type {\n",
       "        vertical-align: middle;\n",
       "    }\n",
       "\n",
       "    .dataframe tbody tr th {\n",
       "        vertical-align: top;\n",
       "    }\n",
       "\n",
       "    .dataframe thead th {\n",
       "        text-align: right;\n",
       "    }\n",
       "</style>\n",
       "<table border=\"1\" class=\"dataframe\">\n",
       "  <thead>\n",
       "    <tr style=\"text-align: right;\">\n",
       "      <th></th>\n",
       "      <th>points</th>\n",
       "      <th>price</th>\n",
       "      <th>country_Argentina</th>\n",
       "      <th>country_Armenia</th>\n",
       "      <th>country_Australia</th>\n",
       "      <th>country_Austria</th>\n",
       "      <th>country_Bosnia and Herzegovina</th>\n",
       "      <th>country_Brazil</th>\n",
       "      <th>country_Bulgaria</th>\n",
       "      <th>country_Canada</th>\n",
       "      <th>...</th>\n",
       "      <th>texture</th>\n",
       "      <th>toast</th>\n",
       "      <th>tobacco</th>\n",
       "      <th>touch</th>\n",
       "      <th>vanilla</th>\n",
       "      <th>vineyard</th>\n",
       "      <th>white</th>\n",
       "      <th>wine</th>\n",
       "      <th>wood</th>\n",
       "      <th>years</th>\n",
       "    </tr>\n",
       "    <tr>\n",
       "      <th>title</th>\n",
       "      <th></th>\n",
       "      <th></th>\n",
       "      <th></th>\n",
       "      <th></th>\n",
       "      <th></th>\n",
       "      <th></th>\n",
       "      <th></th>\n",
       "      <th></th>\n",
       "      <th></th>\n",
       "      <th></th>\n",
       "      <th></th>\n",
       "      <th></th>\n",
       "      <th></th>\n",
       "      <th></th>\n",
       "      <th></th>\n",
       "      <th></th>\n",
       "      <th></th>\n",
       "      <th></th>\n",
       "      <th></th>\n",
       "      <th></th>\n",
       "      <th></th>\n",
       "    </tr>\n",
       "  </thead>\n",
       "  <tbody>\n",
       "    <tr>\n",
       "      <th>Nicosia 2013 Vulkà Bianco  (Etna)</th>\n",
       "      <td>87</td>\n",
       "      <td>25.0</td>\n",
       "      <td>0</td>\n",
       "      <td>0</td>\n",
       "      <td>0</td>\n",
       "      <td>0</td>\n",
       "      <td>0</td>\n",
       "      <td>0</td>\n",
       "      <td>0</td>\n",
       "      <td>0</td>\n",
       "      <td>...</td>\n",
       "      <td>0</td>\n",
       "      <td>0</td>\n",
       "      <td>0</td>\n",
       "      <td>0</td>\n",
       "      <td>0</td>\n",
       "      <td>0</td>\n",
       "      <td>0</td>\n",
       "      <td>0</td>\n",
       "      <td>0</td>\n",
       "      <td>0</td>\n",
       "    </tr>\n",
       "    <tr>\n",
       "      <th>Quinta dos Avidagos 2011 Avidagos Red (Douro)</th>\n",
       "      <td>87</td>\n",
       "      <td>15.0</td>\n",
       "      <td>0</td>\n",
       "      <td>0</td>\n",
       "      <td>0</td>\n",
       "      <td>0</td>\n",
       "      <td>0</td>\n",
       "      <td>0</td>\n",
       "      <td>0</td>\n",
       "      <td>0</td>\n",
       "      <td>...</td>\n",
       "      <td>0</td>\n",
       "      <td>0</td>\n",
       "      <td>0</td>\n",
       "      <td>0</td>\n",
       "      <td>0</td>\n",
       "      <td>0</td>\n",
       "      <td>0</td>\n",
       "      <td>1</td>\n",
       "      <td>0</td>\n",
       "      <td>0</td>\n",
       "    </tr>\n",
       "    <tr>\n",
       "      <th>Rainstorm 2013 Pinot Gris (Willamette Valley)</th>\n",
       "      <td>87</td>\n",
       "      <td>14.0</td>\n",
       "      <td>0</td>\n",
       "      <td>0</td>\n",
       "      <td>0</td>\n",
       "      <td>0</td>\n",
       "      <td>0</td>\n",
       "      <td>0</td>\n",
       "      <td>0</td>\n",
       "      <td>0</td>\n",
       "      <td>...</td>\n",
       "      <td>0</td>\n",
       "      <td>0</td>\n",
       "      <td>0</td>\n",
       "      <td>0</td>\n",
       "      <td>0</td>\n",
       "      <td>0</td>\n",
       "      <td>0</td>\n",
       "      <td>1</td>\n",
       "      <td>0</td>\n",
       "      <td>0</td>\n",
       "    </tr>\n",
       "    <tr>\n",
       "      <th>St. Julian 2013 Reserve Late Harvest Riesling (Lake Michigan Shore)</th>\n",
       "      <td>87</td>\n",
       "      <td>13.0</td>\n",
       "      <td>0</td>\n",
       "      <td>0</td>\n",
       "      <td>0</td>\n",
       "      <td>0</td>\n",
       "      <td>0</td>\n",
       "      <td>0</td>\n",
       "      <td>0</td>\n",
       "      <td>0</td>\n",
       "      <td>...</td>\n",
       "      <td>0</td>\n",
       "      <td>0</td>\n",
       "      <td>0</td>\n",
       "      <td>0</td>\n",
       "      <td>0</td>\n",
       "      <td>0</td>\n",
       "      <td>0</td>\n",
       "      <td>0</td>\n",
       "      <td>0</td>\n",
       "      <td>0</td>\n",
       "    </tr>\n",
       "    <tr>\n",
       "      <th>Sweet Cheeks 2012 Vintner's Reserve Wild Child Block Pinot Noir (Willamette Valley)</th>\n",
       "      <td>87</td>\n",
       "      <td>65.0</td>\n",
       "      <td>0</td>\n",
       "      <td>0</td>\n",
       "      <td>0</td>\n",
       "      <td>0</td>\n",
       "      <td>0</td>\n",
       "      <td>0</td>\n",
       "      <td>0</td>\n",
       "      <td>0</td>\n",
       "      <td>...</td>\n",
       "      <td>0</td>\n",
       "      <td>0</td>\n",
       "      <td>0</td>\n",
       "      <td>0</td>\n",
       "      <td>0</td>\n",
       "      <td>0</td>\n",
       "      <td>0</td>\n",
       "      <td>1</td>\n",
       "      <td>0</td>\n",
       "      <td>0</td>\n",
       "    </tr>\n",
       "  </tbody>\n",
       "</table>\n",
       "<p>5 rows × 1271 columns</p>\n",
       "</div>"
      ],
      "text/plain": [
       "                                                    points  price  \\\n",
       "title                                                               \n",
       "Nicosia 2013 Vulkà Bianco  (Etna)                       87   25.0   \n",
       "Quinta dos Avidagos 2011 Avidagos Red (Douro)           87   15.0   \n",
       "Rainstorm 2013 Pinot Gris (Willamette Valley)           87   14.0   \n",
       "St. Julian 2013 Reserve Late Harvest Riesling (...      87   13.0   \n",
       "Sweet Cheeks 2012 Vintner's Reserve Wild Child ...      87   65.0   \n",
       "\n",
       "                                                    country_Argentina  \\\n",
       "title                                                                   \n",
       "Nicosia 2013 Vulkà Bianco  (Etna)                                   0   \n",
       "Quinta dos Avidagos 2011 Avidagos Red (Douro)                       0   \n",
       "Rainstorm 2013 Pinot Gris (Willamette Valley)                       0   \n",
       "St. Julian 2013 Reserve Late Harvest Riesling (...                  0   \n",
       "Sweet Cheeks 2012 Vintner's Reserve Wild Child ...                  0   \n",
       "\n",
       "                                                    country_Armenia  \\\n",
       "title                                                                 \n",
       "Nicosia 2013 Vulkà Bianco  (Etna)                                 0   \n",
       "Quinta dos Avidagos 2011 Avidagos Red (Douro)                     0   \n",
       "Rainstorm 2013 Pinot Gris (Willamette Valley)                     0   \n",
       "St. Julian 2013 Reserve Late Harvest Riesling (...                0   \n",
       "Sweet Cheeks 2012 Vintner's Reserve Wild Child ...                0   \n",
       "\n",
       "                                                    country_Australia  \\\n",
       "title                                                                   \n",
       "Nicosia 2013 Vulkà Bianco  (Etna)                                   0   \n",
       "Quinta dos Avidagos 2011 Avidagos Red (Douro)                       0   \n",
       "Rainstorm 2013 Pinot Gris (Willamette Valley)                       0   \n",
       "St. Julian 2013 Reserve Late Harvest Riesling (...                  0   \n",
       "Sweet Cheeks 2012 Vintner's Reserve Wild Child ...                  0   \n",
       "\n",
       "                                                    country_Austria  \\\n",
       "title                                                                 \n",
       "Nicosia 2013 Vulkà Bianco  (Etna)                                 0   \n",
       "Quinta dos Avidagos 2011 Avidagos Red (Douro)                     0   \n",
       "Rainstorm 2013 Pinot Gris (Willamette Valley)                     0   \n",
       "St. Julian 2013 Reserve Late Harvest Riesling (...                0   \n",
       "Sweet Cheeks 2012 Vintner's Reserve Wild Child ...                0   \n",
       "\n",
       "                                                    country_Bosnia and Herzegovina  \\\n",
       "title                                                                                \n",
       "Nicosia 2013 Vulkà Bianco  (Etna)                                                0   \n",
       "Quinta dos Avidagos 2011 Avidagos Red (Douro)                                    0   \n",
       "Rainstorm 2013 Pinot Gris (Willamette Valley)                                    0   \n",
       "St. Julian 2013 Reserve Late Harvest Riesling (...                               0   \n",
       "Sweet Cheeks 2012 Vintner's Reserve Wild Child ...                               0   \n",
       "\n",
       "                                                    country_Brazil  \\\n",
       "title                                                                \n",
       "Nicosia 2013 Vulkà Bianco  (Etna)                                0   \n",
       "Quinta dos Avidagos 2011 Avidagos Red (Douro)                    0   \n",
       "Rainstorm 2013 Pinot Gris (Willamette Valley)                    0   \n",
       "St. Julian 2013 Reserve Late Harvest Riesling (...               0   \n",
       "Sweet Cheeks 2012 Vintner's Reserve Wild Child ...               0   \n",
       "\n",
       "                                                    country_Bulgaria  \\\n",
       "title                                                                  \n",
       "Nicosia 2013 Vulkà Bianco  (Etna)                                  0   \n",
       "Quinta dos Avidagos 2011 Avidagos Red (Douro)                      0   \n",
       "Rainstorm 2013 Pinot Gris (Willamette Valley)                      0   \n",
       "St. Julian 2013 Reserve Late Harvest Riesling (...                 0   \n",
       "Sweet Cheeks 2012 Vintner's Reserve Wild Child ...                 0   \n",
       "\n",
       "                                                    country_Canada  ...  \\\n",
       "title                                                               ...   \n",
       "Nicosia 2013 Vulkà Bianco  (Etna)                                0  ...   \n",
       "Quinta dos Avidagos 2011 Avidagos Red (Douro)                    0  ...   \n",
       "Rainstorm 2013 Pinot Gris (Willamette Valley)                    0  ...   \n",
       "St. Julian 2013 Reserve Late Harvest Riesling (...               0  ...   \n",
       "Sweet Cheeks 2012 Vintner's Reserve Wild Child ...               0  ...   \n",
       "\n",
       "                                                    texture  toast  tobacco  \\\n",
       "title                                                                         \n",
       "Nicosia 2013 Vulkà Bianco  (Etna)                         0      0        0   \n",
       "Quinta dos Avidagos 2011 Avidagos Red (Douro)             0      0        0   \n",
       "Rainstorm 2013 Pinot Gris (Willamette Valley)             0      0        0   \n",
       "St. Julian 2013 Reserve Late Harvest Riesling (...        0      0        0   \n",
       "Sweet Cheeks 2012 Vintner's Reserve Wild Child ...        0      0        0   \n",
       "\n",
       "                                                    touch  vanilla  vineyard  \\\n",
       "title                                                                          \n",
       "Nicosia 2013 Vulkà Bianco  (Etna)                       0        0         0   \n",
       "Quinta dos Avidagos 2011 Avidagos Red (Douro)           0        0         0   \n",
       "Rainstorm 2013 Pinot Gris (Willamette Valley)           0        0         0   \n",
       "St. Julian 2013 Reserve Late Harvest Riesling (...      0        0         0   \n",
       "Sweet Cheeks 2012 Vintner's Reserve Wild Child ...      0        0         0   \n",
       "\n",
       "                                                    white  wine  wood  years  \n",
       "title                                                                         \n",
       "Nicosia 2013 Vulkà Bianco  (Etna)                       0     0     0      0  \n",
       "Quinta dos Avidagos 2011 Avidagos Red (Douro)           0     1     0      0  \n",
       "Rainstorm 2013 Pinot Gris (Willamette Valley)           0     1     0      0  \n",
       "St. Julian 2013 Reserve Late Harvest Riesling (...      0     0     0      0  \n",
       "Sweet Cheeks 2012 Vintner's Reserve Wild Child ...      0     1     0      0  \n",
       "\n",
       "[5 rows x 1271 columns]"
      ]
     },
     "execution_count": 34,
     "metadata": {},
     "output_type": "execute_result"
    }
   ],
   "source": [
    "df_final = df_dummies.join(df_description).drop(columns=[\"description\"])\n",
    "df_final.head()"
   ]
  },
  {
   "cell_type": "code",
   "execution_count": 35,
   "id": "ed506d46",
   "metadata": {
    "ExecuteTime": {
     "end_time": "2023-01-25T12:09:14.265422Z",
     "start_time": "2023-01-25T12:09:14.262653Z"
    }
   },
   "outputs": [
    {
     "data": {
      "text/plain": [
       "(118780, 1271)"
      ]
     },
     "execution_count": 35,
     "metadata": {},
     "output_type": "execute_result"
    }
   ],
   "source": [
    "df_final.shape"
   ]
  },
  {
   "cell_type": "code",
   "execution_count": 36,
   "id": "e2cf7fb0",
   "metadata": {
    "ExecuteTime": {
     "end_time": "2023-01-25T12:09:14.302959Z",
     "start_time": "2023-01-25T12:09:14.266569Z"
    }
   },
   "outputs": [],
   "source": [
    "from sklearn.preprocessing import MinMaxScaler\n",
    "\n",
    "scaler = MinMaxScaler()\n",
    "scaler.fit(df_final[[\"points\", \"price\"]])\n",
    "df_final[[\"points\", \"price\"]] = scaler.transform(df_final[[\"points\", \"price\"]])\n"
   ]
  },
  {
   "cell_type": "code",
   "execution_count": 37,
   "id": "b1dcab16",
   "metadata": {
    "ExecuteTime": {
     "end_time": "2023-01-25T12:09:14.313543Z",
     "start_time": "2023-01-25T12:09:14.303946Z"
    }
   },
   "outputs": [
    {
     "data": {
      "text/html": [
       "<div>\n",
       "<style scoped>\n",
       "    .dataframe tbody tr th:only-of-type {\n",
       "        vertical-align: middle;\n",
       "    }\n",
       "\n",
       "    .dataframe tbody tr th {\n",
       "        vertical-align: top;\n",
       "    }\n",
       "\n",
       "    .dataframe thead th {\n",
       "        text-align: right;\n",
       "    }\n",
       "</style>\n",
       "<table border=\"1\" class=\"dataframe\">\n",
       "  <thead>\n",
       "    <tr style=\"text-align: right;\">\n",
       "      <th></th>\n",
       "      <th>points</th>\n",
       "      <th>price</th>\n",
       "      <th>country_Argentina</th>\n",
       "      <th>country_Armenia</th>\n",
       "      <th>country_Australia</th>\n",
       "      <th>country_Austria</th>\n",
       "      <th>country_Bosnia and Herzegovina</th>\n",
       "      <th>country_Brazil</th>\n",
       "      <th>country_Bulgaria</th>\n",
       "      <th>country_Canada</th>\n",
       "      <th>...</th>\n",
       "      <th>texture</th>\n",
       "      <th>toast</th>\n",
       "      <th>tobacco</th>\n",
       "      <th>touch</th>\n",
       "      <th>vanilla</th>\n",
       "      <th>vineyard</th>\n",
       "      <th>white</th>\n",
       "      <th>wine</th>\n",
       "      <th>wood</th>\n",
       "      <th>years</th>\n",
       "    </tr>\n",
       "    <tr>\n",
       "      <th>title</th>\n",
       "      <th></th>\n",
       "      <th></th>\n",
       "      <th></th>\n",
       "      <th></th>\n",
       "      <th></th>\n",
       "      <th></th>\n",
       "      <th></th>\n",
       "      <th></th>\n",
       "      <th></th>\n",
       "      <th></th>\n",
       "      <th></th>\n",
       "      <th></th>\n",
       "      <th></th>\n",
       "      <th></th>\n",
       "      <th></th>\n",
       "      <th></th>\n",
       "      <th></th>\n",
       "      <th></th>\n",
       "      <th></th>\n",
       "      <th></th>\n",
       "      <th></th>\n",
       "    </tr>\n",
       "  </thead>\n",
       "  <tbody>\n",
       "    <tr>\n",
       "      <th>Six Mile Creek 2010 Pinot Noir (Finger Lakes)</th>\n",
       "      <td>0.35</td>\n",
       "      <td>0.003641</td>\n",
       "      <td>0</td>\n",
       "      <td>0</td>\n",
       "      <td>0</td>\n",
       "      <td>0</td>\n",
       "      <td>0</td>\n",
       "      <td>0</td>\n",
       "      <td>0</td>\n",
       "      <td>0</td>\n",
       "      <td>...</td>\n",
       "      <td>0</td>\n",
       "      <td>0</td>\n",
       "      <td>0</td>\n",
       "      <td>0</td>\n",
       "      <td>0</td>\n",
       "      <td>0</td>\n",
       "      <td>0</td>\n",
       "      <td>0</td>\n",
       "      <td>0</td>\n",
       "      <td>0</td>\n",
       "    </tr>\n",
       "    <tr>\n",
       "      <th>Kaena 2015 Cuvée Lucille Grenache (Ballard Canyon)</th>\n",
       "      <td>0.70</td>\n",
       "      <td>0.016990</td>\n",
       "      <td>0</td>\n",
       "      <td>0</td>\n",
       "      <td>0</td>\n",
       "      <td>0</td>\n",
       "      <td>0</td>\n",
       "      <td>0</td>\n",
       "      <td>0</td>\n",
       "      <td>0</td>\n",
       "      <td>...</td>\n",
       "      <td>0</td>\n",
       "      <td>0</td>\n",
       "      <td>0</td>\n",
       "      <td>0</td>\n",
       "      <td>0</td>\n",
       "      <td>0</td>\n",
       "      <td>0</td>\n",
       "      <td>1</td>\n",
       "      <td>0</td>\n",
       "      <td>0</td>\n",
       "    </tr>\n",
       "    <tr>\n",
       "      <th>Rex Hill 2013 La Colina Vineyard Pinot Noir (Willamette Valley)</th>\n",
       "      <td>0.60</td>\n",
       "      <td>0.015473</td>\n",
       "      <td>0</td>\n",
       "      <td>0</td>\n",
       "      <td>0</td>\n",
       "      <td>0</td>\n",
       "      <td>0</td>\n",
       "      <td>0</td>\n",
       "      <td>0</td>\n",
       "      <td>0</td>\n",
       "      <td>...</td>\n",
       "      <td>0</td>\n",
       "      <td>0</td>\n",
       "      <td>0</td>\n",
       "      <td>0</td>\n",
       "      <td>0</td>\n",
       "      <td>0</td>\n",
       "      <td>0</td>\n",
       "      <td>1</td>\n",
       "      <td>0</td>\n",
       "      <td>0</td>\n",
       "    </tr>\n",
       "    <tr>\n",
       "      <th>Robert Renzoni 2016 Julia's Vineyard Pinot Grigio (Temecula Valley)</th>\n",
       "      <td>0.40</td>\n",
       "      <td>0.006675</td>\n",
       "      <td>0</td>\n",
       "      <td>0</td>\n",
       "      <td>0</td>\n",
       "      <td>0</td>\n",
       "      <td>0</td>\n",
       "      <td>0</td>\n",
       "      <td>0</td>\n",
       "      <td>0</td>\n",
       "      <td>...</td>\n",
       "      <td>0</td>\n",
       "      <td>0</td>\n",
       "      <td>0</td>\n",
       "      <td>0</td>\n",
       "      <td>0</td>\n",
       "      <td>0</td>\n",
       "      <td>0</td>\n",
       "      <td>0</td>\n",
       "      <td>0</td>\n",
       "      <td>0</td>\n",
       "    </tr>\n",
       "    <tr>\n",
       "      <th>Joh. Jos. Prüm 2011 Graacher Himmelreich Kabinett Riesling (Mosel)</th>\n",
       "      <td>0.55</td>\n",
       "      <td>0.008799</td>\n",
       "      <td>0</td>\n",
       "      <td>0</td>\n",
       "      <td>0</td>\n",
       "      <td>0</td>\n",
       "      <td>0</td>\n",
       "      <td>0</td>\n",
       "      <td>0</td>\n",
       "      <td>0</td>\n",
       "      <td>...</td>\n",
       "      <td>0</td>\n",
       "      <td>0</td>\n",
       "      <td>0</td>\n",
       "      <td>0</td>\n",
       "      <td>0</td>\n",
       "      <td>0</td>\n",
       "      <td>0</td>\n",
       "      <td>0</td>\n",
       "      <td>0</td>\n",
       "      <td>0</td>\n",
       "    </tr>\n",
       "  </tbody>\n",
       "</table>\n",
       "<p>5 rows × 1271 columns</p>\n",
       "</div>"
      ],
      "text/plain": [
       "                                                    points     price  \\\n",
       "title                                                                  \n",
       "Six Mile Creek 2010 Pinot Noir (Finger Lakes)         0.35  0.003641   \n",
       "Kaena 2015 Cuvée Lucille Grenache (Ballard Canyon)    0.70  0.016990   \n",
       "Rex Hill 2013 La Colina Vineyard Pinot Noir (Wi...    0.60  0.015473   \n",
       "Robert Renzoni 2016 Julia's Vineyard Pinot Grig...    0.40  0.006675   \n",
       "Joh. Jos. Prüm 2011 Graacher Himmelreich Kabine...    0.55  0.008799   \n",
       "\n",
       "                                                    country_Argentina  \\\n",
       "title                                                                   \n",
       "Six Mile Creek 2010 Pinot Noir (Finger Lakes)                       0   \n",
       "Kaena 2015 Cuvée Lucille Grenache (Ballard Canyon)                  0   \n",
       "Rex Hill 2013 La Colina Vineyard Pinot Noir (Wi...                  0   \n",
       "Robert Renzoni 2016 Julia's Vineyard Pinot Grig...                  0   \n",
       "Joh. Jos. Prüm 2011 Graacher Himmelreich Kabine...                  0   \n",
       "\n",
       "                                                    country_Armenia  \\\n",
       "title                                                                 \n",
       "Six Mile Creek 2010 Pinot Noir (Finger Lakes)                     0   \n",
       "Kaena 2015 Cuvée Lucille Grenache (Ballard Canyon)                0   \n",
       "Rex Hill 2013 La Colina Vineyard Pinot Noir (Wi...                0   \n",
       "Robert Renzoni 2016 Julia's Vineyard Pinot Grig...                0   \n",
       "Joh. Jos. Prüm 2011 Graacher Himmelreich Kabine...                0   \n",
       "\n",
       "                                                    country_Australia  \\\n",
       "title                                                                   \n",
       "Six Mile Creek 2010 Pinot Noir (Finger Lakes)                       0   \n",
       "Kaena 2015 Cuvée Lucille Grenache (Ballard Canyon)                  0   \n",
       "Rex Hill 2013 La Colina Vineyard Pinot Noir (Wi...                  0   \n",
       "Robert Renzoni 2016 Julia's Vineyard Pinot Grig...                  0   \n",
       "Joh. Jos. Prüm 2011 Graacher Himmelreich Kabine...                  0   \n",
       "\n",
       "                                                    country_Austria  \\\n",
       "title                                                                 \n",
       "Six Mile Creek 2010 Pinot Noir (Finger Lakes)                     0   \n",
       "Kaena 2015 Cuvée Lucille Grenache (Ballard Canyon)                0   \n",
       "Rex Hill 2013 La Colina Vineyard Pinot Noir (Wi...                0   \n",
       "Robert Renzoni 2016 Julia's Vineyard Pinot Grig...                0   \n",
       "Joh. Jos. Prüm 2011 Graacher Himmelreich Kabine...                0   \n",
       "\n",
       "                                                    country_Bosnia and Herzegovina  \\\n",
       "title                                                                                \n",
       "Six Mile Creek 2010 Pinot Noir (Finger Lakes)                                    0   \n",
       "Kaena 2015 Cuvée Lucille Grenache (Ballard Canyon)                               0   \n",
       "Rex Hill 2013 La Colina Vineyard Pinot Noir (Wi...                               0   \n",
       "Robert Renzoni 2016 Julia's Vineyard Pinot Grig...                               0   \n",
       "Joh. Jos. Prüm 2011 Graacher Himmelreich Kabine...                               0   \n",
       "\n",
       "                                                    country_Brazil  \\\n",
       "title                                                                \n",
       "Six Mile Creek 2010 Pinot Noir (Finger Lakes)                    0   \n",
       "Kaena 2015 Cuvée Lucille Grenache (Ballard Canyon)               0   \n",
       "Rex Hill 2013 La Colina Vineyard Pinot Noir (Wi...               0   \n",
       "Robert Renzoni 2016 Julia's Vineyard Pinot Grig...               0   \n",
       "Joh. Jos. Prüm 2011 Graacher Himmelreich Kabine...               0   \n",
       "\n",
       "                                                    country_Bulgaria  \\\n",
       "title                                                                  \n",
       "Six Mile Creek 2010 Pinot Noir (Finger Lakes)                      0   \n",
       "Kaena 2015 Cuvée Lucille Grenache (Ballard Canyon)                 0   \n",
       "Rex Hill 2013 La Colina Vineyard Pinot Noir (Wi...                 0   \n",
       "Robert Renzoni 2016 Julia's Vineyard Pinot Grig...                 0   \n",
       "Joh. Jos. Prüm 2011 Graacher Himmelreich Kabine...                 0   \n",
       "\n",
       "                                                    country_Canada  ...  \\\n",
       "title                                                               ...   \n",
       "Six Mile Creek 2010 Pinot Noir (Finger Lakes)                    0  ...   \n",
       "Kaena 2015 Cuvée Lucille Grenache (Ballard Canyon)               0  ...   \n",
       "Rex Hill 2013 La Colina Vineyard Pinot Noir (Wi...               0  ...   \n",
       "Robert Renzoni 2016 Julia's Vineyard Pinot Grig...               0  ...   \n",
       "Joh. Jos. Prüm 2011 Graacher Himmelreich Kabine...               0  ...   \n",
       "\n",
       "                                                    texture  toast  tobacco  \\\n",
       "title                                                                         \n",
       "Six Mile Creek 2010 Pinot Noir (Finger Lakes)             0      0        0   \n",
       "Kaena 2015 Cuvée Lucille Grenache (Ballard Canyon)        0      0        0   \n",
       "Rex Hill 2013 La Colina Vineyard Pinot Noir (Wi...        0      0        0   \n",
       "Robert Renzoni 2016 Julia's Vineyard Pinot Grig...        0      0        0   \n",
       "Joh. Jos. Prüm 2011 Graacher Himmelreich Kabine...        0      0        0   \n",
       "\n",
       "                                                    touch  vanilla  vineyard  \\\n",
       "title                                                                          \n",
       "Six Mile Creek 2010 Pinot Noir (Finger Lakes)           0        0         0   \n",
       "Kaena 2015 Cuvée Lucille Grenache (Ballard Canyon)      0        0         0   \n",
       "Rex Hill 2013 La Colina Vineyard Pinot Noir (Wi...      0        0         0   \n",
       "Robert Renzoni 2016 Julia's Vineyard Pinot Grig...      0        0         0   \n",
       "Joh. Jos. Prüm 2011 Graacher Himmelreich Kabine...      0        0         0   \n",
       "\n",
       "                                                    white  wine  wood  years  \n",
       "title                                                                         \n",
       "Six Mile Creek 2010 Pinot Noir (Finger Lakes)           0     0     0      0  \n",
       "Kaena 2015 Cuvée Lucille Grenache (Ballard Canyon)      0     1     0      0  \n",
       "Rex Hill 2013 La Colina Vineyard Pinot Noir (Wi...      0     1     0      0  \n",
       "Robert Renzoni 2016 Julia's Vineyard Pinot Grig...      0     0     0      0  \n",
       "Joh. Jos. Prüm 2011 Graacher Himmelreich Kabine...      0     0     0      0  \n",
       "\n",
       "[5 rows x 1271 columns]"
      ]
     },
     "execution_count": 37,
     "metadata": {},
     "output_type": "execute_result"
    }
   ],
   "source": [
    "df_final.sample(5)"
   ]
  },
  {
   "cell_type": "code",
   "execution_count": 38,
   "id": "446f2ac3",
   "metadata": {
    "ExecuteTime": {
     "end_time": "2023-01-25T12:09:28.452650Z",
     "start_time": "2023-01-25T12:09:14.314997Z"
    }
   },
   "outputs": [],
   "source": [
    "df_final.to_csv(\"wine_preprocessing.csv\", index_label=\"wine_index\")"
   ]
  },
  {
   "cell_type": "code",
   "execution_count": 82,
   "id": "5b585179",
   "metadata": {
    "ExecuteTime": {
     "end_time": "2023-01-25T12:43:20.425901Z",
     "start_time": "2023-01-25T12:43:19.834633Z"
    }
   },
   "outputs": [
    {
     "data": {
      "text/html": [
       "<style>#sk-container-id-2 {color: black;background-color: white;}#sk-container-id-2 pre{padding: 0;}#sk-container-id-2 div.sk-toggleable {background-color: white;}#sk-container-id-2 label.sk-toggleable__label {cursor: pointer;display: block;width: 100%;margin-bottom: 0;padding: 0.3em;box-sizing: border-box;text-align: center;}#sk-container-id-2 label.sk-toggleable__label-arrow:before {content: \"▸\";float: left;margin-right: 0.25em;color: #696969;}#sk-container-id-2 label.sk-toggleable__label-arrow:hover:before {color: black;}#sk-container-id-2 div.sk-estimator:hover label.sk-toggleable__label-arrow:before {color: black;}#sk-container-id-2 div.sk-toggleable__content {max-height: 0;max-width: 0;overflow: hidden;text-align: left;background-color: #f0f8ff;}#sk-container-id-2 div.sk-toggleable__content pre {margin: 0.2em;color: black;border-radius: 0.25em;background-color: #f0f8ff;}#sk-container-id-2 input.sk-toggleable__control:checked~div.sk-toggleable__content {max-height: 200px;max-width: 100%;overflow: auto;}#sk-container-id-2 input.sk-toggleable__control:checked~label.sk-toggleable__label-arrow:before {content: \"▾\";}#sk-container-id-2 div.sk-estimator input.sk-toggleable__control:checked~label.sk-toggleable__label {background-color: #d4ebff;}#sk-container-id-2 div.sk-label input.sk-toggleable__control:checked~label.sk-toggleable__label {background-color: #d4ebff;}#sk-container-id-2 input.sk-hidden--visually {border: 0;clip: rect(1px 1px 1px 1px);clip: rect(1px, 1px, 1px, 1px);height: 1px;margin: -1px;overflow: hidden;padding: 0;position: absolute;width: 1px;}#sk-container-id-2 div.sk-estimator {font-family: monospace;background-color: #f0f8ff;border: 1px dotted black;border-radius: 0.25em;box-sizing: border-box;margin-bottom: 0.5em;}#sk-container-id-2 div.sk-estimator:hover {background-color: #d4ebff;}#sk-container-id-2 div.sk-parallel-item::after {content: \"\";width: 100%;border-bottom: 1px solid gray;flex-grow: 1;}#sk-container-id-2 div.sk-label:hover label.sk-toggleable__label {background-color: #d4ebff;}#sk-container-id-2 div.sk-serial::before {content: \"\";position: absolute;border-left: 1px solid gray;box-sizing: border-box;top: 0;bottom: 0;left: 50%;z-index: 0;}#sk-container-id-2 div.sk-serial {display: flex;flex-direction: column;align-items: center;background-color: white;padding-right: 0.2em;padding-left: 0.2em;position: relative;}#sk-container-id-2 div.sk-item {position: relative;z-index: 1;}#sk-container-id-2 div.sk-parallel {display: flex;align-items: stretch;justify-content: center;background-color: white;position: relative;}#sk-container-id-2 div.sk-item::before, #sk-container-id-2 div.sk-parallel-item::before {content: \"\";position: absolute;border-left: 1px solid gray;box-sizing: border-box;top: 0;bottom: 0;left: 50%;z-index: -1;}#sk-container-id-2 div.sk-parallel-item {display: flex;flex-direction: column;z-index: 1;position: relative;background-color: white;}#sk-container-id-2 div.sk-parallel-item:first-child::after {align-self: flex-end;width: 50%;}#sk-container-id-2 div.sk-parallel-item:last-child::after {align-self: flex-start;width: 50%;}#sk-container-id-2 div.sk-parallel-item:only-child::after {width: 0;}#sk-container-id-2 div.sk-dashed-wrapped {border: 1px dashed gray;margin: 0 0.4em 0.5em 0.4em;box-sizing: border-box;padding-bottom: 0.4em;background-color: white;}#sk-container-id-2 div.sk-label label {font-family: monospace;font-weight: bold;display: inline-block;line-height: 1.2em;}#sk-container-id-2 div.sk-label-container {text-align: center;}#sk-container-id-2 div.sk-container {/* jupyter's `normalize.less` sets `[hidden] { display: none; }` but bootstrap.min.css set `[hidden] { display: none !important; }` so we also need the `!important` here to be able to override the default hidden behavior on the sphinx rendered scikit-learn.org. See: https://github.com/scikit-learn/scikit-learn/issues/21755 */display: inline-block !important;position: relative;}#sk-container-id-2 div.sk-text-repr-fallback {display: none;}</style><div id=\"sk-container-id-2\" class=\"sk-top-container\"><div class=\"sk-text-repr-fallback\"><pre>NearestNeighbors(metric=&#x27;cosine&#x27;, n_jobs=-1, n_neighbors=20)</pre><b>In a Jupyter environment, please rerun this cell to show the HTML representation or trust the notebook. <br />On GitHub, the HTML representation is unable to render, please try loading this page with nbviewer.org.</b></div><div class=\"sk-container\" hidden><div class=\"sk-item\"><div class=\"sk-estimator sk-toggleable\"><input class=\"sk-toggleable__control sk-hidden--visually\" id=\"sk-estimator-id-2\" type=\"checkbox\" checked><label for=\"sk-estimator-id-2\" class=\"sk-toggleable__label sk-toggleable__label-arrow\">NearestNeighbors</label><div class=\"sk-toggleable__content\"><pre>NearestNeighbors(metric=&#x27;cosine&#x27;, n_jobs=-1, n_neighbors=20)</pre></div></div></div></div></div>"
      ],
      "text/plain": [
       "NearestNeighbors(metric='cosine', n_jobs=-1, n_neighbors=20)"
      ]
     },
     "execution_count": 82,
     "metadata": {},
     "output_type": "execute_result"
    }
   ],
   "source": [
    "from sklearn.neighbors import NearestNeighbors\n",
    "\n",
    "n_neighbors = 20\n",
    "nn = NearestNeighbors(n_neighbors=n_neighbors, metric='cosine', n_jobs=-1)\n",
    "nn.fit(df_final)"
   ]
  },
  {
   "cell_type": "code",
   "execution_count": 83,
   "id": "29291acd",
   "metadata": {
    "ExecuteTime": {
     "end_time": "2023-01-25T12:43:20.431159Z",
     "start_time": "2023-01-25T12:43:20.427330Z"
    }
   },
   "outputs": [
    {
     "data": {
      "text/plain": [
       "points               0.350000\n",
       "price                0.006371\n",
       "country_Argentina    0.000000\n",
       "country_Armenia      0.000000\n",
       "country_Australia    0.000000\n",
       "                       ...   \n",
       "vineyard             0.000000\n",
       "white                0.000000\n",
       "wine                 0.000000\n",
       "wood                 0.000000\n",
       "years                0.000000\n",
       "Name: Nicosia 2013 Vulkà Bianco  (Etna), Length: 1271, dtype: float64"
      ]
     },
     "execution_count": 83,
     "metadata": {},
     "output_type": "execute_result"
    }
   ],
   "source": [
    "df_final.iloc[0, :]"
   ]
  },
  {
   "cell_type": "code",
   "execution_count": 84,
   "id": "eb503584",
   "metadata": {
    "ExecuteTime": {
     "end_time": "2023-01-25T12:43:30.238170Z",
     "start_time": "2023-01-25T12:43:24.862382Z"
    }
   },
   "outputs": [],
   "source": [
    "distances, indexes = nn.kneighbors(df_final.iloc[:1000], n_neighbors=n_neighbors)"
   ]
  },
  {
   "cell_type": "code",
   "execution_count": 109,
   "id": "64bed16f",
   "metadata": {
    "ExecuteTime": {
     "end_time": "2023-01-25T12:46:22.859757Z",
     "start_time": "2023-01-25T12:46:22.848463Z"
    }
   },
   "outputs": [
    {
     "data": {
      "text/plain": [
       "array([[     0,  12443,  29953, ..., 117834,  59018,  83110],\n",
       "       [     1,   7683,  31723, ...,  70173, 114547,   2155],\n",
       "       [     2,  78483, 117889, ...,  47188, 109003,   9350],\n",
       "       ...,\n",
       "       [   997,  27970,  79138, ...,  39913,  41579,  67203],\n",
       "       [   998,  41629,  81329, ...,   4087, 105959, 101521],\n",
       "       [   999,  63533,  14658, ...,   6376,  73982,  55794]])"
      ]
     },
     "execution_count": 109,
     "metadata": {},
     "output_type": "execute_result"
    }
   ],
   "source": [
    "indexes"
   ]
  },
  {
   "cell_type": "code",
   "execution_count": 149,
   "id": "e547aa58",
   "metadata": {
    "ExecuteTime": {
     "end_time": "2023-01-25T12:53:05.332175Z",
     "start_time": "2023-01-25T12:53:05.327874Z"
    }
   },
   "outputs": [],
   "source": [
    "wine_ids = np.repeat(indexes[:, 0], n_neighbors - 1)\n",
    "wine_similarity = indexes[:, 1:].flatten()"
   ]
  },
  {
   "cell_type": "code",
   "execution_count": 150,
   "id": "bd1257b4",
   "metadata": {
    "ExecuteTime": {
     "end_time": "2023-01-25T12:53:05.976421Z",
     "start_time": "2023-01-25T12:53:05.964733Z"
    }
   },
   "outputs": [
    {
     "data": {
      "text/plain": [
       "array([ 12443,  29953, 109194, ...,   6376,  73982,  55794])"
      ]
     },
     "execution_count": 150,
     "metadata": {},
     "output_type": "execute_result"
    }
   ],
   "source": [
    "indexes[:, 1:].flatten()"
   ]
  },
  {
   "cell_type": "code",
   "execution_count": 151,
   "id": "823882d4",
   "metadata": {
    "ExecuteTime": {
     "end_time": "2023-01-25T12:53:06.444022Z",
     "start_time": "2023-01-25T12:53:06.432141Z"
    }
   },
   "outputs": [],
   "source": [
    "ranks = np.tile(list(range(1, n_neighbors)), 1000)"
   ]
  },
  {
   "cell_type": "code",
   "execution_count": 152,
   "id": "8ed65809",
   "metadata": {
    "ExecuteTime": {
     "end_time": "2023-01-25T12:53:07.077763Z",
     "start_time": "2023-01-25T12:53:07.067348Z"
    }
   },
   "outputs": [
    {
     "data": {
      "text/plain": [
       "array([ 1,  2,  3, ..., 17, 18, 19])"
      ]
     },
     "execution_count": 152,
     "metadata": {},
     "output_type": "execute_result"
    }
   ],
   "source": [
    "ranks"
   ]
  },
  {
   "cell_type": "code",
   "execution_count": 153,
   "id": "2d8f7e52",
   "metadata": {
    "ExecuteTime": {
     "end_time": "2023-01-25T12:53:07.574182Z",
     "start_time": "2023-01-25T12:53:07.563459Z"
    }
   },
   "outputs": [
    {
     "data": {
      "text/plain": [
       "(19000,)"
      ]
     },
     "execution_count": 153,
     "metadata": {},
     "output_type": "execute_result"
    }
   ],
   "source": [
    "ranks.shape"
   ]
  },
  {
   "cell_type": "code",
   "execution_count": 154,
   "id": "3fc44fc6",
   "metadata": {
    "ExecuteTime": {
     "end_time": "2023-01-25T12:53:08.114369Z",
     "start_time": "2023-01-25T12:53:08.102072Z"
    }
   },
   "outputs": [],
   "source": [
    "df_similarities = pd.DataFrame({\"wine_id\": wine_ids, \"wine_id_similarity\": wine_similarity, \"rank\": ranks})"
   ]
  },
  {
   "cell_type": "code",
   "execution_count": 155,
   "id": "bb353f30",
   "metadata": {
    "ExecuteTime": {
     "end_time": "2023-01-25T12:53:08.941535Z",
     "start_time": "2023-01-25T12:53:08.930675Z"
    }
   },
   "outputs": [
    {
     "data": {
      "text/plain": [
       "(19000, 3)"
      ]
     },
     "execution_count": 155,
     "metadata": {},
     "output_type": "execute_result"
    }
   ],
   "source": [
    "df_similarities.shapee"
   ]
  },
  {
   "cell_type": "code",
   "execution_count": 157,
   "id": "78c9f64b",
   "metadata": {
    "ExecuteTime": {
     "end_time": "2023-01-25T12:53:22.303749Z",
     "start_time": "2023-01-25T12:53:22.290269Z"
    }
   },
   "outputs": [
    {
     "data": {
      "text/html": [
       "<div>\n",
       "<style scoped>\n",
       "    .dataframe tbody tr th:only-of-type {\n",
       "        vertical-align: middle;\n",
       "    }\n",
       "\n",
       "    .dataframe tbody tr th {\n",
       "        vertical-align: top;\n",
       "    }\n",
       "\n",
       "    .dataframe thead th {\n",
       "        text-align: right;\n",
       "    }\n",
       "</style>\n",
       "<table border=\"1\" class=\"dataframe\">\n",
       "  <thead>\n",
       "    <tr style=\"text-align: right;\">\n",
       "      <th></th>\n",
       "      <th>wine_id</th>\n",
       "      <th>wine_id_similarity</th>\n",
       "      <th>rank</th>\n",
       "    </tr>\n",
       "  </thead>\n",
       "  <tbody>\n",
       "    <tr>\n",
       "      <th>0</th>\n",
       "      <td>0</td>\n",
       "      <td>12443</td>\n",
       "      <td>1</td>\n",
       "    </tr>\n",
       "    <tr>\n",
       "      <th>1</th>\n",
       "      <td>0</td>\n",
       "      <td>29953</td>\n",
       "      <td>2</td>\n",
       "    </tr>\n",
       "    <tr>\n",
       "      <th>2</th>\n",
       "      <td>0</td>\n",
       "      <td>109194</td>\n",
       "      <td>3</td>\n",
       "    </tr>\n",
       "    <tr>\n",
       "      <th>3</th>\n",
       "      <td>0</td>\n",
       "      <td>21650</td>\n",
       "      <td>4</td>\n",
       "    </tr>\n",
       "    <tr>\n",
       "      <th>4</th>\n",
       "      <td>0</td>\n",
       "      <td>48840</td>\n",
       "      <td>5</td>\n",
       "    </tr>\n",
       "    <tr>\n",
       "      <th>5</th>\n",
       "      <td>0</td>\n",
       "      <td>21521</td>\n",
       "      <td>6</td>\n",
       "    </tr>\n",
       "    <tr>\n",
       "      <th>6</th>\n",
       "      <td>0</td>\n",
       "      <td>101573</td>\n",
       "      <td>7</td>\n",
       "    </tr>\n",
       "    <tr>\n",
       "      <th>7</th>\n",
       "      <td>0</td>\n",
       "      <td>97641</td>\n",
       "      <td>8</td>\n",
       "    </tr>\n",
       "    <tr>\n",
       "      <th>8</th>\n",
       "      <td>0</td>\n",
       "      <td>30315</td>\n",
       "      <td>9</td>\n",
       "    </tr>\n",
       "    <tr>\n",
       "      <th>9</th>\n",
       "      <td>0</td>\n",
       "      <td>36036</td>\n",
       "      <td>10</td>\n",
       "    </tr>\n",
       "    <tr>\n",
       "      <th>10</th>\n",
       "      <td>0</td>\n",
       "      <td>67207</td>\n",
       "      <td>11</td>\n",
       "    </tr>\n",
       "    <tr>\n",
       "      <th>11</th>\n",
       "      <td>0</td>\n",
       "      <td>110726</td>\n",
       "      <td>12</td>\n",
       "    </tr>\n",
       "    <tr>\n",
       "      <th>12</th>\n",
       "      <td>0</td>\n",
       "      <td>108691</td>\n",
       "      <td>13</td>\n",
       "    </tr>\n",
       "    <tr>\n",
       "      <th>13</th>\n",
       "      <td>0</td>\n",
       "      <td>23821</td>\n",
       "      <td>14</td>\n",
       "    </tr>\n",
       "    <tr>\n",
       "      <th>14</th>\n",
       "      <td>0</td>\n",
       "      <td>9918</td>\n",
       "      <td>15</td>\n",
       "    </tr>\n",
       "    <tr>\n",
       "      <th>15</th>\n",
       "      <td>0</td>\n",
       "      <td>96666</td>\n",
       "      <td>16</td>\n",
       "    </tr>\n",
       "    <tr>\n",
       "      <th>16</th>\n",
       "      <td>0</td>\n",
       "      <td>117834</td>\n",
       "      <td>17</td>\n",
       "    </tr>\n",
       "    <tr>\n",
       "      <th>17</th>\n",
       "      <td>0</td>\n",
       "      <td>59018</td>\n",
       "      <td>18</td>\n",
       "    </tr>\n",
       "    <tr>\n",
       "      <th>18</th>\n",
       "      <td>0</td>\n",
       "      <td>83110</td>\n",
       "      <td>19</td>\n",
       "    </tr>\n",
       "    <tr>\n",
       "      <th>19</th>\n",
       "      <td>1</td>\n",
       "      <td>7683</td>\n",
       "      <td>1</td>\n",
       "    </tr>\n",
       "  </tbody>\n",
       "</table>\n",
       "</div>"
      ],
      "text/plain": [
       "    wine_id  wine_id_similarity  rank\n",
       "0         0               12443     1\n",
       "1         0               29953     2\n",
       "2         0              109194     3\n",
       "3         0               21650     4\n",
       "4         0               48840     5\n",
       "5         0               21521     6\n",
       "6         0              101573     7\n",
       "7         0               97641     8\n",
       "8         0               30315     9\n",
       "9         0               36036    10\n",
       "10        0               67207    11\n",
       "11        0              110726    12\n",
       "12        0              108691    13\n",
       "13        0               23821    14\n",
       "14        0                9918    15\n",
       "15        0               96666    16\n",
       "16        0              117834    17\n",
       "17        0               59018    18\n",
       "18        0               83110    19\n",
       "19        1                7683     1"
      ]
     },
     "execution_count": 157,
     "metadata": {},
     "output_type": "execute_result"
    }
   ],
   "source": [
    "df_similarities.head(20)"
   ]
  },
  {
   "cell_type": "code",
   "execution_count": null,
   "id": "164c3627",
   "metadata": {},
   "outputs": [],
   "source": [
    "for i in range(indexes.s)"
   ]
  },
  {
   "cell_type": "code",
   "execution_count": null,
   "id": "418c6d2c",
   "metadata": {
    "ExecuteTime": {
     "end_time": "2023-01-25T12:12:46.453332Z",
     "start_time": "2023-01-25T12:12:46.453322Z"
    },
    "scrolled": true
   },
   "outputs": [],
   "source": [
    "df.iloc[0, :]"
   ]
  },
  {
   "cell_type": "code",
   "execution_count": null,
   "id": "75aff15f",
   "metadata": {
    "ExecuteTime": {
     "end_time": "2023-01-25T12:12:46.464652Z",
     "start_time": "2023-01-25T12:12:46.464635Z"
    }
   },
   "outputs": [],
   "source": [
    "df.iloc[101380, :]"
   ]
  },
  {
   "cell_type": "code",
   "execution_count": null,
   "id": "8caa1e79",
   "metadata": {},
   "outputs": [],
   "source": []
  }
 ],
 "metadata": {
  "kernelspec": {
   "display_name": "Python 3 (ipykernel)",
   "language": "python",
   "name": "python3"
  },
  "language_info": {
   "codemirror_mode": {
    "name": "ipython",
    "version": 3
   },
   "file_extension": ".py",
   "mimetype": "text/x-python",
   "name": "python",
   "nbconvert_exporter": "python",
   "pygments_lexer": "ipython3",
   "version": "3.10.6"
  }
 },
 "nbformat": 4,
 "nbformat_minor": 5
}
